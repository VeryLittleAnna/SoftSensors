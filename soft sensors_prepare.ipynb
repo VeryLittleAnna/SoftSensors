{
 "cells": [
  {
   "cell_type": "code",
   "execution_count": 60,
   "id": "5317457a",
   "metadata": {},
   "outputs": [],
   "source": [
    "%load_ext autoreload\n",
    "%autoreload 2"
   ]
  },
  {
   "cell_type": "code",
   "execution_count": 61,
   "id": "49f6bbdd",
   "metadata": {},
   "outputs": [],
   "source": [
    "import pandas as pd\n",
    "import numpy as np\n",
    "import matplotlib.pyplot as plt\n",
    "from scipy import signal"
   ]
  },
  {
   "cell_type": "code",
   "execution_count": 2,
   "id": "e148572a",
   "metadata": {},
   "outputs": [],
   "source": [
    "renaming = {'35_21_1000_CCR_CAT_RON': '35_21_1000.Q.KatKlD.1444.octanI', '35_21_1000.Q.KatKlAB.DavNpar': '35_21_1000_CCR_CAT_RVP', \n",
    "            '35_21_1000.Q.KatKlAB.EBen70':'35_21_1000_CCR_CAT_70', '35_21_1000.Q.KatKlAB.AroPf.v':'35_21_1000_CCR_CAT_AR',\n",
    "            '35_21_1000.Q.KatKlD.1444.octanI':'35_21_1000_CCR_CAT_RON', '35_21_1000_CCR_CAT_RVP':'35_21_1000.Q.KatKlAB.DavNpar',\n",
    "            '35_21_1000_CCR_CAT_70':'35_21_1000.Q.KatKlAB.EBen70', '35_21_1000_CCR_CAT_AR':'35_21_1000.Q.KatKlAB.AroPf.v',\n",
    "            }"
   ]
  },
  {
   "cell_type": "code",
   "execution_count": 3,
   "id": "d22cdb7c",
   "metadata": {},
   "outputs": [],
   "source": [
    "soft = ['35_21_1000.Q.KatKlD.1444.octanI', '35_21_1000.Q.KatKlAB.DavNpar', '35_21_1000.Q.KatKlAB.EBen70', '35_21_1000.Q.KatKlAB.AroPf.v']"
   ]
  },
  {
   "cell_type": "code",
   "execution_count": 4,
   "id": "c7d9a4d1",
   "metadata": {},
   "outputs": [],
   "source": [
    "data = pd.read_csv(\"Dataset1.csv\", sep=\";\")"
   ]
  },
  {
   "cell_type": "code",
   "execution_count": 5,
   "id": "5959d13e",
   "metadata": {},
   "outputs": [
    {
     "data": {
      "text/plain": [
       "(2040480, 68)"
      ]
     },
     "execution_count": 5,
     "metadata": {},
     "output_type": "execute_result"
    }
   ],
   "source": [
    "data.shape"
   ]
  },
  {
   "cell_type": "code",
   "execution_count": 6,
   "id": "560eed2c",
   "metadata": {},
   "outputs": [
    {
     "data": {
      "text/html": [
       "<div>\n",
       "<style scoped>\n",
       "    .dataframe tbody tr th:only-of-type {\n",
       "        vertical-align: middle;\n",
       "    }\n",
       "\n",
       "    .dataframe tbody tr th {\n",
       "        vertical-align: top;\n",
       "    }\n",
       "\n",
       "    .dataframe thead th {\n",
       "        text-align: right;\n",
       "    }\n",
       "</style>\n",
       "<table border=\"1\" class=\"dataframe\">\n",
       "  <thead>\n",
       "    <tr style=\"text-align: right;\">\n",
       "      <th></th>\n",
       "      <th>Timestamp</th>\n",
       "      <th>35_21_1000.Q.KatKlAB.AroPf.v</th>\n",
       "      <th>35_21_1000.Q.KatKlAB.DavNpar</th>\n",
       "      <th>35_21_1000.Q.KatKlAB.EBen70</th>\n",
       "      <th>35_21_1000.Q.KatKlD.1444.octanI</th>\n",
       "      <th>35_21_1000_CCR_CAT_70</th>\n",
       "      <th>35_21_1000_CCR_CAT_AR</th>\n",
       "      <th>35_21_1000_CCR_CAT_RON</th>\n",
       "      <th>35_21_1000_CCR_CAT_RVP</th>\n",
       "      <th>35_21_1000_FC_3121.SP</th>\n",
       "      <th>...</th>\n",
       "      <th>35_21_1000_TI_3305</th>\n",
       "      <th>35_21_1000_TI_3581</th>\n",
       "      <th>CCR_CCR300_CV_3DT_H1_VAL</th>\n",
       "      <th>CCR_CCR300_CV_DT_R12_VAL</th>\n",
       "      <th>CCR_CCR300_CV_DT_R23_VAL</th>\n",
       "      <th>CCR_CCR300_CV_DT_R34_VAL</th>\n",
       "      <th>CCR_CCR300_CV_DT_R41_VAL</th>\n",
       "      <th>CCR_CCR300_CV_FI_3101PTC_VAL</th>\n",
       "      <th>CCR_CCR300_CV_PC_3180_OP_VAL</th>\n",
       "      <th>CCR_CCR300_CV_WAIT_SP_VAL</th>\n",
       "    </tr>\n",
       "  </thead>\n",
       "  <tbody>\n",
       "    <tr>\n",
       "      <th>0</th>\n",
       "      <td>01.01.2016 00:00:00</td>\n",
       "      <td>65.59</td>\n",
       "      <td>48.0</td>\n",
       "      <td>6.0</td>\n",
       "      <td>98.9</td>\n",
       "      <td>6.87640</td>\n",
       "      <td>64.05901</td>\n",
       "      <td>98.45841</td>\n",
       "      <td>56.06648</td>\n",
       "      <td>0.00292</td>\n",
       "      <td>...</td>\n",
       "      <td>134.7649</td>\n",
       "      <td>25.61035</td>\n",
       "      <td>90.86990</td>\n",
       "      <td>-3.72980</td>\n",
       "      <td>-7.13281</td>\n",
       "      <td>-1.0</td>\n",
       "      <td>11.86261</td>\n",
       "      <td>59.14596</td>\n",
       "      <td>70.77777</td>\n",
       "      <td>519.1353</td>\n",
       "    </tr>\n",
       "    <tr>\n",
       "      <th>1</th>\n",
       "      <td>01.01.2016 00:01:00</td>\n",
       "      <td>65.59</td>\n",
       "      <td>48.0</td>\n",
       "      <td>6.0</td>\n",
       "      <td>98.9</td>\n",
       "      <td>6.86923</td>\n",
       "      <td>64.01093</td>\n",
       "      <td>98.45134</td>\n",
       "      <td>56.04396</td>\n",
       "      <td>0.00292</td>\n",
       "      <td>...</td>\n",
       "      <td>134.8389</td>\n",
       "      <td>25.61035</td>\n",
       "      <td>90.90942</td>\n",
       "      <td>-3.72989</td>\n",
       "      <td>-7.13306</td>\n",
       "      <td>-1.0</td>\n",
       "      <td>11.86295</td>\n",
       "      <td>59.18106</td>\n",
       "      <td>70.93322</td>\n",
       "      <td>519.1353</td>\n",
       "    </tr>\n",
       "    <tr>\n",
       "      <th>2</th>\n",
       "      <td>01.01.2016 00:02:00</td>\n",
       "      <td>65.59</td>\n",
       "      <td>48.0</td>\n",
       "      <td>6.0</td>\n",
       "      <td>98.9</td>\n",
       "      <td>6.86095</td>\n",
       "      <td>63.99218</td>\n",
       "      <td>98.44153</td>\n",
       "      <td>56.01728</td>\n",
       "      <td>0.00292</td>\n",
       "      <td>...</td>\n",
       "      <td>134.6192</td>\n",
       "      <td>25.61055</td>\n",
       "      <td>90.88013</td>\n",
       "      <td>-3.73050</td>\n",
       "      <td>-7.13440</td>\n",
       "      <td>-1.0</td>\n",
       "      <td>11.86490</td>\n",
       "      <td>59.16980</td>\n",
       "      <td>70.03181</td>\n",
       "      <td>519.1346</td>\n",
       "    </tr>\n",
       "    <tr>\n",
       "      <th>3</th>\n",
       "      <td>01.01.2016 00:03:00</td>\n",
       "      <td>65.59</td>\n",
       "      <td>48.0</td>\n",
       "      <td>6.0</td>\n",
       "      <td>98.9</td>\n",
       "      <td>6.85725</td>\n",
       "      <td>63.98800</td>\n",
       "      <td>98.44115</td>\n",
       "      <td>56.01207</td>\n",
       "      <td>0.00292</td>\n",
       "      <td>...</td>\n",
       "      <td>134.6191</td>\n",
       "      <td>25.63477</td>\n",
       "      <td>90.87057</td>\n",
       "      <td>-3.73145</td>\n",
       "      <td>-7.13660</td>\n",
       "      <td>-1.0</td>\n",
       "      <td>11.86804</td>\n",
       "      <td>59.30387</td>\n",
       "      <td>70.46443</td>\n",
       "      <td>519.1337</td>\n",
       "    </tr>\n",
       "    <tr>\n",
       "      <th>4</th>\n",
       "      <td>01.01.2016 00:04:00</td>\n",
       "      <td>65.59</td>\n",
       "      <td>48.0</td>\n",
       "      <td>6.0</td>\n",
       "      <td>98.9</td>\n",
       "      <td>6.85561</td>\n",
       "      <td>63.98110</td>\n",
       "      <td>98.43896</td>\n",
       "      <td>56.00104</td>\n",
       "      <td>0.00292</td>\n",
       "      <td>...</td>\n",
       "      <td>134.6191</td>\n",
       "      <td>25.63477</td>\n",
       "      <td>90.90518</td>\n",
       "      <td>-3.73212</td>\n",
       "      <td>-7.13818</td>\n",
       "      <td>-1.0</td>\n",
       "      <td>11.87030</td>\n",
       "      <td>59.26101</td>\n",
       "      <td>69.81942</td>\n",
       "      <td>519.1330</td>\n",
       "    </tr>\n",
       "  </tbody>\n",
       "</table>\n",
       "<p>5 rows × 68 columns</p>\n",
       "</div>"
      ],
      "text/plain": [
       "             Timestamp  35_21_1000.Q.KatKlAB.AroPf.v  \\\n",
       "0  01.01.2016 00:00:00                         65.59   \n",
       "1  01.01.2016 00:01:00                         65.59   \n",
       "2  01.01.2016 00:02:00                         65.59   \n",
       "3  01.01.2016 00:03:00                         65.59   \n",
       "4  01.01.2016 00:04:00                         65.59   \n",
       "\n",
       "   35_21_1000.Q.KatKlAB.DavNpar  35_21_1000.Q.KatKlAB.EBen70  \\\n",
       "0                          48.0                          6.0   \n",
       "1                          48.0                          6.0   \n",
       "2                          48.0                          6.0   \n",
       "3                          48.0                          6.0   \n",
       "4                          48.0                          6.0   \n",
       "\n",
       "   35_21_1000.Q.KatKlD.1444.octanI  35_21_1000_CCR_CAT_70  \\\n",
       "0                             98.9                6.87640   \n",
       "1                             98.9                6.86923   \n",
       "2                             98.9                6.86095   \n",
       "3                             98.9                6.85725   \n",
       "4                             98.9                6.85561   \n",
       "\n",
       "   35_21_1000_CCR_CAT_AR  35_21_1000_CCR_CAT_RON  35_21_1000_CCR_CAT_RVP  \\\n",
       "0               64.05901                98.45841                56.06648   \n",
       "1               64.01093                98.45134                56.04396   \n",
       "2               63.99218                98.44153                56.01728   \n",
       "3               63.98800                98.44115                56.01207   \n",
       "4               63.98110                98.43896                56.00104   \n",
       "\n",
       "   35_21_1000_FC_3121.SP  ...  35_21_1000_TI_3305  35_21_1000_TI_3581  \\\n",
       "0                0.00292  ...            134.7649            25.61035   \n",
       "1                0.00292  ...            134.8389            25.61035   \n",
       "2                0.00292  ...            134.6192            25.61055   \n",
       "3                0.00292  ...            134.6191            25.63477   \n",
       "4                0.00292  ...            134.6191            25.63477   \n",
       "\n",
       "   CCR_CCR300_CV_3DT_H1_VAL  CCR_CCR300_CV_DT_R12_VAL  \\\n",
       "0                  90.86990                  -3.72980   \n",
       "1                  90.90942                  -3.72989   \n",
       "2                  90.88013                  -3.73050   \n",
       "3                  90.87057                  -3.73145   \n",
       "4                  90.90518                  -3.73212   \n",
       "\n",
       "   CCR_CCR300_CV_DT_R23_VAL  CCR_CCR300_CV_DT_R34_VAL  \\\n",
       "0                  -7.13281                      -1.0   \n",
       "1                  -7.13306                      -1.0   \n",
       "2                  -7.13440                      -1.0   \n",
       "3                  -7.13660                      -1.0   \n",
       "4                  -7.13818                      -1.0   \n",
       "\n",
       "   CCR_CCR300_CV_DT_R41_VAL  CCR_CCR300_CV_FI_3101PTC_VAL  \\\n",
       "0                  11.86261                      59.14596   \n",
       "1                  11.86295                      59.18106   \n",
       "2                  11.86490                      59.16980   \n",
       "3                  11.86804                      59.30387   \n",
       "4                  11.87030                      59.26101   \n",
       "\n",
       "   CCR_CCR300_CV_PC_3180_OP_VAL  CCR_CCR300_CV_WAIT_SP_VAL  \n",
       "0                      70.77777                   519.1353  \n",
       "1                      70.93322                   519.1353  \n",
       "2                      70.03181                   519.1346  \n",
       "3                      70.46443                   519.1337  \n",
       "4                      69.81942                   519.1330  \n",
       "\n",
       "[5 rows x 68 columns]"
      ]
     },
     "execution_count": 6,
     "metadata": {},
     "output_type": "execute_result"
    }
   ],
   "source": [
    "data.head()"
   ]
  },
  {
   "cell_type": "code",
   "execution_count": 7,
   "id": "bca4d451",
   "metadata": {},
   "outputs": [
    {
     "data": {
      "text/plain": [
       "Index(['Timestamp', '35_21_1000.Q.KatKlAB.AroPf.v',\n",
       "       '35_21_1000.Q.KatKlAB.DavNpar', '35_21_1000.Q.KatKlAB.EBen70',\n",
       "       '35_21_1000.Q.KatKlD.1444.octanI', '35_21_1000_CCR_CAT_70',\n",
       "       '35_21_1000_CCR_CAT_AR', '35_21_1000_CCR_CAT_RON',\n",
       "       '35_21_1000_CCR_CAT_RVP', '35_21_1000_FC_3121.SP', '35_21_1000_FC_3122',\n",
       "       '35_21_1000_FC_321.SP', '35_21_1000_FI_3101', '35_21_1000_FI_3130',\n",
       "       '35_21_1000_FI_326', '35_21_1000_FRQ_140', '35_21_1000_LC_208.OP',\n",
       "       '35_21_1000_LC_3116.OP', '35_21_1000_PC_1214', '35_21_1000_PC_3123',\n",
       "       '35_21_1000_PC_3123.OP', '35_21_1000_PC_3147', '35_21_1000_PC_3147.OP',\n",
       "       '35_21_1000_PC_3158', '35_21_1000_PC_3158.OP', '35_21_1000_PC_3169',\n",
       "       '35_21_1000_PC_3169.OP', '35_21_1000_PC_3180', '35_21_1000_PC_3194',\n",
       "       '35_21_1000_PC_3194.OP', '35_21_1000_PI_3300', '35_21_1000_PI_3306',\n",
       "       '35_21_1000_TC_301.OP', '35_21_1000_TC_301.SP', '35_21_1000_TC_304.OP',\n",
       "       '35_21_1000_TC_304.SP', '35_21_1000_TC_307.OP', '35_21_1000_TC_307.SP',\n",
       "       '35_21_1000_TC_310.OP', '35_21_1000_TC_310.SP', '35_21_1000_TC_3119.OP',\n",
       "       '35_21_1000_TC_3119.SP', '35_21_1000_TI_302', '35_21_1000_TI_305',\n",
       "       '35_21_1000_TI_308', '35_21_1000_TI_311', '35_21_1000_TI_3111',\n",
       "       '35_21_1000_TI_3114', '35_21_1000_TI_3115', '35_21_1000_TI_313',\n",
       "       '35_21_1000_TI_3138', '35_21_1000_TI_314', '35_21_1000_TI_3149',\n",
       "       '35_21_1000_TI_315', '35_21_1000_TI_316', '35_21_1000_TI_3160',\n",
       "       '35_21_1000_TI_3171', '35_21_1000_TI_3184', '35_21_1000_TI_3305',\n",
       "       '35_21_1000_TI_3581', 'CCR_CCR300_CV_3DT_H1_VAL',\n",
       "       'CCR_CCR300_CV_DT_R12_VAL', 'CCR_CCR300_CV_DT_R23_VAL',\n",
       "       'CCR_CCR300_CV_DT_R34_VAL', 'CCR_CCR300_CV_DT_R41_VAL',\n",
       "       'CCR_CCR300_CV_FI_3101PTC_VAL', 'CCR_CCR300_CV_PC_3180_OP_VAL',\n",
       "       'CCR_CCR300_CV_WAIT_SP_VAL'],\n",
       "      dtype='object')"
      ]
     },
     "execution_count": 7,
     "metadata": {},
     "output_type": "execute_result"
    }
   ],
   "source": [
    "data.columns"
   ]
  },
  {
   "cell_type": "code",
   "execution_count": 8,
   "id": "87935413",
   "metadata": {},
   "outputs": [
    {
     "data": {
      "text/plain": [
       "array([[<AxesSubplot:title={'center':'35_21_1000.Q.KatKlD.1444.octanI'}>,\n",
       "        <AxesSubplot:title={'center':'35_21_1000.Q.KatKlAB.DavNpar'}>],\n",
       "       [<AxesSubplot:title={'center':'35_21_1000.Q.KatKlAB.EBen70'}>,\n",
       "        <AxesSubplot:title={'center':'35_21_1000.Q.KatKlAB.AroPf.v'}>]],\n",
       "      dtype=object)"
      ]
     },
     "execution_count": 8,
     "metadata": {},
     "output_type": "execute_result"
    },
    {
     "data": {
      "image/png": "[encoded data removed]",
      "text/plain": [
       "<Figure size 640x480 with 4 Axes>"
      ]
     },
     "metadata": {},
     "output_type": "display_data"
    }
   ],
   "source": [
    "data[soft].hist(bins=100)"
   ]
  },
  {
   "cell_type": "code",
   "execution_count": 9,
   "id": "a17efc15",
   "metadata": {},
   "outputs": [],
   "source": [
    "def check_periods(a):\n",
    "    tmp = data[a].diff().dropna() != 0.0\n",
    "    print(f'\\n{a}\\ncnt: {tmp.sum()}')\n",
    "    inds = np.diff(np.where(tmp)[0])\n",
    "    tmp = np.unique(inds, return_counts=True)\n",
    "    print(f\"min = {tmp[0][0]}\")\n",
    "    print(sorted([(y, x) for x, y in zip(*tmp)], reverse=True)[:5])"
   ]
  },
  {
   "cell_type": "code",
   "execution_count": 10,
   "id": "6ef1a202",
   "metadata": {},
   "outputs": [
    {
     "name": "stdout",
     "output_type": "stream",
     "text": [
      "\n",
      "35_21_1000.Q.KatKlD.1444.octanI\n",
      "cnt: 1217\n",
      "min = 48\n",
      "[(958, 1440), (130, 2880), (14, 4320), (7, 480), (6, 960)]\n",
      "\n",
      "35_21_1000.Q.KatKlAB.DavNpar\n",
      "cnt: 842\n",
      "min = 120\n",
      "[(493, 2880), (267, 1440), (12, 240), (11, 2640), (5, 1200)]\n",
      "\n",
      "35_21_1000.Q.KatKlAB.EBen70\n",
      "cnt: 1278\n",
      "min = 120\n",
      "[(1145, 1440), (78, 2880), (5, 960), (5, 480), (2, 1380)]\n",
      "\n",
      "35_21_1000.Q.KatKlAB.AroPf.v\n",
      "cnt: 867\n",
      "min = 120\n",
      "[(459, 2880), (325, 1440), (6, 4320), (3, 5760), (3, 960)]\n"
     ]
    }
   ],
   "source": [
    "for name in soft:\n",
    "    check_periods(name)"
   ]
  },
  {
   "cell_type": "markdown",
   "id": "54ca392f",
   "metadata": {},
   "source": [
    "Период 1440 минут (24 часа)"
   ]
  },
  {
   "cell_type": "code",
   "execution_count": 11,
   "id": "cf56c078",
   "metadata": {},
   "outputs": [],
   "source": [
    "#Берем пока значения при изменениях\n",
    "data1 = pd.read_csv(\"Dataset1.csv\", sep=\";\")\n",
    "for s in soft:\n",
    "    mask = data1[s].diff() != 0.0\n",
    "    new_val = data1[s].to_numpy().copy()\n",
    "    new_val[~mask] = np.NaN\n",
    "    data1[s] = new_val\n",
    "#     data[s][~mask] = np.NaN"
   ]
  },
  {
   "cell_type": "code",
   "execution_count": 12,
   "id": "f1e3e2a2",
   "metadata": {},
   "outputs": [],
   "source": [
    "data1.drop([renaming[s] for s in soft], axis=1, inplace=True)"
   ]
  },
  {
   "cell_type": "code",
   "execution_count": 13,
   "id": "55650522",
   "metadata": {},
   "outputs": [
    {
     "data": {
      "text/plain": [
       "(2040480, 64)"
      ]
     },
     "execution_count": 13,
     "metadata": {},
     "output_type": "execute_result"
    }
   ],
   "source": [
    "data1.shape"
   ]
  },
  {
   "cell_type": "code",
   "execution_count": 14,
   "id": "0242b35c",
   "metadata": {},
   "outputs": [
    {
     "data": {
      "text/html": [
       "<div>\n",
       "<style scoped>\n",
       "    .dataframe tbody tr th:only-of-type {\n",
       "        vertical-align: middle;\n",
       "    }\n",
       "\n",
       "    .dataframe tbody tr th {\n",
       "        vertical-align: top;\n",
       "    }\n",
       "\n",
       "    .dataframe thead th {\n",
       "        text-align: right;\n",
       "    }\n",
       "</style>\n",
       "<table border=\"1\" class=\"dataframe\">\n",
       "  <thead>\n",
       "    <tr style=\"text-align: right;\">\n",
       "      <th></th>\n",
       "      <th>Timestamp</th>\n",
       "      <th>35_21_1000.Q.KatKlAB.AroPf.v</th>\n",
       "      <th>35_21_1000.Q.KatKlAB.DavNpar</th>\n",
       "      <th>35_21_1000.Q.KatKlAB.EBen70</th>\n",
       "      <th>35_21_1000.Q.KatKlD.1444.octanI</th>\n",
       "      <th>35_21_1000_FC_3121.SP</th>\n",
       "      <th>35_21_1000_FC_3122</th>\n",
       "      <th>35_21_1000_FC_321.SP</th>\n",
       "      <th>35_21_1000_FI_3101</th>\n",
       "      <th>35_21_1000_FI_3130</th>\n",
       "      <th>...</th>\n",
       "      <th>35_21_1000_TI_3305</th>\n",
       "      <th>35_21_1000_TI_3581</th>\n",
       "      <th>CCR_CCR300_CV_3DT_H1_VAL</th>\n",
       "      <th>CCR_CCR300_CV_DT_R12_VAL</th>\n",
       "      <th>CCR_CCR300_CV_DT_R23_VAL</th>\n",
       "      <th>CCR_CCR300_CV_DT_R34_VAL</th>\n",
       "      <th>CCR_CCR300_CV_DT_R41_VAL</th>\n",
       "      <th>CCR_CCR300_CV_FI_3101PTC_VAL</th>\n",
       "      <th>CCR_CCR300_CV_PC_3180_OP_VAL</th>\n",
       "      <th>CCR_CCR300_CV_WAIT_SP_VAL</th>\n",
       "    </tr>\n",
       "  </thead>\n",
       "  <tbody>\n",
       "    <tr>\n",
       "      <th>0</th>\n",
       "      <td>01.01.2016 00:00:00</td>\n",
       "      <td>65.59</td>\n",
       "      <td>48.0</td>\n",
       "      <td>6.0</td>\n",
       "      <td>98.9</td>\n",
       "      <td>0.00292</td>\n",
       "      <td>33.61328</td>\n",
       "      <td>194.0002</td>\n",
       "      <td>59.90619</td>\n",
       "      <td>2798.065</td>\n",
       "      <td>...</td>\n",
       "      <td>134.7649</td>\n",
       "      <td>25.61035</td>\n",
       "      <td>90.86990</td>\n",
       "      <td>-3.72980</td>\n",
       "      <td>-7.13281</td>\n",
       "      <td>-1.0</td>\n",
       "      <td>11.86261</td>\n",
       "      <td>59.14596</td>\n",
       "      <td>70.77777</td>\n",
       "      <td>519.1353</td>\n",
       "    </tr>\n",
       "    <tr>\n",
       "      <th>1</th>\n",
       "      <td>01.01.2016 00:01:00</td>\n",
       "      <td>NaN</td>\n",
       "      <td>NaN</td>\n",
       "      <td>NaN</td>\n",
       "      <td>NaN</td>\n",
       "      <td>0.00292</td>\n",
       "      <td>33.77030</td>\n",
       "      <td>194.0002</td>\n",
       "      <td>60.26051</td>\n",
       "      <td>2826.544</td>\n",
       "      <td>...</td>\n",
       "      <td>134.8389</td>\n",
       "      <td>25.61035</td>\n",
       "      <td>90.90942</td>\n",
       "      <td>-3.72989</td>\n",
       "      <td>-7.13306</td>\n",
       "      <td>-1.0</td>\n",
       "      <td>11.86295</td>\n",
       "      <td>59.18106</td>\n",
       "      <td>70.93322</td>\n",
       "      <td>519.1353</td>\n",
       "    </tr>\n",
       "    <tr>\n",
       "      <th>2</th>\n",
       "      <td>01.01.2016 00:02:00</td>\n",
       "      <td>NaN</td>\n",
       "      <td>NaN</td>\n",
       "      <td>NaN</td>\n",
       "      <td>NaN</td>\n",
       "      <td>0.00292</td>\n",
       "      <td>33.86683</td>\n",
       "      <td>194.0002</td>\n",
       "      <td>60.16202</td>\n",
       "      <td>2817.218</td>\n",
       "      <td>...</td>\n",
       "      <td>134.6192</td>\n",
       "      <td>25.61055</td>\n",
       "      <td>90.88013</td>\n",
       "      <td>-3.73050</td>\n",
       "      <td>-7.13440</td>\n",
       "      <td>-1.0</td>\n",
       "      <td>11.86490</td>\n",
       "      <td>59.16980</td>\n",
       "      <td>70.03181</td>\n",
       "      <td>519.1346</td>\n",
       "    </tr>\n",
       "    <tr>\n",
       "      <th>3</th>\n",
       "      <td>01.01.2016 00:03:00</td>\n",
       "      <td>NaN</td>\n",
       "      <td>NaN</td>\n",
       "      <td>NaN</td>\n",
       "      <td>NaN</td>\n",
       "      <td>0.00292</td>\n",
       "      <td>34.00380</td>\n",
       "      <td>194.0002</td>\n",
       "      <td>60.28071</td>\n",
       "      <td>2806.594</td>\n",
       "      <td>...</td>\n",
       "      <td>134.6191</td>\n",
       "      <td>25.63477</td>\n",
       "      <td>90.87057</td>\n",
       "      <td>-3.73145</td>\n",
       "      <td>-7.13660</td>\n",
       "      <td>-1.0</td>\n",
       "      <td>11.86804</td>\n",
       "      <td>59.30387</td>\n",
       "      <td>70.46443</td>\n",
       "      <td>519.1337</td>\n",
       "    </tr>\n",
       "    <tr>\n",
       "      <th>4</th>\n",
       "      <td>01.01.2016 00:04:00</td>\n",
       "      <td>NaN</td>\n",
       "      <td>NaN</td>\n",
       "      <td>NaN</td>\n",
       "      <td>NaN</td>\n",
       "      <td>0.00292</td>\n",
       "      <td>33.70545</td>\n",
       "      <td>194.0002</td>\n",
       "      <td>59.33250</td>\n",
       "      <td>2774.242</td>\n",
       "      <td>...</td>\n",
       "      <td>134.6191</td>\n",
       "      <td>25.63477</td>\n",
       "      <td>90.90518</td>\n",
       "      <td>-3.73212</td>\n",
       "      <td>-7.13818</td>\n",
       "      <td>-1.0</td>\n",
       "      <td>11.87030</td>\n",
       "      <td>59.26101</td>\n",
       "      <td>69.81942</td>\n",
       "      <td>519.1330</td>\n",
       "    </tr>\n",
       "  </tbody>\n",
       "</table>\n",
       "<p>5 rows × 64 columns</p>\n",
       "</div>"
      ],
      "text/plain": [
       "             Timestamp  35_21_1000.Q.KatKlAB.AroPf.v  \\\n",
       "0  01.01.2016 00:00:00                         65.59   \n",
       "1  01.01.2016 00:01:00                           NaN   \n",
       "2  01.01.2016 00:02:00                           NaN   \n",
       "3  01.01.2016 00:03:00                           NaN   \n",
       "4  01.01.2016 00:04:00                           NaN   \n",
       "\n",
       "   35_21_1000.Q.KatKlAB.DavNpar  35_21_1000.Q.KatKlAB.EBen70  \\\n",
       "0                          48.0                          6.0   \n",
       "1                           NaN                          NaN   \n",
       "2                           NaN                          NaN   \n",
       "3                           NaN                          NaN   \n",
       "4                           NaN                          NaN   \n",
       "\n",
       "   35_21_1000.Q.KatKlD.1444.octanI  35_21_1000_FC_3121.SP  35_21_1000_FC_3122  \\\n",
       "0                             98.9                0.00292            33.61328   \n",
       "1                              NaN                0.00292            33.77030   \n",
       "2                              NaN                0.00292            33.86683   \n",
       "3                              NaN                0.00292            34.00380   \n",
       "4                              NaN                0.00292            33.70545   \n",
       "\n",
       "   35_21_1000_FC_321.SP  35_21_1000_FI_3101  35_21_1000_FI_3130  ...  \\\n",
       "0              194.0002            59.90619            2798.065  ...   \n",
       "1              194.0002            60.26051            2826.544  ...   \n",
       "2              194.0002            60.16202            2817.218  ...   \n",
       "3              194.0002            60.28071            2806.594  ...   \n",
       "4              194.0002            59.33250            2774.242  ...   \n",
       "\n",
       "   35_21_1000_TI_3305  35_21_1000_TI_3581  CCR_CCR300_CV_3DT_H1_VAL  \\\n",
       "0            134.7649            25.61035                  90.86990   \n",
       "1            134.8389            25.61035                  90.90942   \n",
       "2            134.6192            25.61055                  90.88013   \n",
       "3            134.6191            25.63477                  90.87057   \n",
       "4            134.6191            25.63477                  90.90518   \n",
       "\n",
       "   CCR_CCR300_CV_DT_R12_VAL  CCR_CCR300_CV_DT_R23_VAL  \\\n",
       "0                  -3.72980                  -7.13281   \n",
       "1                  -3.72989                  -7.13306   \n",
       "2                  -3.73050                  -7.13440   \n",
       "3                  -3.73145                  -7.13660   \n",
       "4                  -3.73212                  -7.13818   \n",
       "\n",
       "   CCR_CCR300_CV_DT_R34_VAL  CCR_CCR300_CV_DT_R41_VAL  \\\n",
       "0                      -1.0                  11.86261   \n",
       "1                      -1.0                  11.86295   \n",
       "2                      -1.0                  11.86490   \n",
       "3                      -1.0                  11.86804   \n",
       "4                      -1.0                  11.87030   \n",
       "\n",
       "   CCR_CCR300_CV_FI_3101PTC_VAL  CCR_CCR300_CV_PC_3180_OP_VAL  \\\n",
       "0                      59.14596                      70.77777   \n",
       "1                      59.18106                      70.93322   \n",
       "2                      59.16980                      70.03181   \n",
       "3                      59.30387                      70.46443   \n",
       "4                      59.26101                      69.81942   \n",
       "\n",
       "   CCR_CCR300_CV_WAIT_SP_VAL  \n",
       "0                   519.1353  \n",
       "1                   519.1353  \n",
       "2                   519.1346  \n",
       "3                   519.1337  \n",
       "4                   519.1330  \n",
       "\n",
       "[5 rows x 64 columns]"
      ]
     },
     "execution_count": 14,
     "metadata": {},
     "output_type": "execute_result"
    }
   ],
   "source": [
    "data1.head()"
   ]
  },
  {
   "cell_type": "code",
   "execution_count": 38,
   "id": "e735d854",
   "metadata": {},
   "outputs": [
    {
     "data": {
      "text/plain": [
       "Index(['Timestamp', '35_21_1000.Q.KatKlAB.AroPf.v',\n",
       "       '35_21_1000.Q.KatKlAB.DavNpar', '35_21_1000.Q.KatKlAB.EBen70',\n",
       "       '35_21_1000.Q.KatKlD.1444.octanI', '35_21_1000_FC_3121.SP',\n",
       "       '35_21_1000_FC_3122', '35_21_1000_FC_321.SP', '35_21_1000_FI_3101',\n",
       "       '35_21_1000_FI_3130', '35_21_1000_FI_326', '35_21_1000_FRQ_140',\n",
       "       '35_21_1000_LC_208.OP', '35_21_1000_LC_3116.OP', '35_21_1000_PC_1214',\n",
       "       '35_21_1000_PC_3123', '35_21_1000_PC_3123.OP', '35_21_1000_PC_3147',\n",
       "       '35_21_1000_PC_3147.OP', '35_21_1000_PC_3158', '35_21_1000_PC_3158.OP',\n",
       "       '35_21_1000_PC_3169', '35_21_1000_PC_3169.OP', '35_21_1000_PC_3180',\n",
       "       '35_21_1000_PC_3194', '35_21_1000_PC_3194.OP', '35_21_1000_PI_3300',\n",
       "       '35_21_1000_PI_3306', '35_21_1000_TC_301.OP', '35_21_1000_TC_301.SP',\n",
       "       '35_21_1000_TC_304.OP', '35_21_1000_TC_304.SP', '35_21_1000_TC_307.OP',\n",
       "       '35_21_1000_TC_307.SP', '35_21_1000_TC_310.OP', '35_21_1000_TC_310.SP',\n",
       "       '35_21_1000_TC_3119.OP', '35_21_1000_TC_3119.SP', '35_21_1000_TI_302',\n",
       "       '35_21_1000_TI_305', '35_21_1000_TI_308', '35_21_1000_TI_311',\n",
       "       '35_21_1000_TI_3111', '35_21_1000_TI_3114', '35_21_1000_TI_3115',\n",
       "       '35_21_1000_TI_313', '35_21_1000_TI_3138', '35_21_1000_TI_314',\n",
       "       '35_21_1000_TI_3149', '35_21_1000_TI_315', '35_21_1000_TI_316',\n",
       "       '35_21_1000_TI_3160', '35_21_1000_TI_3171', '35_21_1000_TI_3184',\n",
       "       '35_21_1000_TI_3305', '35_21_1000_TI_3581', 'CCR_CCR300_CV_3DT_H1_VAL',\n",
       "       'CCR_CCR300_CV_DT_R12_VAL', 'CCR_CCR300_CV_DT_R23_VAL',\n",
       "       'CCR_CCR300_CV_DT_R34_VAL', 'CCR_CCR300_CV_DT_R41_VAL',\n",
       "       'CCR_CCR300_CV_FI_3101PTC_VAL', 'CCR_CCR300_CV_PC_3180_OP_VAL',\n",
       "       'CCR_CCR300_CV_WAIT_SP_VAL'],\n",
       "      dtype='object')"
      ]
     },
     "execution_count": 38,
     "metadata": {},
     "output_type": "execute_result"
    }
   ],
   "source": [
    "data1.columns"
   ]
  },
  {
   "cell_type": "code",
   "execution_count": 42,
   "id": "fdce06d0",
   "metadata": {},
   "outputs": [
    {
     "data": {
      "text/plain": [
       "Index(['35_21_1000_FC_3121.SP', '35_21_1000_FRQ_140'], dtype='object')"
      ]
     },
     "execution_count": 42,
     "metadata": {},
     "output_type": "execute_result"
    }
   ],
   "source": [
    "to_delete = data1.columns[1:][data1.iloc[:, 1:].std() < 0.01]\n",
    "to_delete"
   ]
  },
  {
   "cell_type": "code",
   "execution_count": 43,
   "id": "684a2b0c",
   "metadata": {},
   "outputs": [],
   "source": [
    "data1.drop(to_delete, axis=1, inplace=True)"
   ]
  },
  {
   "cell_type": "code",
   "execution_count": 44,
   "id": "c51a9a79",
   "metadata": {},
   "outputs": [
    {
     "data": {
      "text/plain": [
       "(2040480, 62)"
      ]
     },
     "execution_count": 44,
     "metadata": {},
     "output_type": "execute_result"
    }
   ],
   "source": [
    "data1.shape"
   ]
  },
  {
   "cell_type": "code",
   "execution_count": 45,
   "id": "b44576cb",
   "metadata": {},
   "outputs": [],
   "source": [
    "data1.to_csv(\"Dataset1_nans.csv\", sep=';', index=False)"
   ]
  },
  {
   "cell_type": "code",
   "execution_count": 46,
   "id": "f5cf9756",
   "metadata": {},
   "outputs": [
    {
     "data": {
      "text/plain": [
       "(2040480, 62)"
      ]
     },
     "execution_count": 46,
     "metadata": {},
     "output_type": "execute_result"
    }
   ],
   "source": [
    "data1.shape"
   ]
  },
  {
   "cell_type": "markdown",
   "id": "fc7c1de7",
   "metadata": {},
   "source": [
    "Там есть две колонки: данные из лаборатории и соответствующие им названия, но они как будто уже интерполированы (линейными моделями)"
   ]
  },
  {
   "cell_type": "code",
   "execution_count": 16,
   "id": "4ceaa40b",
   "metadata": {},
   "outputs": [],
   "source": [
    "a = '35_21_1000.Q.KatKlD.1444.octanI'\n",
    "b = '35_21_1000_CCR_CAT_RON'"
   ]
  },
  {
   "cell_type": "code",
   "execution_count": 17,
   "id": "ab703ef4",
   "metadata": {},
   "outputs": [],
   "source": [
    "mask_a = data[a].diff().dropna() != 0"
   ]
  },
  {
   "cell_type": "code",
   "execution_count": 18,
   "id": "4609c988",
   "metadata": {},
   "outputs": [
    {
     "data": {
      "text/plain": [
       "1217"
      ]
     },
     "execution_count": 18,
     "metadata": {},
     "output_type": "execute_result"
    }
   ],
   "source": [
    "mask_a.sum()"
   ]
  },
  {
   "cell_type": "code",
   "execution_count": 19,
   "id": "b1685508",
   "metadata": {},
   "outputs": [],
   "source": [
    "mask_b = data[b].diff().dropna() != 0"
   ]
  },
  {
   "cell_type": "code",
   "execution_count": 20,
   "id": "7700316a",
   "metadata": {},
   "outputs": [
    {
     "data": {
      "text/plain": [
       "1840853"
      ]
     },
     "execution_count": 20,
     "metadata": {},
     "output_type": "execute_result"
    }
   ],
   "source": [
    "mask_b.sum()"
   ]
  },
  {
   "cell_type": "code",
   "execution_count": 21,
   "id": "064eaf29",
   "metadata": {},
   "outputs": [
    {
     "data": {
      "text/plain": [
       "1839784"
      ]
     },
     "execution_count": 21,
     "metadata": {},
     "output_type": "execute_result"
    }
   ],
   "source": [
    "(mask_a != mask_b).sum()"
   ]
  },
  {
   "cell_type": "code",
   "execution_count": 27,
   "id": "ab99fa10",
   "metadata": {},
   "outputs": [
    {
     "data": {
      "text/plain": [
       "<AxesSubplot:>"
      ]
     },
     "execution_count": 27,
     "metadata": {},
     "output_type": "execute_result"
    },
    {
     "data": {
      "image/png": "[encoded data removed]",
      "text/plain": [
       "<Figure size 640x480 with 1 Axes>"
      ]
     },
     "metadata": {},
     "output_type": "display_data"
    }
   ],
   "source": [
    "data[b][:100].plot(color='blue')\n",
    "data[a][:100].plot(color='red')"
   ]
  },
  {
   "cell_type": "code",
   "execution_count": 28,
   "id": "23cd24a2",
   "metadata": {},
   "outputs": [
    {
     "data": {
      "text/plain": [
       "<AxesSubplot:>"
      ]
     },
     "execution_count": 28,
     "metadata": {},
     "output_type": "execute_result"
    },
    {
     "data": {
      "image/png": "[encoded data removed]",
      "text/plain": [
       "<Figure size 640x480 with 1 Axes>"
      ]
     },
     "metadata": {},
     "output_type": "display_data"
    }
   ],
   "source": [
    "data[a].hist(bins=100, alpha=0.5, color='blue')\n",
    "data[b].hist(bins=100, alpha=0.5, color='red')"
   ]
  },
  {
   "cell_type": "code",
   "execution_count": 29,
   "id": "28dc33fa",
   "metadata": {},
   "outputs": [],
   "source": [
    "renaming = {'35_21_1000.Q.KatKlD.1444.octanI':'35_21_1000_CCR_CAT_RON', '35_21_1000.Q.KatKlAB.DavNpar': '35_21_1000_CCR_CAT_RVP', \n",
    "            '35_21_1000.Q.KatKlAB.EBen70':'35_21_1000_CCR_CAT_70', '35_21_1000.Q.KatKlAB.AroPf.v':'35_21_1000_CCR_CAT_AR'\n",
    "           }"
   ]
  },
  {
   "cell_type": "code",
   "execution_count": 30,
   "id": "03d547b9",
   "metadata": {},
   "outputs": [
    {
     "name": "stdout",
     "output_type": "stream",
     "text": [
      "35_21_1000.Q.KatKlD.1444.octanI 35_21_1000_CCR_CAT_RON\n",
      "1217 1840853 91 292667\n",
      "100\n",
      "\n",
      "35_21_1000.Q.KatKlAB.DavNpar 35_21_1000_CCR_CAT_RVP\n",
      "842 1852034 619 1165281\n",
      "0\n",
      "\n",
      "35_21_1000.Q.KatKlAB.EBen70 35_21_1000_CCR_CAT_70\n",
      "1278 1850969 71 542328\n",
      "17\n",
      "\n",
      "35_21_1000.Q.KatKlAB.AroPf.v 35_21_1000_CCR_CAT_AR\n",
      "867 1662894 584 824135\n",
      "4\n",
      "\n"
     ]
    }
   ],
   "source": [
    "for a, b in renaming.items():\n",
    "    print(a, b)\n",
    "    mask_a = data[a].diff().dropna() != 0\n",
    "    mask_b = data[b].diff().dropna() != 0\n",
    "    print(mask_a.sum(), mask_b.sum(), len(np.unique(data[a])), len(np.unique(data[b])))\n",
    "    print((data[a] == data[b]).sum())\n",
    "    print()\n",
    "    "
   ]
  },
  {
   "cell_type": "code",
   "execution_count": 31,
   "id": "5c78b02c",
   "metadata": {},
   "outputs": [],
   "source": [
    "a = '35_21_1000.Q.KatKlD.1444.octanI'\n",
    "b = '35_21_1000_CCR_CAT_RON'"
   ]
  },
  {
   "cell_type": "code",
   "execution_count": 32,
   "id": "018bc0a3",
   "metadata": {},
   "outputs": [
    {
     "data": {
      "text/plain": [
       "<AxesSubplot:>"
      ]
     },
     "execution_count": 32,
     "metadata": {},
     "output_type": "execute_result"
    },
    {
     "data": {
      "image/png": "[encoded data removed]",
      "text/plain": [
       "<Figure size 640x480 with 1 Axes>"
      ]
     },
     "metadata": {},
     "output_type": "display_data"
    }
   ],
   "source": [
    "data[a][:1000].plot()\n",
    "data[b][:1000].plot()"
   ]
  },
  {
   "cell_type": "code",
   "execution_count": 33,
   "id": "83661ef7",
   "metadata": {},
   "outputs": [],
   "source": [
    "dataset = data.drop(['Timestamp'], axis=1).to_numpy()"
   ]
  },
  {
   "cell_type": "code",
   "execution_count": 34,
   "id": "8d7a2f53",
   "metadata": {},
   "outputs": [
    {
     "data": {
      "text/plain": [
       "[<matplotlib.lines.Line2D at 0x7fa41ebe9550>]"
      ]
     },
     "execution_count": 34,
     "metadata": {},
     "output_type": "execute_result"
    },
    {
     "data": {
      "image/png": "[encoded data removed]",
      "text/plain": [
       "<Figure size 640x480 with 1 Axes>"
      ]
     },
     "metadata": {},
     "output_type": "display_data"
    }
   ],
   "source": [
    "ind = 17\n",
    "fr, pxx = signal.periodogram(dataset[ind])\n",
    "plt.plot(fr, pxx)"
   ]
  },
  {
   "cell_type": "code",
   "execution_count": 35,
   "id": "e41f25e2",
   "metadata": {},
   "outputs": [
    {
     "data": {
      "text/plain": [
       "array([2.04394167e+04, 2.01840706e+04, 3.47572515e+04, 5.96903401e+03,\n",
       "       2.81379229e+03, 4.21811195e+04, 1.21570208e+04, 8.60106952e+03,\n",
       "       3.91468254e+04, 6.22905889e+03, 2.14484232e+04, 4.98466341e+03,\n",
       "       4.46080797e+03, 3.82318702e+03, 4.94440000e+03, 2.45901519e+04,\n",
       "       5.00460189e+02, 4.72631907e+02, 2.27844681e+03, 4.00142034e+03,\n",
       "       6.68035395e+04, 5.01545792e+03, 1.76963693e+04, 1.24829116e+04,\n",
       "       1.96835036e+04, 3.45960006e+04, 1.76240608e+03, 5.48656791e+04,\n",
       "       9.65917538e+04, 1.03533982e+05, 6.84689887e+04, 3.31852094e+01,\n",
       "       2.54971712e+04])"
      ]
     },
     "execution_count": 35,
     "metadata": {},
     "output_type": "execute_result"
    }
   ],
   "source": [
    "fr, pxx = signal.periodogram(dataset[ind])\n",
    "tmp = np.array(sorted([(x, y) for x, y in zip(fr, pxx)], key=lambda x: x[1], reverse=False))\n",
    "np.diff(tmp[:, 1])"
   ]
  },
  {
   "cell_type": "markdown",
   "id": "dd0390fb",
   "metadata": {},
   "source": [
    "Периоды стабильности"
   ]
  },
  {
   "cell_type": "code",
   "execution_count": 102,
   "id": "52d32bd6",
   "metadata": {},
   "outputs": [],
   "source": [
    "data = pd.read_csv(\"Dataset1_nans.csv\", sep=';')"
   ]
  },
  {
   "cell_type": "code",
   "execution_count": 121,
   "id": "b45f1661",
   "metadata": {},
   "outputs": [],
   "source": [
    "table = pd.read_csv(\"../time_series/results/W20_group60/14_Agglomer_N11_w5.csv\")"
   ]
  },
  {
   "cell_type": "code",
   "execution_count": 122,
   "id": "c0ee2eec",
   "metadata": {},
   "outputs": [
    {
     "data": {
      "text/html": [
       "<div>\n",
       "<style scoped>\n",
       "    .dataframe tbody tr th:only-of-type {\n",
       "        vertical-align: middle;\n",
       "    }\n",
       "\n",
       "    .dataframe tbody tr th {\n",
       "        vertical-align: top;\n",
       "    }\n",
       "\n",
       "    .dataframe thead th {\n",
       "        text-align: right;\n",
       "    }\n",
       "</style>\n",
       "<table border=\"1\" class=\"dataframe\">\n",
       "  <thead>\n",
       "    <tr style=\"text-align: right;\">\n",
       "      <th></th>\n",
       "      <th>real 0</th>\n",
       "      <th>real 1</th>\n",
       "      <th>real 2</th>\n",
       "      <th>real 3</th>\n",
       "      <th>real 4</th>\n",
       "      <th>real 5</th>\n",
       "      <th>real 6</th>\n",
       "      <th>real 7</th>\n",
       "      <th>real 8</th>\n",
       "      <th>real 9</th>\n",
       "      <th>...</th>\n",
       "      <th>predicted 57</th>\n",
       "      <th>predicted 58</th>\n",
       "      <th>predicted 59</th>\n",
       "      <th>predicted 60</th>\n",
       "      <th>predicted 61</th>\n",
       "      <th>predicted 62</th>\n",
       "      <th>predicted 63</th>\n",
       "      <th>predicted 64</th>\n",
       "      <th>cluster_num</th>\n",
       "      <th>mode</th>\n",
       "    </tr>\n",
       "  </thead>\n",
       "  <tbody>\n",
       "    <tr>\n",
       "      <th>0</th>\n",
       "      <td>65.35</td>\n",
       "      <td>59.01</td>\n",
       "      <td>6.3</td>\n",
       "      <td>99.0</td>\n",
       "      <td>6.877206</td>\n",
       "      <td>60.638621</td>\n",
       "      <td>96.988700</td>\n",
       "      <td>56.111976</td>\n",
       "      <td>30.173371</td>\n",
       "      <td>185.4998</td>\n",
       "      <td>...</td>\n",
       "      <td>90.118004</td>\n",
       "      <td>-2.600278</td>\n",
       "      <td>-4.822083</td>\n",
       "      <td>-1.998712</td>\n",
       "      <td>9.508716</td>\n",
       "      <td>51.974554</td>\n",
       "      <td>63.665997</td>\n",
       "      <td>514.590778</td>\n",
       "      <td>0.0</td>\n",
       "      <td>0.0</td>\n",
       "    </tr>\n",
       "    <tr>\n",
       "      <th>1</th>\n",
       "      <td>65.35</td>\n",
       "      <td>59.01</td>\n",
       "      <td>6.3</td>\n",
       "      <td>99.0</td>\n",
       "      <td>6.671172</td>\n",
       "      <td>59.757208</td>\n",
       "      <td>96.589930</td>\n",
       "      <td>55.460214</td>\n",
       "      <td>30.256506</td>\n",
       "      <td>185.4998</td>\n",
       "      <td>...</td>\n",
       "      <td>87.041553</td>\n",
       "      <td>-2.773569</td>\n",
       "      <td>-9.354023</td>\n",
       "      <td>-2.054787</td>\n",
       "      <td>14.006412</td>\n",
       "      <td>51.185280</td>\n",
       "      <td>64.797444</td>\n",
       "      <td>512.703378</td>\n",
       "      <td>0.0</td>\n",
       "      <td>0.0</td>\n",
       "    </tr>\n",
       "    <tr>\n",
       "      <th>2</th>\n",
       "      <td>65.35</td>\n",
       "      <td>59.01</td>\n",
       "      <td>6.3</td>\n",
       "      <td>99.0</td>\n",
       "      <td>6.697737</td>\n",
       "      <td>59.600586</td>\n",
       "      <td>96.513312</td>\n",
       "      <td>55.576851</td>\n",
       "      <td>30.009617</td>\n",
       "      <td>185.4998</td>\n",
       "      <td>...</td>\n",
       "      <td>83.411774</td>\n",
       "      <td>-1.274657</td>\n",
       "      <td>-14.818189</td>\n",
       "      <td>-2.100409</td>\n",
       "      <td>17.916185</td>\n",
       "      <td>49.969878</td>\n",
       "      <td>65.980312</td>\n",
       "      <td>510.783843</td>\n",
       "      <td>0.0</td>\n",
       "      <td>0.0</td>\n",
       "    </tr>\n",
       "    <tr>\n",
       "      <th>3</th>\n",
       "      <td>65.35</td>\n",
       "      <td>59.01</td>\n",
       "      <td>6.3</td>\n",
       "      <td>99.0</td>\n",
       "      <td>6.625373</td>\n",
       "      <td>59.381956</td>\n",
       "      <td>96.467145</td>\n",
       "      <td>55.349525</td>\n",
       "      <td>29.214250</td>\n",
       "      <td>185.4998</td>\n",
       "      <td>...</td>\n",
       "      <td>83.859106</td>\n",
       "      <td>-2.193774</td>\n",
       "      <td>-12.863567</td>\n",
       "      <td>-2.225634</td>\n",
       "      <td>17.254079</td>\n",
       "      <td>49.321644</td>\n",
       "      <td>65.780342</td>\n",
       "      <td>510.554381</td>\n",
       "      <td>0.0</td>\n",
       "      <td>0.0</td>\n",
       "    </tr>\n",
       "    <tr>\n",
       "      <th>4</th>\n",
       "      <td>65.35</td>\n",
       "      <td>59.01</td>\n",
       "      <td>6.3</td>\n",
       "      <td>99.0</td>\n",
       "      <td>6.667358</td>\n",
       "      <td>59.058685</td>\n",
       "      <td>96.425264</td>\n",
       "      <td>55.494705</td>\n",
       "      <td>28.949559</td>\n",
       "      <td>185.4998</td>\n",
       "      <td>...</td>\n",
       "      <td>83.792713</td>\n",
       "      <td>-2.477591</td>\n",
       "      <td>-12.492802</td>\n",
       "      <td>-2.017654</td>\n",
       "      <td>16.967051</td>\n",
       "      <td>49.317982</td>\n",
       "      <td>64.140450</td>\n",
       "      <td>510.576461</td>\n",
       "      <td>0.0</td>\n",
       "      <td>0.0</td>\n",
       "    </tr>\n",
       "  </tbody>\n",
       "</table>\n",
       "<p>5 rows × 132 columns</p>\n",
       "</div>"
      ],
      "text/plain": [
       "   real 0  real 1  real 2  real 3    real 4     real 5     real 6     real 7  \\\n",
       "0   65.35   59.01     6.3    99.0  6.877206  60.638621  96.988700  56.111976   \n",
       "1   65.35   59.01     6.3    99.0  6.671172  59.757208  96.589930  55.460214   \n",
       "2   65.35   59.01     6.3    99.0  6.697737  59.600586  96.513312  55.576851   \n",
       "3   65.35   59.01     6.3    99.0  6.625373  59.381956  96.467145  55.349525   \n",
       "4   65.35   59.01     6.3    99.0  6.667358  59.058685  96.425264  55.494705   \n",
       "\n",
       "      real 8    real 9  ...  predicted 57  predicted 58  predicted 59  \\\n",
       "0  30.173371  185.4998  ...     90.118004     -2.600278     -4.822083   \n",
       "1  30.256506  185.4998  ...     87.041553     -2.773569     -9.354023   \n",
       "2  30.009617  185.4998  ...     83.411774     -1.274657    -14.818189   \n",
       "3  29.214250  185.4998  ...     83.859106     -2.193774    -12.863567   \n",
       "4  28.949559  185.4998  ...     83.792713     -2.477591    -12.492802   \n",
       "\n",
       "   predicted 60  predicted 61  predicted 62  predicted 63  predicted 64  \\\n",
       "0     -1.998712      9.508716     51.974554     63.665997    514.590778   \n",
       "1     -2.054787     14.006412     51.185280     64.797444    512.703378   \n",
       "2     -2.100409     17.916185     49.969878     65.980312    510.783843   \n",
       "3     -2.225634     17.254079     49.321644     65.780342    510.554381   \n",
       "4     -2.017654     16.967051     49.317982     64.140450    510.576461   \n",
       "\n",
       "   cluster_num  mode  \n",
       "0          0.0   0.0  \n",
       "1          0.0   0.0  \n",
       "2          0.0   0.0  \n",
       "3          0.0   0.0  \n",
       "4          0.0   0.0  \n",
       "\n",
       "[5 rows x 132 columns]"
      ]
     },
     "execution_count": 122,
     "metadata": {},
     "output_type": "execute_result"
    }
   ],
   "source": [
    "table.head()"
   ]
  },
  {
   "cell_type": "code",
   "execution_count": 103,
   "id": "098507f7",
   "metadata": {},
   "outputs": [
    {
     "data": {
      "text/html": [
       "<div>\n",
       "<style scoped>\n",
       "    .dataframe tbody tr th:only-of-type {\n",
       "        vertical-align: middle;\n",
       "    }\n",
       "\n",
       "    .dataframe tbody tr th {\n",
       "        vertical-align: top;\n",
       "    }\n",
       "\n",
       "    .dataframe thead th {\n",
       "        text-align: right;\n",
       "    }\n",
       "</style>\n",
       "<table border=\"1\" class=\"dataframe\">\n",
       "  <thead>\n",
       "    <tr style=\"text-align: right;\">\n",
       "      <th></th>\n",
       "      <th>Timestamp</th>\n",
       "      <th>35_21_1000.Q.KatKlAB.AroPf.v</th>\n",
       "      <th>35_21_1000.Q.KatKlAB.DavNpar</th>\n",
       "      <th>35_21_1000.Q.KatKlAB.EBen70</th>\n",
       "      <th>35_21_1000.Q.KatKlD.1444.octanI</th>\n",
       "      <th>35_21_1000_FC_3122</th>\n",
       "      <th>35_21_1000_FC_321.SP</th>\n",
       "      <th>35_21_1000_FI_3101</th>\n",
       "      <th>35_21_1000_FI_3130</th>\n",
       "      <th>35_21_1000_FI_326</th>\n",
       "      <th>...</th>\n",
       "      <th>35_21_1000_TI_3305</th>\n",
       "      <th>35_21_1000_TI_3581</th>\n",
       "      <th>CCR_CCR300_CV_3DT_H1_VAL</th>\n",
       "      <th>CCR_CCR300_CV_DT_R12_VAL</th>\n",
       "      <th>CCR_CCR300_CV_DT_R23_VAL</th>\n",
       "      <th>CCR_CCR300_CV_DT_R34_VAL</th>\n",
       "      <th>CCR_CCR300_CV_DT_R41_VAL</th>\n",
       "      <th>CCR_CCR300_CV_FI_3101PTC_VAL</th>\n",
       "      <th>CCR_CCR300_CV_PC_3180_OP_VAL</th>\n",
       "      <th>CCR_CCR300_CV_WAIT_SP_VAL</th>\n",
       "    </tr>\n",
       "  </thead>\n",
       "  <tbody>\n",
       "    <tr>\n",
       "      <th>0</th>\n",
       "      <td>01.01.2016 00:00:00</td>\n",
       "      <td>65.59</td>\n",
       "      <td>48.0</td>\n",
       "      <td>6.0</td>\n",
       "      <td>98.9</td>\n",
       "      <td>33.61328</td>\n",
       "      <td>194.0002</td>\n",
       "      <td>59.90619</td>\n",
       "      <td>2798.065</td>\n",
       "      <td>50.50889</td>\n",
       "      <td>...</td>\n",
       "      <td>134.7649</td>\n",
       "      <td>25.61035</td>\n",
       "      <td>90.86990</td>\n",
       "      <td>-3.72980</td>\n",
       "      <td>-7.13281</td>\n",
       "      <td>-1.0</td>\n",
       "      <td>11.86261</td>\n",
       "      <td>59.14596</td>\n",
       "      <td>70.77777</td>\n",
       "      <td>519.1353</td>\n",
       "    </tr>\n",
       "    <tr>\n",
       "      <th>1</th>\n",
       "      <td>01.01.2016 00:01:00</td>\n",
       "      <td>NaN</td>\n",
       "      <td>NaN</td>\n",
       "      <td>NaN</td>\n",
       "      <td>NaN</td>\n",
       "      <td>33.77030</td>\n",
       "      <td>194.0002</td>\n",
       "      <td>60.26051</td>\n",
       "      <td>2826.544</td>\n",
       "      <td>50.86543</td>\n",
       "      <td>...</td>\n",
       "      <td>134.8389</td>\n",
       "      <td>25.61035</td>\n",
       "      <td>90.90942</td>\n",
       "      <td>-3.72989</td>\n",
       "      <td>-7.13306</td>\n",
       "      <td>-1.0</td>\n",
       "      <td>11.86295</td>\n",
       "      <td>59.18106</td>\n",
       "      <td>70.93322</td>\n",
       "      <td>519.1353</td>\n",
       "    </tr>\n",
       "    <tr>\n",
       "      <th>2</th>\n",
       "      <td>01.01.2016 00:02:00</td>\n",
       "      <td>NaN</td>\n",
       "      <td>NaN</td>\n",
       "      <td>NaN</td>\n",
       "      <td>NaN</td>\n",
       "      <td>33.86683</td>\n",
       "      <td>194.0002</td>\n",
       "      <td>60.16202</td>\n",
       "      <td>2817.218</td>\n",
       "      <td>50.76682</td>\n",
       "      <td>...</td>\n",
       "      <td>134.6192</td>\n",
       "      <td>25.61055</td>\n",
       "      <td>90.88013</td>\n",
       "      <td>-3.73050</td>\n",
       "      <td>-7.13440</td>\n",
       "      <td>-1.0</td>\n",
       "      <td>11.86490</td>\n",
       "      <td>59.16980</td>\n",
       "      <td>70.03181</td>\n",
       "      <td>519.1346</td>\n",
       "    </tr>\n",
       "    <tr>\n",
       "      <th>3</th>\n",
       "      <td>01.01.2016 00:03:00</td>\n",
       "      <td>NaN</td>\n",
       "      <td>NaN</td>\n",
       "      <td>NaN</td>\n",
       "      <td>NaN</td>\n",
       "      <td>34.00380</td>\n",
       "      <td>194.0002</td>\n",
       "      <td>60.28071</td>\n",
       "      <td>2806.594</td>\n",
       "      <td>50.84354</td>\n",
       "      <td>...</td>\n",
       "      <td>134.6191</td>\n",
       "      <td>25.63477</td>\n",
       "      <td>90.87057</td>\n",
       "      <td>-3.73145</td>\n",
       "      <td>-7.13660</td>\n",
       "      <td>-1.0</td>\n",
       "      <td>11.86804</td>\n",
       "      <td>59.30387</td>\n",
       "      <td>70.46443</td>\n",
       "      <td>519.1337</td>\n",
       "    </tr>\n",
       "    <tr>\n",
       "      <th>4</th>\n",
       "      <td>01.01.2016 00:04:00</td>\n",
       "      <td>NaN</td>\n",
       "      <td>NaN</td>\n",
       "      <td>NaN</td>\n",
       "      <td>NaN</td>\n",
       "      <td>33.70545</td>\n",
       "      <td>194.0002</td>\n",
       "      <td>59.33250</td>\n",
       "      <td>2774.242</td>\n",
       "      <td>50.95883</td>\n",
       "      <td>...</td>\n",
       "      <td>134.6191</td>\n",
       "      <td>25.63477</td>\n",
       "      <td>90.90518</td>\n",
       "      <td>-3.73212</td>\n",
       "      <td>-7.13818</td>\n",
       "      <td>-1.0</td>\n",
       "      <td>11.87030</td>\n",
       "      <td>59.26101</td>\n",
       "      <td>69.81942</td>\n",
       "      <td>519.1330</td>\n",
       "    </tr>\n",
       "  </tbody>\n",
       "</table>\n",
       "<p>5 rows × 62 columns</p>\n",
       "</div>"
      ],
      "text/plain": [
       "             Timestamp  35_21_1000.Q.KatKlAB.AroPf.v  \\\n",
       "0  01.01.2016 00:00:00                         65.59   \n",
       "1  01.01.2016 00:01:00                           NaN   \n",
       "2  01.01.2016 00:02:00                           NaN   \n",
       "3  01.01.2016 00:03:00                           NaN   \n",
       "4  01.01.2016 00:04:00                           NaN   \n",
       "\n",
       "   35_21_1000.Q.KatKlAB.DavNpar  35_21_1000.Q.KatKlAB.EBen70  \\\n",
       "0                          48.0                          6.0   \n",
       "1                           NaN                          NaN   \n",
       "2                           NaN                          NaN   \n",
       "3                           NaN                          NaN   \n",
       "4                           NaN                          NaN   \n",
       "\n",
       "   35_21_1000.Q.KatKlD.1444.octanI  35_21_1000_FC_3122  35_21_1000_FC_321.SP  \\\n",
       "0                             98.9            33.61328              194.0002   \n",
       "1                              NaN            33.77030              194.0002   \n",
       "2                              NaN            33.86683              194.0002   \n",
       "3                              NaN            34.00380              194.0002   \n",
       "4                              NaN            33.70545              194.0002   \n",
       "\n",
       "   35_21_1000_FI_3101  35_21_1000_FI_3130  35_21_1000_FI_326  ...  \\\n",
       "0            59.90619            2798.065           50.50889  ...   \n",
       "1            60.26051            2826.544           50.86543  ...   \n",
       "2            60.16202            2817.218           50.76682  ...   \n",
       "3            60.28071            2806.594           50.84354  ...   \n",
       "4            59.33250            2774.242           50.95883  ...   \n",
       "\n",
       "   35_21_1000_TI_3305  35_21_1000_TI_3581  CCR_CCR300_CV_3DT_H1_VAL  \\\n",
       "0            134.7649            25.61035                  90.86990   \n",
       "1            134.8389            25.61035                  90.90942   \n",
       "2            134.6192            25.61055                  90.88013   \n",
       "3            134.6191            25.63477                  90.87057   \n",
       "4            134.6191            25.63477                  90.90518   \n",
       "\n",
       "   CCR_CCR300_CV_DT_R12_VAL  CCR_CCR300_CV_DT_R23_VAL  \\\n",
       "0                  -3.72980                  -7.13281   \n",
       "1                  -3.72989                  -7.13306   \n",
       "2                  -3.73050                  -7.13440   \n",
       "3                  -3.73145                  -7.13660   \n",
       "4                  -3.73212                  -7.13818   \n",
       "\n",
       "   CCR_CCR300_CV_DT_R34_VAL  CCR_CCR300_CV_DT_R41_VAL  \\\n",
       "0                      -1.0                  11.86261   \n",
       "1                      -1.0                  11.86295   \n",
       "2                      -1.0                  11.86490   \n",
       "3                      -1.0                  11.86804   \n",
       "4                      -1.0                  11.87030   \n",
       "\n",
       "   CCR_CCR300_CV_FI_3101PTC_VAL  CCR_CCR300_CV_PC_3180_OP_VAL  \\\n",
       "0                      59.14596                      70.77777   \n",
       "1                      59.18106                      70.93322   \n",
       "2                      59.16980                      70.03181   \n",
       "3                      59.30387                      70.46443   \n",
       "4                      59.26101                      69.81942   \n",
       "\n",
       "   CCR_CCR300_CV_WAIT_SP_VAL  \n",
       "0                   519.1353  \n",
       "1                   519.1353  \n",
       "2                   519.1346  \n",
       "3                   519.1337  \n",
       "4                   519.1330  \n",
       "\n",
       "[5 rows x 62 columns]"
      ]
     },
     "execution_count": 103,
     "metadata": {},
     "output_type": "execute_result"
    }
   ],
   "source": [
    "data.head()"
   ]
  },
  {
   "cell_type": "code",
   "execution_count": 65,
   "id": "734c1f16",
   "metadata": {},
   "outputs": [],
   "source": [
    "import dataset_utils"
   ]
  },
  {
   "cell_type": "code",
   "execution_count": 117,
   "id": "ea346fc2",
   "metadata": {},
   "outputs": [],
   "source": [
    "SOFT_SENSOR_INDEX = 0\n",
    "SOFT_SENSOR_NAME = soft[SOFT_SENSOR_INDEX]\n",
    "K = 60"
   ]
  },
  {
   "cell_type": "code",
   "execution_count": 107,
   "id": "5fb1ace5",
   "metadata": {},
   "outputs": [
    {
     "data": {
      "text/plain": [
       "'35_21_1000.Q.KatKlD.1444.octanI'"
      ]
     },
     "execution_count": 107,
     "metadata": {},
     "output_type": "execute_result"
    }
   ],
   "source": [
    "soft_data = data[soft].copy()\n",
    "data_orig = data.drop(soft + ['Timestamp'], axis=1)\n",
    "SOFT_SENSOR_NAME"
   ]
  },
  {
   "cell_type": "code",
   "execution_count": 149,
   "id": "783e2c50",
   "metadata": {},
   "outputs": [],
   "source": [
    "data2 = data.groupby(data.index // K).mean() #усреднение\n"
   ]
  },
  {
   "cell_type": "code",
   "execution_count": 150,
   "id": "cc3fca1b",
   "metadata": {},
   "outputs": [
    {
     "data": {
      "text/plain": [
       "(34008, 61)"
      ]
     },
     "execution_count": 150,
     "metadata": {},
     "output_type": "execute_result"
    }
   ],
   "source": [
    "data2.shape"
   ]
  },
  {
   "cell_type": "code",
   "execution_count": 152,
   "id": "1442ab8a",
   "metadata": {},
   "outputs": [
    {
     "data": {
      "text/html": [
       "<div>\n",
       "<style scoped>\n",
       "    .dataframe tbody tr th:only-of-type {\n",
       "        vertical-align: middle;\n",
       "    }\n",
       "\n",
       "    .dataframe tbody tr th {\n",
       "        vertical-align: top;\n",
       "    }\n",
       "\n",
       "    .dataframe thead th {\n",
       "        text-align: right;\n",
       "    }\n",
       "</style>\n",
       "<table border=\"1\" class=\"dataframe\">\n",
       "  <thead>\n",
       "    <tr style=\"text-align: right;\">\n",
       "      <th></th>\n",
       "      <th>35_21_1000.Q.KatKlAB.AroPf.v</th>\n",
       "      <th>35_21_1000.Q.KatKlAB.DavNpar</th>\n",
       "      <th>35_21_1000.Q.KatKlAB.EBen70</th>\n",
       "      <th>35_21_1000.Q.KatKlD.1444.octanI</th>\n",
       "      <th>35_21_1000_FC_3122</th>\n",
       "      <th>35_21_1000_FC_321.SP</th>\n",
       "      <th>35_21_1000_FI_3101</th>\n",
       "      <th>35_21_1000_FI_3130</th>\n",
       "      <th>35_21_1000_FI_326</th>\n",
       "      <th>35_21_1000_LC_208.OP</th>\n",
       "      <th>...</th>\n",
       "      <th>35_21_1000_TI_3305</th>\n",
       "      <th>35_21_1000_TI_3581</th>\n",
       "      <th>CCR_CCR300_CV_3DT_H1_VAL</th>\n",
       "      <th>CCR_CCR300_CV_DT_R12_VAL</th>\n",
       "      <th>CCR_CCR300_CV_DT_R23_VAL</th>\n",
       "      <th>CCR_CCR300_CV_DT_R34_VAL</th>\n",
       "      <th>CCR_CCR300_CV_DT_R41_VAL</th>\n",
       "      <th>CCR_CCR300_CV_FI_3101PTC_VAL</th>\n",
       "      <th>CCR_CCR300_CV_PC_3180_OP_VAL</th>\n",
       "      <th>CCR_CCR300_CV_WAIT_SP_VAL</th>\n",
       "    </tr>\n",
       "  </thead>\n",
       "  <tbody>\n",
       "    <tr>\n",
       "      <th>0</th>\n",
       "      <td>65.59</td>\n",
       "      <td>48.0</td>\n",
       "      <td>6.0</td>\n",
       "      <td>98.9</td>\n",
       "      <td>34.034735</td>\n",
       "      <td>194.0002</td>\n",
       "      <td>59.894503</td>\n",
       "      <td>2801.482350</td>\n",
       "      <td>50.822693</td>\n",
       "      <td>32.107148</td>\n",
       "      <td>...</td>\n",
       "      <td>134.198328</td>\n",
       "      <td>25.599473</td>\n",
       "      <td>91.150684</td>\n",
       "      <td>-3.672581</td>\n",
       "      <td>-7.003985</td>\n",
       "      <td>-1.000000</td>\n",
       "      <td>11.676564</td>\n",
       "      <td>59.184669</td>\n",
       "      <td>72.472334</td>\n",
       "      <td>519.192313</td>\n",
       "    </tr>\n",
       "    <tr>\n",
       "      <th>1</th>\n",
       "      <td>NaN</td>\n",
       "      <td>NaN</td>\n",
       "      <td>NaN</td>\n",
       "      <td>NaN</td>\n",
       "      <td>33.966842</td>\n",
       "      <td>194.0002</td>\n",
       "      <td>59.930134</td>\n",
       "      <td>2780.469317</td>\n",
       "      <td>51.254906</td>\n",
       "      <td>33.110013</td>\n",
       "      <td>...</td>\n",
       "      <td>134.250020</td>\n",
       "      <td>25.573289</td>\n",
       "      <td>91.250144</td>\n",
       "      <td>-3.693115</td>\n",
       "      <td>-7.050536</td>\n",
       "      <td>-1.000000</td>\n",
       "      <td>11.743650</td>\n",
       "      <td>59.208038</td>\n",
       "      <td>74.040088</td>\n",
       "      <td>519.171748</td>\n",
       "    </tr>\n",
       "    <tr>\n",
       "      <th>2</th>\n",
       "      <td>NaN</td>\n",
       "      <td>NaN</td>\n",
       "      <td>NaN</td>\n",
       "      <td>NaN</td>\n",
       "      <td>34.260235</td>\n",
       "      <td>194.0002</td>\n",
       "      <td>59.973913</td>\n",
       "      <td>2765.337083</td>\n",
       "      <td>53.585262</td>\n",
       "      <td>33.295271</td>\n",
       "      <td>...</td>\n",
       "      <td>134.419703</td>\n",
       "      <td>25.502970</td>\n",
       "      <td>90.521686</td>\n",
       "      <td>-3.592844</td>\n",
       "      <td>-8.068762</td>\n",
       "      <td>-1.000000</td>\n",
       "      <td>12.661605</td>\n",
       "      <td>59.261616</td>\n",
       "      <td>75.300177</td>\n",
       "      <td>518.814445</td>\n",
       "    </tr>\n",
       "    <tr>\n",
       "      <th>3</th>\n",
       "      <td>NaN</td>\n",
       "      <td>NaN</td>\n",
       "      <td>NaN</td>\n",
       "      <td>NaN</td>\n",
       "      <td>34.652325</td>\n",
       "      <td>194.0002</td>\n",
       "      <td>59.851254</td>\n",
       "      <td>2753.286183</td>\n",
       "      <td>52.626163</td>\n",
       "      <td>32.260792</td>\n",
       "      <td>...</td>\n",
       "      <td>134.126573</td>\n",
       "      <td>25.471651</td>\n",
       "      <td>89.777658</td>\n",
       "      <td>-3.959862</td>\n",
       "      <td>-8.755280</td>\n",
       "      <td>-1.000000</td>\n",
       "      <td>13.715141</td>\n",
       "      <td>59.155983</td>\n",
       "      <td>78.374397</td>\n",
       "      <td>518.500412</td>\n",
       "    </tr>\n",
       "    <tr>\n",
       "      <th>4</th>\n",
       "      <td>NaN</td>\n",
       "      <td>NaN</td>\n",
       "      <td>NaN</td>\n",
       "      <td>NaN</td>\n",
       "      <td>34.688020</td>\n",
       "      <td>194.0002</td>\n",
       "      <td>59.917839</td>\n",
       "      <td>2819.362900</td>\n",
       "      <td>52.683457</td>\n",
       "      <td>32.706224</td>\n",
       "      <td>...</td>\n",
       "      <td>134.075755</td>\n",
       "      <td>25.514469</td>\n",
       "      <td>89.694157</td>\n",
       "      <td>-4.097194</td>\n",
       "      <td>-8.565953</td>\n",
       "      <td>-1.000908</td>\n",
       "      <td>13.664054</td>\n",
       "      <td>59.140597</td>\n",
       "      <td>79.965731</td>\n",
       "      <td>518.326127</td>\n",
       "    </tr>\n",
       "  </tbody>\n",
       "</table>\n",
       "<p>5 rows × 61 columns</p>\n",
       "</div>"
      ],
      "text/plain": [
       "   35_21_1000.Q.KatKlAB.AroPf.v  35_21_1000.Q.KatKlAB.DavNpar  \\\n",
       "0                         65.59                          48.0   \n",
       "1                           NaN                           NaN   \n",
       "2                           NaN                           NaN   \n",
       "3                           NaN                           NaN   \n",
       "4                           NaN                           NaN   \n",
       "\n",
       "   35_21_1000.Q.KatKlAB.EBen70  35_21_1000.Q.KatKlD.1444.octanI  \\\n",
       "0                          6.0                             98.9   \n",
       "1                          NaN                              NaN   \n",
       "2                          NaN                              NaN   \n",
       "3                          NaN                              NaN   \n",
       "4                          NaN                              NaN   \n",
       "\n",
       "   35_21_1000_FC_3122  35_21_1000_FC_321.SP  35_21_1000_FI_3101  \\\n",
       "0           34.034735              194.0002           59.894503   \n",
       "1           33.966842              194.0002           59.930134   \n",
       "2           34.260235              194.0002           59.973913   \n",
       "3           34.652325              194.0002           59.851254   \n",
       "4           34.688020              194.0002           59.917839   \n",
       "\n",
       "   35_21_1000_FI_3130  35_21_1000_FI_326  35_21_1000_LC_208.OP  ...  \\\n",
       "0         2801.482350          50.822693             32.107148  ...   \n",
       "1         2780.469317          51.254906             33.110013  ...   \n",
       "2         2765.337083          53.585262             33.295271  ...   \n",
       "3         2753.286183          52.626163             32.260792  ...   \n",
       "4         2819.362900          52.683457             32.706224  ...   \n",
       "\n",
       "   35_21_1000_TI_3305  35_21_1000_TI_3581  CCR_CCR300_CV_3DT_H1_VAL  \\\n",
       "0          134.198328           25.599473                 91.150684   \n",
       "1          134.250020           25.573289                 91.250144   \n",
       "2          134.419703           25.502970                 90.521686   \n",
       "3          134.126573           25.471651                 89.777658   \n",
       "4          134.075755           25.514469                 89.694157   \n",
       "\n",
       "   CCR_CCR300_CV_DT_R12_VAL  CCR_CCR300_CV_DT_R23_VAL  \\\n",
       "0                 -3.672581                 -7.003985   \n",
       "1                 -3.693115                 -7.050536   \n",
       "2                 -3.592844                 -8.068762   \n",
       "3                 -3.959862                 -8.755280   \n",
       "4                 -4.097194                 -8.565953   \n",
       "\n",
       "   CCR_CCR300_CV_DT_R34_VAL  CCR_CCR300_CV_DT_R41_VAL  \\\n",
       "0                 -1.000000                 11.676564   \n",
       "1                 -1.000000                 11.743650   \n",
       "2                 -1.000000                 12.661605   \n",
       "3                 -1.000000                 13.715141   \n",
       "4                 -1.000908                 13.664054   \n",
       "\n",
       "   CCR_CCR300_CV_FI_3101PTC_VAL  CCR_CCR300_CV_PC_3180_OP_VAL  \\\n",
       "0                     59.184669                     72.472334   \n",
       "1                     59.208038                     74.040088   \n",
       "2                     59.261616                     75.300177   \n",
       "3                     59.155983                     78.374397   \n",
       "4                     59.140597                     79.965731   \n",
       "\n",
       "   CCR_CCR300_CV_WAIT_SP_VAL  \n",
       "0                 519.192313  \n",
       "1                 519.171748  \n",
       "2                 518.814445  \n",
       "3                 518.500412  \n",
       "4                 518.326127  \n",
       "\n",
       "[5 rows x 61 columns]"
      ]
     },
     "execution_count": 152,
     "metadata": {},
     "output_type": "execute_result"
    }
   ],
   "source": [
    "data2.head()"
   ]
  },
  {
   "cell_type": "code",
   "execution_count": 124,
   "id": "63e627fc",
   "metadata": {},
   "outputs": [
    {
     "data": {
      "text/plain": [
       "(33967, 132)"
      ]
     },
     "execution_count": 124,
     "metadata": {},
     "output_type": "execute_result"
    }
   ],
   "source": [
    "table.shape"
   ]
  },
  {
   "cell_type": "code",
   "execution_count": 125,
   "id": "e2c21377",
   "metadata": {},
   "outputs": [
    {
     "data": {
      "text/plain": [
       "-41"
      ]
     },
     "execution_count": 125,
     "metadata": {},
     "output_type": "execute_result"
    }
   ],
   "source": [
    "table.shape[0] - data2.shape[0]"
   ]
  },
  {
   "cell_type": "code",
   "execution_count": null,
   "id": "83e9f9f5",
   "metadata": {},
   "outputs": [],
   "source": []
  },
  {
   "cell_type": "code",
   "execution_count": 198,
   "id": "18f92b89",
   "metadata": {},
   "outputs": [
    {
     "data": {
      "text/plain": [
       "(array([21, 22, 20, 23, 19]),\n",
       " array([0.66489635, 0.90815742, 0.94841782, 1.06611125, 1.14627819]))"
      ]
     },
     "execution_count": 198,
     "metadata": {},
     "output_type": "execute_result"
    }
   ],
   "source": [
    "mae = []\n",
    "for sh in range(data2.shape[0] - table.shape[0] + 1):\n",
    "    fin = sh + table.shape[0]\n",
    "    mae.append(np.mean(np.abs(data2.iloc[sh:fin, 6] - table['real 10'].values)))\n",
    "mae = np.array(mae)\n",
    "tmp = np.argsort(mae)[:5] \n",
    "tmp, mae[tmp]"
   ]
  },
  {
   "cell_type": "code",
   "execution_count": 234,
   "id": "abea25e1",
   "metadata": {},
   "outputs": [],
   "source": [
    "n = table.shape[0]\n",
    "a = data2.iloc[21:, 6].values\n",
    "b = table['real 10'].values"
   ]
  },
  {
   "cell_type": "code",
   "execution_count": 211,
   "id": "7d33d265",
   "metadata": {},
   "outputs": [],
   "source": [
    "dif = np.abs(data2.iloc[21:21+table.shape[0], 6] - table['real 10'].values)"
   ]
  },
  {
   "cell_type": "code",
   "execution_count": 212,
   "id": "600c4380",
   "metadata": {},
   "outputs": [
    {
     "data": {
      "text/plain": [
       "54.01949383333333"
      ]
     },
     "execution_count": 212,
     "metadata": {},
     "output_type": "execute_result"
    }
   ],
   "source": [
    "(dif).max()"
   ]
  },
  {
   "cell_type": "code",
   "execution_count": 213,
   "id": "dca3d30c",
   "metadata": {},
   "outputs": [
    {
     "data": {
      "text/plain": [
       "(array([30802]),)"
      ]
     },
     "execution_count": 213,
     "metadata": {},
     "output_type": "execute_result"
    }
   ],
   "source": [
    "np.where(dif > 54)"
   ]
  },
  {
   "cell_type": "code",
   "execution_count": 250,
   "id": "0ac3169c",
   "metadata": {},
   "outputs": [
    {
     "data": {
      "text/plain": [
       "array([2., 2., 2., 2.])"
      ]
     },
     "execution_count": 250,
     "metadata": {},
     "output_type": "execute_result"
    }
   ],
   "source": [
    "table['cluster_num'].values[30800:30804]"
   ]
  },
  {
   "cell_type": "code",
   "execution_count": null,
   "id": "aa8388a8",
   "metadata": {},
   "outputs": [],
   "source": []
  },
  {
   "cell_type": "code",
   "execution_count": 227,
   "id": "e064efe6",
   "metadata": {},
   "outputs": [
    {
     "data": {
      "text/plain": [
       "[<matplotlib.lines.Line2D at 0x7fa329bc4fa0>]"
      ]
     },
     "execution_count": 227,
     "metadata": {},
     "output_type": "execute_result"
    },
    {
     "data": {
      "image/png": "[encoded data removed]",
      "text/plain": [
       "<Figure size 640x480 with 1 Axes>"
      ]
     },
     "metadata": {},
     "output_type": "display_data"
    }
   ],
   "source": [
    "plt.plot(table['cluster_num'].values[30000:31000])"
   ]
  },
  {
   "cell_type": "code",
   "execution_count": 224,
   "id": "e84fb683",
   "metadata": {},
   "outputs": [
    {
     "data": {
      "text/plain": [
       "[<matplotlib.lines.Line2D at 0x7fa329c06520>]"
      ]
     },
     "execution_count": 224,
     "metadata": {},
     "output_type": "execute_result"
    },
    {
     "data": {
      "image/png": "[encoded data removed]",
      "text/plain": [
       "<Figure size 640x480 with 1 Axes>"
      ]
     },
     "metadata": {},
     "output_type": "display_data"
    }
   ],
   "source": [
    "plt.plot(data2.iloc[30040:31040, 6].values, color='blue')\n",
    "plt.plot(table['real 10'].values[30000:31000], color='red')"
   ]
  },
  {
   "cell_type": "code",
   "execution_count": 417,
   "id": "5a7851b1",
   "metadata": {},
   "outputs": [
    {
     "data": {
      "text/plain": [
       "(41, True)"
      ]
     },
     "execution_count": 417,
     "metadata": {},
     "output_type": "execute_result"
    }
   ],
   "source": [
    "clusters = table['cluster_num'].values.astype(np.int32)\n",
    "clusters = np.pad(clusters, (21, 0), mode='constant', constant_values=(clusters[0]))\n",
    "clusters = np.pad(clusters, (0, 20), mode='constant', constant_values=(clusters[-1]))\n",
    "clusters.shape[0] - n, (clusters[21:-20] == table['cluster_num'].values).all()"
   ]
  },
  {
   "cell_type": "code",
   "execution_count": 418,
   "id": "762d5342",
   "metadata": {},
   "outputs": [],
   "source": [
    "mask = (clusters == 3) | (clusters == 7) | (clusters == 10)"
   ]
  },
  {
   "cell_type": "code",
   "execution_count": 419,
   "id": "edde1728",
   "metadata": {},
   "outputs": [
    {
     "data": {
      "text/plain": [
       "26029"
      ]
     },
     "execution_count": 419,
     "metadata": {},
     "output_type": "execute_result"
    }
   ],
   "source": [
    "mask.sum()"
   ]
  },
  {
   "cell_type": "code",
   "execution_count": 368,
   "id": "59022e92",
   "metadata": {},
   "outputs": [],
   "source": [
    "with open(\"periods_W20_gr60_Agl.npy\", \"wb\") as f:\n",
    "    np.save(f, mask, allow_pickle=True)"
   ]
  },
  {
   "cell_type": "code",
   "execution_count": 367,
   "id": "9c36ef97",
   "metadata": {},
   "outputs": [],
   "source": [
    "with open(\"periods_W20_gr60_Agl.npy\", \"rb\") as f:\n",
    "    m = np.load(f)"
   ]
  },
  {
   "cell_type": "code",
   "execution_count": 423,
   "id": "40e7ae15",
   "metadata": {},
   "outputs": [
    {
     "data": {
      "text/plain": [
       "0.7653787344154317"
      ]
     },
     "execution_count": 423,
     "metadata": {},
     "output_type": "execute_result"
    }
   ],
   "source": [
    "mask.sum() / mask.shape[0]"
   ]
  },
  {
   "cell_type": "code",
   "execution_count": 428,
   "id": "a0ff16df",
   "metadata": {},
   "outputs": [
    {
     "data": {
      "text/plain": [
       "0.7582921665490473"
      ]
     },
     "execution_count": 428,
     "metadata": {},
     "output_type": "execute_result"
    }
   ],
   "source": [
    "(mask[::2] & mask[1::2]).sum() / (mask.shape[0] // 2)"
   ]
  },
  {
   "cell_type": "code",
   "execution_count": 429,
   "id": "9eba42ec",
   "metadata": {},
   "outputs": [],
   "source": [
    "mask = (mask[::2] & mask[1::2])"
   ]
  },
  {
   "cell_type": "code",
   "execution_count": 430,
   "id": "6cd29ac9",
   "metadata": {},
   "outputs": [],
   "source": [
    "with open(\"periods_W20_gr240_Agl.npy\", \"wb\") as f:\n",
    "    np.save(f, mask, allow_pickle=True)"
   ]
  },
  {
   "cell_type": "code",
   "execution_count": null,
   "id": "37ca9987",
   "metadata": {},
   "outputs": [],
   "source": []
  },
  {
   "cell_type": "code",
   "execution_count": 409,
   "id": "f1a49ef1",
   "metadata": {},
   "outputs": [
    {
     "name": "stdout",
     "output_type": "stream",
     "text": [
      "periods.shape=(34008,), periods.sum()=975\n",
      "(975, 1, 57) (975,)\n",
      "-> 975 / 1218\n",
      "periods.shape=(34008,), periods.sum()=658\n",
      "(658, 1, 57) (658,)\n",
      "-> 658 / 843\n",
      "periods.shape=(34008,), periods.sum()=1035\n",
      "(1035, 1, 57) (1035,)\n",
      "-> 1035 / 1279\n",
      "periods.shape=(34008,), periods.sum()=674\n",
      "(674, 1, 57) (674,)\n",
      "-> 674 / 868\n",
      "[0.8004926108374384, 0.7805456702253856, 0.8092259577795152, 0.7764976958525346]\n"
     ]
    }
   ],
   "source": [
    "sizes_in_periods = []\n",
    "#modify Dataset to return periods\n",
    "for i in range(4):\n",
    "    dataset = dataset_utils.Dataset(data_orig, soft_data[soft[i]], K=60, diff=False, periods=\"periods_W20_gr60_Agl.npy\")\n",
    "    dataset_x, dataset_y, _, periods = dataset.window_view(W=1)\n",
    "    sizes_in_periods.append(periods.sum() / dataset.soft_data.shape[0])\n",
    "    print(\"->\", periods.sum(), \"/\", dataset.soft_data.shape[0])\n",
    "print(sizes_in_periods)"
   ]
  },
  {
   "cell_type": "code",
   "execution_count": 416,
   "id": "13b2b413",
   "metadata": {},
   "outputs": [
    {
     "name": "stdout",
     "output_type": "stream",
     "text": [
      "periods.shape=(33999,), periods.sum()=1035\n",
      "(1035, 10, 57) (1035,)\n"
     ]
    }
   ],
   "source": [
    "#Modify to ordinary\n",
    "dataset = dataset_utils.Dataset(data_orig, soft_data[soft[2]], K=60, diff=False, periods=\"periods_W20_gr60_Agl.npy\")\n",
    "dataset_x, dataset_y, _ = dataset.window_view(W=10)\n",
    "    "
   ]
  },
  {
   "cell_type": "code",
   "execution_count": 397,
   "id": "900f43ee",
   "metadata": {},
   "outputs": [
    {
     "data": {
      "text/plain": [
       "(array([], dtype=int64),)"
      ]
     },
     "execution_count": 397,
     "metadata": {},
     "output_type": "execute_result"
    }
   ],
   "source": [
    "np.where(dataset_y < -10)"
   ]
  },
  {
   "cell_type": "code",
   "execution_count": 398,
   "id": "d259c009",
   "metadata": {},
   "outputs": [
    {
     "data": {
      "text/plain": [
       "array([0, 0, 0, 0, 0, 0, 0, 0, 0, 0, 0, 0, 0, 0, 0, 8, 8, 8, 8, 8, 8, 8,\n",
       "       8, 8, 8, 8, 8, 8, 8, 8, 8, 8, 8, 8, 8, 8, 8, 8, 0, 0, 0, 0, 0, 0,\n",
       "       0, 0, 0, 0, 0, 0, 0, 0, 0, 0, 0, 0, 0, 0, 8, 8], dtype=int32)"
      ]
     },
     "execution_count": 398,
     "metadata": {},
     "output_type": "execute_result"
    }
   ],
   "source": [
    "clusters[200:260]"
   ]
  },
  {
   "cell_type": "code",
   "execution_count": 399,
   "id": "3d341ad5",
   "metadata": {},
   "outputs": [
    {
     "data": {
      "text/plain": [
       "[<matplotlib.lines.Line2D at 0x7fa328d15970>]"
      ]
     },
     "execution_count": 399,
     "metadata": {},
     "output_type": "execute_result"
    },
    {
     "data": {
      "image/png": "[encoded data removed]",
      "text/plain": [
       "<Figure size 640x480 with 1 Axes>"
      ]
     },
     "metadata": {},
     "output_type": "display_data"
    }
   ],
   "source": [
    "plt.plot(dataset_y)"
   ]
  },
  {
   "cell_type": "code",
   "execution_count": null,
   "id": "629f12e4",
   "metadata": {},
   "outputs": [],
   "source": []
  }
 ],
 "metadata": {
  "kernelspec": {
   "display_name": "anna",
   "language": "python",
   "name": "anna"
  },
  "language_info": {
   "codemirror_mode": {
    "name": "ipython",
    "version": 3
   },
   "file_extension": ".py",
   "mimetype": "text/x-python",
   "name": "python",
   "nbconvert_exporter": "python",
   "pygments_lexer": "ipython3",
   "version": "3.9.15"
  }
 },
 "nbformat": 4,
 "nbformat_minor": 5
}
