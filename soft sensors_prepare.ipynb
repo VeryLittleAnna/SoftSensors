{
 "cells": [
  {
   "cell_type": "code",
   "execution_count": 1,
   "id": "32041e96",
   "metadata": {},
   "outputs": [],
   "source": [
    "import pandas as pd\n",
    "import numpy as np\n",
    "import matplotlib.pyplot as plt\n",
    "from scipy import signal"
   ]
  },
  {
   "cell_type": "code",
   "execution_count": 2,
   "id": "e148572a",
   "metadata": {},
   "outputs": [],
   "source": [
    "renaming = {'35_21_1000_CCR_CAT_RON': '35_21_1000.Q.KatKlD.1444.octanI', '35_21_1000.Q.KatKlAB.DavNpar': '35_21_1000_CCR_CAT_RVP', \n",
    "            '35_21_1000.Q.KatKlAB.EBen70':'35_21_1000_CCR_CAT_70', '35_21_1000.Q.KatKlAB.AroPf.v':'35_21_1000_CCR_CAT_AR',\n",
    "            '35_21_1000.Q.KatKlD.1444.octanI':'35_21_1000_CCR_CAT_RON', '35_21_1000_CCR_CAT_RVP':'35_21_1000.Q.KatKlAB.DavNpar',\n",
    "            '35_21_1000_CCR_CAT_70':'35_21_1000.Q.KatKlAB.EBen70', '35_21_1000_CCR_CAT_AR':'35_21_1000.Q.KatKlAB.AroPf.v',\n",
    "            }"
   ]
  },
  {
   "cell_type": "code",
   "execution_count": 3,
   "id": "d22cdb7c",
   "metadata": {},
   "outputs": [],
   "source": [
    "soft = ['35_21_1000.Q.KatKlD.1444.octanI', '35_21_1000.Q.KatKlAB.DavNpar', '35_21_1000.Q.KatKlAB.EBen70', '35_21_1000.Q.KatKlAB.AroPf.v']"
   ]
  },
  {
   "cell_type": "code",
   "execution_count": 4,
   "id": "c7d9a4d1",
   "metadata": {},
   "outputs": [],
   "source": [
    "data = pd.read_csv(\"Dataset1.csv\", sep=\";\")"
   ]
  },
  {
   "cell_type": "code",
   "execution_count": 5,
   "id": "5959d13e",
   "metadata": {},
   "outputs": [
    {
     "data": {
      "text/plain": [
       "(2040480, 68)"
      ]
     },
     "execution_count": 5,
     "metadata": {},
     "output_type": "execute_result"
    }
   ],
   "source": [
    "data.shape"
   ]
  },
  {
   "cell_type": "code",
   "execution_count": 6,
   "id": "560eed2c",
   "metadata": {},
   "outputs": [
    {
     "data": {
      "text/html": [
       "<div>\n",
       "<style scoped>\n",
       "    .dataframe tbody tr th:only-of-type {\n",
       "        vertical-align: middle;\n",
       "    }\n",
       "\n",
       "    .dataframe tbody tr th {\n",
       "        vertical-align: top;\n",
       "    }\n",
       "\n",
       "    .dataframe thead th {\n",
       "        text-align: right;\n",
       "    }\n",
       "</style>\n",
       "<table border=\"1\" class=\"dataframe\">\n",
       "  <thead>\n",
       "    <tr style=\"text-align: right;\">\n",
       "      <th></th>\n",
       "      <th>Timestamp</th>\n",
       "      <th>35_21_1000.Q.KatKlAB.AroPf.v</th>\n",
       "      <th>35_21_1000.Q.KatKlAB.DavNpar</th>\n",
       "      <th>35_21_1000.Q.KatKlAB.EBen70</th>\n",
       "      <th>35_21_1000.Q.KatKlD.1444.octanI</th>\n",
       "      <th>35_21_1000_CCR_CAT_70</th>\n",
       "      <th>35_21_1000_CCR_CAT_AR</th>\n",
       "      <th>35_21_1000_CCR_CAT_RON</th>\n",
       "      <th>35_21_1000_CCR_CAT_RVP</th>\n",
       "      <th>35_21_1000_FC_3121.SP</th>\n",
       "      <th>...</th>\n",
       "      <th>35_21_1000_TI_3305</th>\n",
       "      <th>35_21_1000_TI_3581</th>\n",
       "      <th>CCR_CCR300_CV_3DT_H1_VAL</th>\n",
       "      <th>CCR_CCR300_CV_DT_R12_VAL</th>\n",
       "      <th>CCR_CCR300_CV_DT_R23_VAL</th>\n",
       "      <th>CCR_CCR300_CV_DT_R34_VAL</th>\n",
       "      <th>CCR_CCR300_CV_DT_R41_VAL</th>\n",
       "      <th>CCR_CCR300_CV_FI_3101PTC_VAL</th>\n",
       "      <th>CCR_CCR300_CV_PC_3180_OP_VAL</th>\n",
       "      <th>CCR_CCR300_CV_WAIT_SP_VAL</th>\n",
       "    </tr>\n",
       "  </thead>\n",
       "  <tbody>\n",
       "    <tr>\n",
       "      <th>0</th>\n",
       "      <td>01.01.2016 00:00:00</td>\n",
       "      <td>65.59</td>\n",
       "      <td>48.0</td>\n",
       "      <td>6.0</td>\n",
       "      <td>98.9</td>\n",
       "      <td>6.87640</td>\n",
       "      <td>64.05901</td>\n",
       "      <td>98.45841</td>\n",
       "      <td>56.06648</td>\n",
       "      <td>0.00292</td>\n",
       "      <td>...</td>\n",
       "      <td>134.7649</td>\n",
       "      <td>25.61035</td>\n",
       "      <td>90.86990</td>\n",
       "      <td>-3.72980</td>\n",
       "      <td>-7.13281</td>\n",
       "      <td>-1.0</td>\n",
       "      <td>11.86261</td>\n",
       "      <td>59.14596</td>\n",
       "      <td>70.77777</td>\n",
       "      <td>519.1353</td>\n",
       "    </tr>\n",
       "    <tr>\n",
       "      <th>1</th>\n",
       "      <td>01.01.2016 00:01:00</td>\n",
       "      <td>65.59</td>\n",
       "      <td>48.0</td>\n",
       "      <td>6.0</td>\n",
       "      <td>98.9</td>\n",
       "      <td>6.86923</td>\n",
       "      <td>64.01093</td>\n",
       "      <td>98.45134</td>\n",
       "      <td>56.04396</td>\n",
       "      <td>0.00292</td>\n",
       "      <td>...</td>\n",
       "      <td>134.8389</td>\n",
       "      <td>25.61035</td>\n",
       "      <td>90.90942</td>\n",
       "      <td>-3.72989</td>\n",
       "      <td>-7.13306</td>\n",
       "      <td>-1.0</td>\n",
       "      <td>11.86295</td>\n",
       "      <td>59.18106</td>\n",
       "      <td>70.93322</td>\n",
       "      <td>519.1353</td>\n",
       "    </tr>\n",
       "    <tr>\n",
       "      <th>2</th>\n",
       "      <td>01.01.2016 00:02:00</td>\n",
       "      <td>65.59</td>\n",
       "      <td>48.0</td>\n",
       "      <td>6.0</td>\n",
       "      <td>98.9</td>\n",
       "      <td>6.86095</td>\n",
       "      <td>63.99218</td>\n",
       "      <td>98.44153</td>\n",
       "      <td>56.01728</td>\n",
       "      <td>0.00292</td>\n",
       "      <td>...</td>\n",
       "      <td>134.6192</td>\n",
       "      <td>25.61055</td>\n",
       "      <td>90.88013</td>\n",
       "      <td>-3.73050</td>\n",
       "      <td>-7.13440</td>\n",
       "      <td>-1.0</td>\n",
       "      <td>11.86490</td>\n",
       "      <td>59.16980</td>\n",
       "      <td>70.03181</td>\n",
       "      <td>519.1346</td>\n",
       "    </tr>\n",
       "    <tr>\n",
       "      <th>3</th>\n",
       "      <td>01.01.2016 00:03:00</td>\n",
       "      <td>65.59</td>\n",
       "      <td>48.0</td>\n",
       "      <td>6.0</td>\n",
       "      <td>98.9</td>\n",
       "      <td>6.85725</td>\n",
       "      <td>63.98800</td>\n",
       "      <td>98.44115</td>\n",
       "      <td>56.01207</td>\n",
       "      <td>0.00292</td>\n",
       "      <td>...</td>\n",
       "      <td>134.6191</td>\n",
       "      <td>25.63477</td>\n",
       "      <td>90.87057</td>\n",
       "      <td>-3.73145</td>\n",
       "      <td>-7.13660</td>\n",
       "      <td>-1.0</td>\n",
       "      <td>11.86804</td>\n",
       "      <td>59.30387</td>\n",
       "      <td>70.46443</td>\n",
       "      <td>519.1337</td>\n",
       "    </tr>\n",
       "    <tr>\n",
       "      <th>4</th>\n",
       "      <td>01.01.2016 00:04:00</td>\n",
       "      <td>65.59</td>\n",
       "      <td>48.0</td>\n",
       "      <td>6.0</td>\n",
       "      <td>98.9</td>\n",
       "      <td>6.85561</td>\n",
       "      <td>63.98110</td>\n",
       "      <td>98.43896</td>\n",
       "      <td>56.00104</td>\n",
       "      <td>0.00292</td>\n",
       "      <td>...</td>\n",
       "      <td>134.6191</td>\n",
       "      <td>25.63477</td>\n",
       "      <td>90.90518</td>\n",
       "      <td>-3.73212</td>\n",
       "      <td>-7.13818</td>\n",
       "      <td>-1.0</td>\n",
       "      <td>11.87030</td>\n",
       "      <td>59.26101</td>\n",
       "      <td>69.81942</td>\n",
       "      <td>519.1330</td>\n",
       "    </tr>\n",
       "  </tbody>\n",
       "</table>\n",
       "<p>5 rows × 68 columns</p>\n",
       "</div>"
      ],
      "text/plain": [
       "             Timestamp  35_21_1000.Q.KatKlAB.AroPf.v  \\\n",
       "0  01.01.2016 00:00:00                         65.59   \n",
       "1  01.01.2016 00:01:00                         65.59   \n",
       "2  01.01.2016 00:02:00                         65.59   \n",
       "3  01.01.2016 00:03:00                         65.59   \n",
       "4  01.01.2016 00:04:00                         65.59   \n",
       "\n",
       "   35_21_1000.Q.KatKlAB.DavNpar  35_21_1000.Q.KatKlAB.EBen70  \\\n",
       "0                          48.0                          6.0   \n",
       "1                          48.0                          6.0   \n",
       "2                          48.0                          6.0   \n",
       "3                          48.0                          6.0   \n",
       "4                          48.0                          6.0   \n",
       "\n",
       "   35_21_1000.Q.KatKlD.1444.octanI  35_21_1000_CCR_CAT_70  \\\n",
       "0                             98.9                6.87640   \n",
       "1                             98.9                6.86923   \n",
       "2                             98.9                6.86095   \n",
       "3                             98.9                6.85725   \n",
       "4                             98.9                6.85561   \n",
       "\n",
       "   35_21_1000_CCR_CAT_AR  35_21_1000_CCR_CAT_RON  35_21_1000_CCR_CAT_RVP  \\\n",
       "0               64.05901                98.45841                56.06648   \n",
       "1               64.01093                98.45134                56.04396   \n",
       "2               63.99218                98.44153                56.01728   \n",
       "3               63.98800                98.44115                56.01207   \n",
       "4               63.98110                98.43896                56.00104   \n",
       "\n",
       "   35_21_1000_FC_3121.SP  ...  35_21_1000_TI_3305  35_21_1000_TI_3581  \\\n",
       "0                0.00292  ...            134.7649            25.61035   \n",
       "1                0.00292  ...            134.8389            25.61035   \n",
       "2                0.00292  ...            134.6192            25.61055   \n",
       "3                0.00292  ...            134.6191            25.63477   \n",
       "4                0.00292  ...            134.6191            25.63477   \n",
       "\n",
       "   CCR_CCR300_CV_3DT_H1_VAL  CCR_CCR300_CV_DT_R12_VAL  \\\n",
       "0                  90.86990                  -3.72980   \n",
       "1                  90.90942                  -3.72989   \n",
       "2                  90.88013                  -3.73050   \n",
       "3                  90.87057                  -3.73145   \n",
       "4                  90.90518                  -3.73212   \n",
       "\n",
       "   CCR_CCR300_CV_DT_R23_VAL  CCR_CCR300_CV_DT_R34_VAL  \\\n",
       "0                  -7.13281                      -1.0   \n",
       "1                  -7.13306                      -1.0   \n",
       "2                  -7.13440                      -1.0   \n",
       "3                  -7.13660                      -1.0   \n",
       "4                  -7.13818                      -1.0   \n",
       "\n",
       "   CCR_CCR300_CV_DT_R41_VAL  CCR_CCR300_CV_FI_3101PTC_VAL  \\\n",
       "0                  11.86261                      59.14596   \n",
       "1                  11.86295                      59.18106   \n",
       "2                  11.86490                      59.16980   \n",
       "3                  11.86804                      59.30387   \n",
       "4                  11.87030                      59.26101   \n",
       "\n",
       "   CCR_CCR300_CV_PC_3180_OP_VAL  CCR_CCR300_CV_WAIT_SP_VAL  \n",
       "0                      70.77777                   519.1353  \n",
       "1                      70.93322                   519.1353  \n",
       "2                      70.03181                   519.1346  \n",
       "3                      70.46443                   519.1337  \n",
       "4                      69.81942                   519.1330  \n",
       "\n",
       "[5 rows x 68 columns]"
      ]
     },
     "execution_count": 6,
     "metadata": {},
     "output_type": "execute_result"
    }
   ],
   "source": [
    "data.head()"
   ]
  },
  {
   "cell_type": "code",
   "execution_count": 7,
   "id": "bca4d451",
   "metadata": {},
   "outputs": [
    {
     "data": {
      "text/plain": [
       "Index(['Timestamp', '35_21_1000.Q.KatKlAB.AroPf.v',\n",
       "       '35_21_1000.Q.KatKlAB.DavNpar', '35_21_1000.Q.KatKlAB.EBen70',\n",
       "       '35_21_1000.Q.KatKlD.1444.octanI', '35_21_1000_CCR_CAT_70',\n",
       "       '35_21_1000_CCR_CAT_AR', '35_21_1000_CCR_CAT_RON',\n",
       "       '35_21_1000_CCR_CAT_RVP', '35_21_1000_FC_3121.SP', '35_21_1000_FC_3122',\n",
       "       '35_21_1000_FC_321.SP', '35_21_1000_FI_3101', '35_21_1000_FI_3130',\n",
       "       '35_21_1000_FI_326', '35_21_1000_FRQ_140', '35_21_1000_LC_208.OP',\n",
       "       '35_21_1000_LC_3116.OP', '35_21_1000_PC_1214', '35_21_1000_PC_3123',\n",
       "       '35_21_1000_PC_3123.OP', '35_21_1000_PC_3147', '35_21_1000_PC_3147.OP',\n",
       "       '35_21_1000_PC_3158', '35_21_1000_PC_3158.OP', '35_21_1000_PC_3169',\n",
       "       '35_21_1000_PC_3169.OP', '35_21_1000_PC_3180', '35_21_1000_PC_3194',\n",
       "       '35_21_1000_PC_3194.OP', '35_21_1000_PI_3300', '35_21_1000_PI_3306',\n",
       "       '35_21_1000_TC_301.OP', '35_21_1000_TC_301.SP', '35_21_1000_TC_304.OP',\n",
       "       '35_21_1000_TC_304.SP', '35_21_1000_TC_307.OP', '35_21_1000_TC_307.SP',\n",
       "       '35_21_1000_TC_310.OP', '35_21_1000_TC_310.SP', '35_21_1000_TC_3119.OP',\n",
       "       '35_21_1000_TC_3119.SP', '35_21_1000_TI_302', '35_21_1000_TI_305',\n",
       "       '35_21_1000_TI_308', '35_21_1000_TI_311', '35_21_1000_TI_3111',\n",
       "       '35_21_1000_TI_3114', '35_21_1000_TI_3115', '35_21_1000_TI_313',\n",
       "       '35_21_1000_TI_3138', '35_21_1000_TI_314', '35_21_1000_TI_3149',\n",
       "       '35_21_1000_TI_315', '35_21_1000_TI_316', '35_21_1000_TI_3160',\n",
       "       '35_21_1000_TI_3171', '35_21_1000_TI_3184', '35_21_1000_TI_3305',\n",
       "       '35_21_1000_TI_3581', 'CCR_CCR300_CV_3DT_H1_VAL',\n",
       "       'CCR_CCR300_CV_DT_R12_VAL', 'CCR_CCR300_CV_DT_R23_VAL',\n",
       "       'CCR_CCR300_CV_DT_R34_VAL', 'CCR_CCR300_CV_DT_R41_VAL',\n",
       "       'CCR_CCR300_CV_FI_3101PTC_VAL', 'CCR_CCR300_CV_PC_3180_OP_VAL',\n",
       "       'CCR_CCR300_CV_WAIT_SP_VAL'],\n",
       "      dtype='object')"
      ]
     },
     "execution_count": 7,
     "metadata": {},
     "output_type": "execute_result"
    }
   ],
   "source": [
    "data.columns"
   ]
  },
  {
   "cell_type": "code",
   "execution_count": 8,
   "id": "87935413",
   "metadata": {},
   "outputs": [
    {
     "data": {
      "text/plain": [
       "array([[<AxesSubplot:title={'center':'35_21_1000.Q.KatKlD.1444.octanI'}>,\n",
       "        <AxesSubplot:title={'center':'35_21_1000.Q.KatKlAB.DavNpar'}>],\n",
       "       [<AxesSubplot:title={'center':'35_21_1000.Q.KatKlAB.EBen70'}>,\n",
       "        <AxesSubplot:title={'center':'35_21_1000.Q.KatKlAB.AroPf.v'}>]],\n",
       "      dtype=object)"
      ]
     },
     "execution_count": 8,
     "metadata": {},
     "output_type": "execute_result"
    },
    {
     "data": {
      "image/png": "[encoded data removed]",
      "text/plain": [
       "<Figure size 640x480 with 4 Axes>"
      ]
     },
     "metadata": {},
     "output_type": "display_data"
    }
   ],
   "source": [
    "data[soft].hist(bins=100)"
   ]
  },
  {
   "cell_type": "code",
   "execution_count": 9,
   "id": "a17efc15",
   "metadata": {},
   "outputs": [],
   "source": [
    "def check_periods(a):\n",
    "    tmp = data[a].diff().dropna() != 0.0\n",
    "    print(f'\\n{a}\\ncnt: {tmp.sum()}')\n",
    "    inds = np.diff(np.where(tmp)[0])\n",
    "    tmp = np.unique(inds, return_counts=True)\n",
    "    print(f\"min = {tmp[0][0]}\")\n",
    "    print(sorted([(y, x) for x, y in zip(*tmp)], reverse=True)[:5])"
   ]
  },
  {
   "cell_type": "code",
   "execution_count": 10,
   "id": "6ef1a202",
   "metadata": {},
   "outputs": [
    {
     "name": "stdout",
     "output_type": "stream",
     "text": [
      "\n",
      "35_21_1000.Q.KatKlD.1444.octanI\n",
      "cnt: 1217\n",
      "min = 48\n",
      "[(958, 1440), (130, 2880), (14, 4320), (7, 480), (6, 960)]\n",
      "\n",
      "35_21_1000.Q.KatKlAB.DavNpar\n",
      "cnt: 842\n",
      "min = 120\n",
      "[(493, 2880), (267, 1440), (12, 240), (11, 2640), (5, 1200)]\n",
      "\n",
      "35_21_1000.Q.KatKlAB.EBen70\n",
      "cnt: 1278\n",
      "min = 120\n",
      "[(1145, 1440), (78, 2880), (5, 960), (5, 480), (2, 1380)]\n",
      "\n",
      "35_21_1000.Q.KatKlAB.AroPf.v\n",
      "cnt: 867\n",
      "min = 120\n",
      "[(459, 2880), (325, 1440), (6, 4320), (3, 5760), (3, 960)]\n"
     ]
    }
   ],
   "source": [
    "for name in soft:\n",
    "    check_periods(name)"
   ]
  },
  {
   "cell_type": "markdown",
   "id": "54ca392f",
   "metadata": {},
   "source": [
    "Период 1440 минут (24 часа)"
   ]
  },
  {
   "cell_type": "code",
   "execution_count": 11,
   "id": "cf56c078",
   "metadata": {},
   "outputs": [],
   "source": [
    "#Берем пока значения при изменениях\n",
    "data1 = pd.read_csv(\"Dataset1.csv\", sep=\";\")\n",
    "for s in soft:\n",
    "    mask = data1[s].diff() != 0.0\n",
    "    new_val = data1[s].to_numpy().copy()\n",
    "    new_val[~mask] = np.NaN\n",
    "    data1[s] = new_val\n",
    "#     data[s][~mask] = np.NaN"
   ]
  },
  {
   "cell_type": "code",
   "execution_count": 12,
   "id": "f1e3e2a2",
   "metadata": {},
   "outputs": [],
   "source": [
    "data1.drop([renaming[s] for s in soft], axis=1, inplace=True)"
   ]
  },
  {
   "cell_type": "code",
   "execution_count": 13,
   "id": "55650522",
   "metadata": {},
   "outputs": [
    {
     "data": {
      "text/plain": [
       "(2040480, 64)"
      ]
     },
     "execution_count": 13,
     "metadata": {},
     "output_type": "execute_result"
    }
   ],
   "source": [
    "data1.shape"
   ]
  },
  {
   "cell_type": "code",
   "execution_count": 14,
   "id": "0242b35c",
   "metadata": {},
   "outputs": [
    {
     "data": {
      "text/html": [
       "<div>\n",
       "<style scoped>\n",
       "    .dataframe tbody tr th:only-of-type {\n",
       "        vertical-align: middle;\n",
       "    }\n",
       "\n",
       "    .dataframe tbody tr th {\n",
       "        vertical-align: top;\n",
       "    }\n",
       "\n",
       "    .dataframe thead th {\n",
       "        text-align: right;\n",
       "    }\n",
       "</style>\n",
       "<table border=\"1\" class=\"dataframe\">\n",
       "  <thead>\n",
       "    <tr style=\"text-align: right;\">\n",
       "      <th></th>\n",
       "      <th>Timestamp</th>\n",
       "      <th>35_21_1000.Q.KatKlAB.AroPf.v</th>\n",
       "      <th>35_21_1000.Q.KatKlAB.DavNpar</th>\n",
       "      <th>35_21_1000.Q.KatKlAB.EBen70</th>\n",
       "      <th>35_21_1000.Q.KatKlD.1444.octanI</th>\n",
       "      <th>35_21_1000_FC_3121.SP</th>\n",
       "      <th>35_21_1000_FC_3122</th>\n",
       "      <th>35_21_1000_FC_321.SP</th>\n",
       "      <th>35_21_1000_FI_3101</th>\n",
       "      <th>35_21_1000_FI_3130</th>\n",
       "      <th>...</th>\n",
       "      <th>35_21_1000_TI_3305</th>\n",
       "      <th>35_21_1000_TI_3581</th>\n",
       "      <th>CCR_CCR300_CV_3DT_H1_VAL</th>\n",
       "      <th>CCR_CCR300_CV_DT_R12_VAL</th>\n",
       "      <th>CCR_CCR300_CV_DT_R23_VAL</th>\n",
       "      <th>CCR_CCR300_CV_DT_R34_VAL</th>\n",
       "      <th>CCR_CCR300_CV_DT_R41_VAL</th>\n",
       "      <th>CCR_CCR300_CV_FI_3101PTC_VAL</th>\n",
       "      <th>CCR_CCR300_CV_PC_3180_OP_VAL</th>\n",
       "      <th>CCR_CCR300_CV_WAIT_SP_VAL</th>\n",
       "    </tr>\n",
       "  </thead>\n",
       "  <tbody>\n",
       "    <tr>\n",
       "      <th>0</th>\n",
       "      <td>01.01.2016 00:00:00</td>\n",
       "      <td>65.59</td>\n",
       "      <td>48.0</td>\n",
       "      <td>6.0</td>\n",
       "      <td>98.9</td>\n",
       "      <td>0.00292</td>\n",
       "      <td>33.61328</td>\n",
       "      <td>194.0002</td>\n",
       "      <td>59.90619</td>\n",
       "      <td>2798.065</td>\n",
       "      <td>...</td>\n",
       "      <td>134.7649</td>\n",
       "      <td>25.61035</td>\n",
       "      <td>90.86990</td>\n",
       "      <td>-3.72980</td>\n",
       "      <td>-7.13281</td>\n",
       "      <td>-1.0</td>\n",
       "      <td>11.86261</td>\n",
       "      <td>59.14596</td>\n",
       "      <td>70.77777</td>\n",
       "      <td>519.1353</td>\n",
       "    </tr>\n",
       "    <tr>\n",
       "      <th>1</th>\n",
       "      <td>01.01.2016 00:01:00</td>\n",
       "      <td>NaN</td>\n",
       "      <td>NaN</td>\n",
       "      <td>NaN</td>\n",
       "      <td>NaN</td>\n",
       "      <td>0.00292</td>\n",
       "      <td>33.77030</td>\n",
       "      <td>194.0002</td>\n",
       "      <td>60.26051</td>\n",
       "      <td>2826.544</td>\n",
       "      <td>...</td>\n",
       "      <td>134.8389</td>\n",
       "      <td>25.61035</td>\n",
       "      <td>90.90942</td>\n",
       "      <td>-3.72989</td>\n",
       "      <td>-7.13306</td>\n",
       "      <td>-1.0</td>\n",
       "      <td>11.86295</td>\n",
       "      <td>59.18106</td>\n",
       "      <td>70.93322</td>\n",
       "      <td>519.1353</td>\n",
       "    </tr>\n",
       "    <tr>\n",
       "      <th>2</th>\n",
       "      <td>01.01.2016 00:02:00</td>\n",
       "      <td>NaN</td>\n",
       "      <td>NaN</td>\n",
       "      <td>NaN</td>\n",
       "      <td>NaN</td>\n",
       "      <td>0.00292</td>\n",
       "      <td>33.86683</td>\n",
       "      <td>194.0002</td>\n",
       "      <td>60.16202</td>\n",
       "      <td>2817.218</td>\n",
       "      <td>...</td>\n",
       "      <td>134.6192</td>\n",
       "      <td>25.61055</td>\n",
       "      <td>90.88013</td>\n",
       "      <td>-3.73050</td>\n",
       "      <td>-7.13440</td>\n",
       "      <td>-1.0</td>\n",
       "      <td>11.86490</td>\n",
       "      <td>59.16980</td>\n",
       "      <td>70.03181</td>\n",
       "      <td>519.1346</td>\n",
       "    </tr>\n",
       "    <tr>\n",
       "      <th>3</th>\n",
       "      <td>01.01.2016 00:03:00</td>\n",
       "      <td>NaN</td>\n",
       "      <td>NaN</td>\n",
       "      <td>NaN</td>\n",
       "      <td>NaN</td>\n",
       "      <td>0.00292</td>\n",
       "      <td>34.00380</td>\n",
       "      <td>194.0002</td>\n",
       "      <td>60.28071</td>\n",
       "      <td>2806.594</td>\n",
       "      <td>...</td>\n",
       "      <td>134.6191</td>\n",
       "      <td>25.63477</td>\n",
       "      <td>90.87057</td>\n",
       "      <td>-3.73145</td>\n",
       "      <td>-7.13660</td>\n",
       "      <td>-1.0</td>\n",
       "      <td>11.86804</td>\n",
       "      <td>59.30387</td>\n",
       "      <td>70.46443</td>\n",
       "      <td>519.1337</td>\n",
       "    </tr>\n",
       "    <tr>\n",
       "      <th>4</th>\n",
       "      <td>01.01.2016 00:04:00</td>\n",
       "      <td>NaN</td>\n",
       "      <td>NaN</td>\n",
       "      <td>NaN</td>\n",
       "      <td>NaN</td>\n",
       "      <td>0.00292</td>\n",
       "      <td>33.70545</td>\n",
       "      <td>194.0002</td>\n",
       "      <td>59.33250</td>\n",
       "      <td>2774.242</td>\n",
       "      <td>...</td>\n",
       "      <td>134.6191</td>\n",
       "      <td>25.63477</td>\n",
       "      <td>90.90518</td>\n",
       "      <td>-3.73212</td>\n",
       "      <td>-7.13818</td>\n",
       "      <td>-1.0</td>\n",
       "      <td>11.87030</td>\n",
       "      <td>59.26101</td>\n",
       "      <td>69.81942</td>\n",
       "      <td>519.1330</td>\n",
       "    </tr>\n",
       "  </tbody>\n",
       "</table>\n",
       "<p>5 rows × 64 columns</p>\n",
       "</div>"
      ],
      "text/plain": [
       "             Timestamp  35_21_1000.Q.KatKlAB.AroPf.v  \\\n",
       "0  01.01.2016 00:00:00                         65.59   \n",
       "1  01.01.2016 00:01:00                           NaN   \n",
       "2  01.01.2016 00:02:00                           NaN   \n",
       "3  01.01.2016 00:03:00                           NaN   \n",
       "4  01.01.2016 00:04:00                           NaN   \n",
       "\n",
       "   35_21_1000.Q.KatKlAB.DavNpar  35_21_1000.Q.KatKlAB.EBen70  \\\n",
       "0                          48.0                          6.0   \n",
       "1                           NaN                          NaN   \n",
       "2                           NaN                          NaN   \n",
       "3                           NaN                          NaN   \n",
       "4                           NaN                          NaN   \n",
       "\n",
       "   35_21_1000.Q.KatKlD.1444.octanI  35_21_1000_FC_3121.SP  35_21_1000_FC_3122  \\\n",
       "0                             98.9                0.00292            33.61328   \n",
       "1                              NaN                0.00292            33.77030   \n",
       "2                              NaN                0.00292            33.86683   \n",
       "3                              NaN                0.00292            34.00380   \n",
       "4                              NaN                0.00292            33.70545   \n",
       "\n",
       "   35_21_1000_FC_321.SP  35_21_1000_FI_3101  35_21_1000_FI_3130  ...  \\\n",
       "0              194.0002            59.90619            2798.065  ...   \n",
       "1              194.0002            60.26051            2826.544  ...   \n",
       "2              194.0002            60.16202            2817.218  ...   \n",
       "3              194.0002            60.28071            2806.594  ...   \n",
       "4              194.0002            59.33250            2774.242  ...   \n",
       "\n",
       "   35_21_1000_TI_3305  35_21_1000_TI_3581  CCR_CCR300_CV_3DT_H1_VAL  \\\n",
       "0            134.7649            25.61035                  90.86990   \n",
       "1            134.8389            25.61035                  90.90942   \n",
       "2            134.6192            25.61055                  90.88013   \n",
       "3            134.6191            25.63477                  90.87057   \n",
       "4            134.6191            25.63477                  90.90518   \n",
       "\n",
       "   CCR_CCR300_CV_DT_R12_VAL  CCR_CCR300_CV_DT_R23_VAL  \\\n",
       "0                  -3.72980                  -7.13281   \n",
       "1                  -3.72989                  -7.13306   \n",
       "2                  -3.73050                  -7.13440   \n",
       "3                  -3.73145                  -7.13660   \n",
       "4                  -3.73212                  -7.13818   \n",
       "\n",
       "   CCR_CCR300_CV_DT_R34_VAL  CCR_CCR300_CV_DT_R41_VAL  \\\n",
       "0                      -1.0                  11.86261   \n",
       "1                      -1.0                  11.86295   \n",
       "2                      -1.0                  11.86490   \n",
       "3                      -1.0                  11.86804   \n",
       "4                      -1.0                  11.87030   \n",
       "\n",
       "   CCR_CCR300_CV_FI_3101PTC_VAL  CCR_CCR300_CV_PC_3180_OP_VAL  \\\n",
       "0                      59.14596                      70.77777   \n",
       "1                      59.18106                      70.93322   \n",
       "2                      59.16980                      70.03181   \n",
       "3                      59.30387                      70.46443   \n",
       "4                      59.26101                      69.81942   \n",
       "\n",
       "   CCR_CCR300_CV_WAIT_SP_VAL  \n",
       "0                   519.1353  \n",
       "1                   519.1353  \n",
       "2                   519.1346  \n",
       "3                   519.1337  \n",
       "4                   519.1330  \n",
       "\n",
       "[5 rows x 64 columns]"
      ]
     },
     "execution_count": 14,
     "metadata": {},
     "output_type": "execute_result"
    }
   ],
   "source": [
    "data1.head()"
   ]
  },
  {
   "cell_type": "code",
   "execution_count": 15,
   "id": "b44576cb",
   "metadata": {},
   "outputs": [],
   "source": [
    "data1.to_csv(\"Dataset1_nans.csv\", sep=';', index=False)"
   ]
  },
  {
   "cell_type": "markdown",
   "id": "fc7c1de7",
   "metadata": {},
   "source": [
    "Там есть две колонки: данные из лаборатории и соответствующие им названия, но они как будто уже интерполированы (линейными моделями)"
   ]
  },
  {
   "cell_type": "code",
   "execution_count": 16,
   "id": "4ceaa40b",
   "metadata": {},
   "outputs": [],
   "source": [
    "a = '35_21_1000.Q.KatKlD.1444.octanI'\n",
    "b = '35_21_1000_CCR_CAT_RON'"
   ]
  },
  {
   "cell_type": "code",
   "execution_count": 17,
   "id": "ab703ef4",
   "metadata": {},
   "outputs": [],
   "source": [
    "mask_a = data[a].diff().dropna() != 0"
   ]
  },
  {
   "cell_type": "code",
   "execution_count": 18,
   "id": "4609c988",
   "metadata": {},
   "outputs": [
    {
     "data": {
      "text/plain": [
       "1217"
      ]
     },
     "execution_count": 18,
     "metadata": {},
     "output_type": "execute_result"
    }
   ],
   "source": [
    "mask_a.sum()"
   ]
  },
  {
   "cell_type": "code",
   "execution_count": 19,
   "id": "b1685508",
   "metadata": {},
   "outputs": [],
   "source": [
    "mask_b = data[b].diff().dropna() != 0"
   ]
  },
  {
   "cell_type": "code",
   "execution_count": 20,
   "id": "7700316a",
   "metadata": {},
   "outputs": [
    {
     "data": {
      "text/plain": [
       "1840853"
      ]
     },
     "execution_count": 20,
     "metadata": {},
     "output_type": "execute_result"
    }
   ],
   "source": [
    "mask_b.sum()"
   ]
  },
  {
   "cell_type": "code",
   "execution_count": 21,
   "id": "064eaf29",
   "metadata": {},
   "outputs": [
    {
     "data": {
      "text/plain": [
       "1839784"
      ]
     },
     "execution_count": 21,
     "metadata": {},
     "output_type": "execute_result"
    }
   ],
   "source": [
    "(mask_a != mask_b).sum()"
   ]
  },
  {
   "cell_type": "code",
   "execution_count": 27,
   "id": "ab99fa10",
   "metadata": {},
   "outputs": [
    {
     "data": {
      "text/plain": [
       "<AxesSubplot:>"
      ]
     },
     "execution_count": 27,
     "metadata": {},
     "output_type": "execute_result"
    },
    {
     "data": {
      "image/png": "[encoded data removed]",
      "text/plain": [
       "<Figure size 640x480 with 1 Axes>"
      ]
     },
     "metadata": {},
     "output_type": "display_data"
    }
   ],
   "source": [
    "data[b][:100].plot(color='blue')\n",
    "data[a][:100].plot(color='red')"
   ]
  },
  {
   "cell_type": "code",
   "execution_count": 28,
   "id": "23cd24a2",
   "metadata": {},
   "outputs": [
    {
     "data": {
      "text/plain": [
       "<AxesSubplot:>"
      ]
     },
     "execution_count": 28,
     "metadata": {},
     "output_type": "execute_result"
    },
    {
     "data": {
      "image/png": "[encoded data removed]",
      "text/plain": [
       "<Figure size 640x480 with 1 Axes>"
      ]
     },
     "metadata": {},
     "output_type": "display_data"
    }
   ],
   "source": [
    "data[a].hist(bins=100, alpha=0.5, color='blue')\n",
    "data[b].hist(bins=100, alpha=0.5, color='red')"
   ]
  },
  {
   "cell_type": "code",
   "execution_count": 29,
   "id": "28dc33fa",
   "metadata": {},
   "outputs": [],
   "source": [
    "renaming = {'35_21_1000.Q.KatKlD.1444.octanI':'35_21_1000_CCR_CAT_RON', '35_21_1000.Q.KatKlAB.DavNpar': '35_21_1000_CCR_CAT_RVP', \n",
    "            '35_21_1000.Q.KatKlAB.EBen70':'35_21_1000_CCR_CAT_70', '35_21_1000.Q.KatKlAB.AroPf.v':'35_21_1000_CCR_CAT_AR'\n",
    "           }"
   ]
  },
  {
   "cell_type": "code",
   "execution_count": 30,
   "id": "03d547b9",
   "metadata": {},
   "outputs": [
    {
     "name": "stdout",
     "output_type": "stream",
     "text": [
      "35_21_1000.Q.KatKlD.1444.octanI 35_21_1000_CCR_CAT_RON\n",
      "1217 1840853 91 292667\n",
      "100\n",
      "\n",
      "35_21_1000.Q.KatKlAB.DavNpar 35_21_1000_CCR_CAT_RVP\n",
      "842 1852034 619 1165281\n",
      "0\n",
      "\n",
      "35_21_1000.Q.KatKlAB.EBen70 35_21_1000_CCR_CAT_70\n",
      "1278 1850969 71 542328\n",
      "17\n",
      "\n",
      "35_21_1000.Q.KatKlAB.AroPf.v 35_21_1000_CCR_CAT_AR\n",
      "867 1662894 584 824135\n",
      "4\n",
      "\n"
     ]
    }
   ],
   "source": [
    "for a, b in renaming.items():\n",
    "    print(a, b)\n",
    "    mask_a = data[a].diff().dropna() != 0\n",
    "    mask_b = data[b].diff().dropna() != 0\n",
    "    print(mask_a.sum(), mask_b.sum(), len(np.unique(data[a])), len(np.unique(data[b])))\n",
    "    print((data[a] == data[b]).sum())\n",
    "    print()\n",
    "    "
   ]
  },
  {
   "cell_type": "code",
   "execution_count": 31,
   "id": "5c78b02c",
   "metadata": {},
   "outputs": [],
   "source": [
    "a = '35_21_1000.Q.KatKlD.1444.octanI'\n",
    "b = '35_21_1000_CCR_CAT_RON'"
   ]
  },
  {
   "cell_type": "code",
   "execution_count": 32,
   "id": "018bc0a3",
   "metadata": {},
   "outputs": [
    {
     "data": {
      "text/plain": [
       "<AxesSubplot:>"
      ]
     },
     "execution_count": 32,
     "metadata": {},
     "output_type": "execute_result"
    },
    {
     "data": {
      "image/png": "[encoded data removed]",
      "text/plain": [
       "<Figure size 640x480 with 1 Axes>"
      ]
     },
     "metadata": {},
     "output_type": "display_data"
    }
   ],
   "source": [
    "data[a][:1000].plot()\n",
    "data[b][:1000].plot()"
   ]
  },
  {
   "cell_type": "code",
   "execution_count": 33,
   "id": "83661ef7",
   "metadata": {},
   "outputs": [],
   "source": [
    "dataset = data.drop(['Timestamp'], axis=1).to_numpy()"
   ]
  },
  {
   "cell_type": "code",
   "execution_count": 34,
   "id": "8d7a2f53",
   "metadata": {},
   "outputs": [
    {
     "data": {
      "text/plain": [
       "[<matplotlib.lines.Line2D at 0x7fa41ebe9550>]"
      ]
     },
     "execution_count": 34,
     "metadata": {},
     "output_type": "execute_result"
    },
    {
     "data": {
      "image/png": "[encoded data removed]",
      "text/plain": [
       "<Figure size 640x480 with 1 Axes>"
      ]
     },
     "metadata": {},
     "output_type": "display_data"
    }
   ],
   "source": [
    "ind = 17\n",
    "fr, pxx = signal.periodogram(dataset[ind])\n",
    "plt.plot(fr, pxx)"
   ]
  },
  {
   "cell_type": "code",
   "execution_count": 35,
   "id": "e41f25e2",
   "metadata": {},
   "outputs": [
    {
     "data": {
      "text/plain": [
       "array([2.04394167e+04, 2.01840706e+04, 3.47572515e+04, 5.96903401e+03,\n",
       "       2.81379229e+03, 4.21811195e+04, 1.21570208e+04, 8.60106952e+03,\n",
       "       3.91468254e+04, 6.22905889e+03, 2.14484232e+04, 4.98466341e+03,\n",
       "       4.46080797e+03, 3.82318702e+03, 4.94440000e+03, 2.45901519e+04,\n",
       "       5.00460189e+02, 4.72631907e+02, 2.27844681e+03, 4.00142034e+03,\n",
       "       6.68035395e+04, 5.01545792e+03, 1.76963693e+04, 1.24829116e+04,\n",
       "       1.96835036e+04, 3.45960006e+04, 1.76240608e+03, 5.48656791e+04,\n",
       "       9.65917538e+04, 1.03533982e+05, 6.84689887e+04, 3.31852094e+01,\n",
       "       2.54971712e+04])"
      ]
     },
     "execution_count": 35,
     "metadata": {},
     "output_type": "execute_result"
    }
   ],
   "source": [
    "fr, pxx = signal.periodogram(dataset[ind])\n",
    "tmp = np.array(sorted([(x, y) for x, y in zip(fr, pxx)], key=lambda x: x[1], reverse=False))\n",
    "np.diff(tmp[:, 1])"
   ]
  }
 ],
 "metadata": {
  "kernelspec": {
   "display_name": "anna",
   "language": "python",
   "name": "anna"
  },
  "language_info": {
   "codemirror_mode": {
    "name": "ipython",
    "version": 3
   },
   "file_extension": ".py",
   "mimetype": "text/x-python",
   "name": "python",
   "nbconvert_exporter": "python",
   "pygments_lexer": "ipython3",
   "version": "3.9.15"
  }
 },
 "nbformat": 4,
 "nbformat_minor": 5
}
