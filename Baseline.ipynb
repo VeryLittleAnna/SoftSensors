{
 "cells": [
  {
   "cell_type": "code",
   "execution_count": 3,
   "id": "ba91b9a0",
   "metadata": {},
   "outputs": [
    {
     "name": "stdout",
     "output_type": "stream",
     "text": [
      "The autoreload extension is already loaded. To reload it, use:\n",
      "  %reload_ext autoreload\n"
     ]
    }
   ],
   "source": [
    "%load_ext autoreload\n",
    "%autoreload 2"
   ]
  },
  {
   "cell_type": "code",
   "execution_count": 4,
   "id": "93a30152",
   "metadata": {},
   "outputs": [
    {
     "name": "stderr",
     "output_type": "stream",
     "text": [
      "/home/grinenko/anaconda3/envs/anna/lib/python3.9/site-packages/tqdm/auto.py:21: TqdmWarning: IProgress not found. Please update jupyter and ipywidgets. See https://ipywidgets.readthedocs.io/en/stable/user_install.html\n",
      "  from .autonotebook import tqdm as notebook_tqdm\n"
     ]
    }
   ],
   "source": [
    "import dataset_utils\n",
    "from Utils import MAPE, RMSELoss, EarlyStopper\n",
    "import pandas as pd\n",
    "import torch\n",
    "import numpy as np\n",
    "import matplotlib.pyplot as plt\n",
    "from numpy.lib.stride_tricks import sliding_window_view\n",
    "from sklearn.model_selection import train_test_split, TimeSeriesSplit\n",
    "import torch.nn as nn\n",
    "from torch.utils.data import DataLoader\n",
    "from torch.nn import MSELoss\n",
    "from sklearn.preprocessing import StandardScaler\n",
    "from sklearn.metrics import r2_score\n",
    "import itertools\n",
    "from collections import defaultdict\n",
    "from sklearn.compose import TransformedTargetRegressor\n"
   ]
  },
  {
   "cell_type": "code",
   "execution_count": 5,
   "id": "5a82b492",
   "metadata": {},
   "outputs": [],
   "source": [
    "def global_seed(seed=42):\n",
    "    # random.seed(seed)\n",
    "    np.random.seed(seed)\n",
    "    torch.manual_seed(seed)\n",
    "    torch.cuda.manual_seed_all(seed)\n",
    "    torch.backends.cudnn.benchmark = False\n",
    "    torch.backends.cudnn.deterministic = True\n",
    "\n",
    "SEED = 42    \n",
    "global_seed(seed=SEED)"
   ]
  },
  {
   "cell_type": "code",
   "execution_count": 6,
   "id": "4fbc1961",
   "metadata": {},
   "outputs": [],
   "source": [
    "soft = ['35_21_1000.Q.KatKlD.1444.octanI', '35_21_1000.Q.KatKlAB.DavNpar', '35_21_1000.Q.KatKlAB.EBen70', '35_21_1000.Q.KatKlAB.AroPf.v']\n",
    "short_name = {'35_21_1000.Q.KatKlD.1444.octanI': 'octanI', \n",
    "              '35_21_1000.Q.KatKlAB.DavNpar' : 'DavNpar', \n",
    "              '35_21_1000.Q.KatKlAB.EBen70': 'Eben70', \n",
    "              '35_21_1000.Q.KatKlAB.AroPf.v' : 'AroPfv'\n",
    "}"
   ]
  },
  {
   "cell_type": "code",
   "execution_count": 7,
   "id": "4fbcde2a",
   "metadata": {},
   "outputs": [],
   "source": [
    "K = 120 #усреднение\n",
    "SOFT_SENSOR_INDEX = 2\n",
    "SOFT_SENSOR_NAME = soft[SOFT_SENSOR_INDEX]\n",
    "MODEL_PATH = f\"./models/{short_name[SOFT_SENSOR_NAME]}.pth\"\n",
    "PERIODS_FILE = \"periods_W20_gr120_Agl.npy\""
   ]
  },
  {
   "cell_type": "code",
   "execution_count": 8,
   "id": "b6408446",
   "metadata": {},
   "outputs": [],
   "source": [
    "data = pd.read_csv(\"Dataset1_nans.csv\", sep=\";\")"
   ]
  },
  {
   "cell_type": "code",
   "execution_count": 9,
   "id": "74b371db",
   "metadata": {},
   "outputs": [
    {
     "data": {
      "text/html": [
       "<div>\n",
       "<style scoped>\n",
       "    .dataframe tbody tr th:only-of-type {\n",
       "        vertical-align: middle;\n",
       "    }\n",
       "\n",
       "    .dataframe tbody tr th {\n",
       "        vertical-align: top;\n",
       "    }\n",
       "\n",
       "    .dataframe thead th {\n",
       "        text-align: right;\n",
       "    }\n",
       "</style>\n",
       "<table border=\"1\" class=\"dataframe\">\n",
       "  <thead>\n",
       "    <tr style=\"text-align: right;\">\n",
       "      <th></th>\n",
       "      <th>Timestamp</th>\n",
       "      <th>35_21_1000.Q.KatKlAB.AroPf.v</th>\n",
       "      <th>35_21_1000.Q.KatKlAB.DavNpar</th>\n",
       "      <th>35_21_1000.Q.KatKlAB.EBen70</th>\n",
       "      <th>35_21_1000.Q.KatKlD.1444.octanI</th>\n",
       "      <th>35_21_1000_FC_3122</th>\n",
       "      <th>35_21_1000_FC_321.SP</th>\n",
       "      <th>35_21_1000_FI_3101</th>\n",
       "      <th>35_21_1000_FI_3130</th>\n",
       "      <th>35_21_1000_FI_326</th>\n",
       "      <th>...</th>\n",
       "      <th>35_21_1000_TI_3305</th>\n",
       "      <th>35_21_1000_TI_3581</th>\n",
       "      <th>CCR_CCR300_CV_3DT_H1_VAL</th>\n",
       "      <th>CCR_CCR300_CV_DT_R12_VAL</th>\n",
       "      <th>CCR_CCR300_CV_DT_R23_VAL</th>\n",
       "      <th>CCR_CCR300_CV_DT_R34_VAL</th>\n",
       "      <th>CCR_CCR300_CV_DT_R41_VAL</th>\n",
       "      <th>CCR_CCR300_CV_FI_3101PTC_VAL</th>\n",
       "      <th>CCR_CCR300_CV_PC_3180_OP_VAL</th>\n",
       "      <th>CCR_CCR300_CV_WAIT_SP_VAL</th>\n",
       "    </tr>\n",
       "  </thead>\n",
       "  <tbody>\n",
       "    <tr>\n",
       "      <th>0</th>\n",
       "      <td>01.01.2016 00:00:00</td>\n",
       "      <td>65.59</td>\n",
       "      <td>48.0</td>\n",
       "      <td>6.0</td>\n",
       "      <td>98.9</td>\n",
       "      <td>33.61328</td>\n",
       "      <td>194.0002</td>\n",
       "      <td>59.90619</td>\n",
       "      <td>2798.065</td>\n",
       "      <td>50.50889</td>\n",
       "      <td>...</td>\n",
       "      <td>134.7649</td>\n",
       "      <td>25.61035</td>\n",
       "      <td>90.86990</td>\n",
       "      <td>-3.72980</td>\n",
       "      <td>-7.13281</td>\n",
       "      <td>-1.0</td>\n",
       "      <td>11.86261</td>\n",
       "      <td>59.14596</td>\n",
       "      <td>70.77777</td>\n",
       "      <td>519.1353</td>\n",
       "    </tr>\n",
       "    <tr>\n",
       "      <th>1</th>\n",
       "      <td>01.01.2016 00:01:00</td>\n",
       "      <td>NaN</td>\n",
       "      <td>NaN</td>\n",
       "      <td>NaN</td>\n",
       "      <td>NaN</td>\n",
       "      <td>33.77030</td>\n",
       "      <td>194.0002</td>\n",
       "      <td>60.26051</td>\n",
       "      <td>2826.544</td>\n",
       "      <td>50.86543</td>\n",
       "      <td>...</td>\n",
       "      <td>134.8389</td>\n",
       "      <td>25.61035</td>\n",
       "      <td>90.90942</td>\n",
       "      <td>-3.72989</td>\n",
       "      <td>-7.13306</td>\n",
       "      <td>-1.0</td>\n",
       "      <td>11.86295</td>\n",
       "      <td>59.18106</td>\n",
       "      <td>70.93322</td>\n",
       "      <td>519.1353</td>\n",
       "    </tr>\n",
       "    <tr>\n",
       "      <th>2</th>\n",
       "      <td>01.01.2016 00:02:00</td>\n",
       "      <td>NaN</td>\n",
       "      <td>NaN</td>\n",
       "      <td>NaN</td>\n",
       "      <td>NaN</td>\n",
       "      <td>33.86683</td>\n",
       "      <td>194.0002</td>\n",
       "      <td>60.16202</td>\n",
       "      <td>2817.218</td>\n",
       "      <td>50.76682</td>\n",
       "      <td>...</td>\n",
       "      <td>134.6192</td>\n",
       "      <td>25.61055</td>\n",
       "      <td>90.88013</td>\n",
       "      <td>-3.73050</td>\n",
       "      <td>-7.13440</td>\n",
       "      <td>-1.0</td>\n",
       "      <td>11.86490</td>\n",
       "      <td>59.16980</td>\n",
       "      <td>70.03181</td>\n",
       "      <td>519.1346</td>\n",
       "    </tr>\n",
       "    <tr>\n",
       "      <th>3</th>\n",
       "      <td>01.01.2016 00:03:00</td>\n",
       "      <td>NaN</td>\n",
       "      <td>NaN</td>\n",
       "      <td>NaN</td>\n",
       "      <td>NaN</td>\n",
       "      <td>34.00380</td>\n",
       "      <td>194.0002</td>\n",
       "      <td>60.28071</td>\n",
       "      <td>2806.594</td>\n",
       "      <td>50.84354</td>\n",
       "      <td>...</td>\n",
       "      <td>134.6191</td>\n",
       "      <td>25.63477</td>\n",
       "      <td>90.87057</td>\n",
       "      <td>-3.73145</td>\n",
       "      <td>-7.13660</td>\n",
       "      <td>-1.0</td>\n",
       "      <td>11.86804</td>\n",
       "      <td>59.30387</td>\n",
       "      <td>70.46443</td>\n",
       "      <td>519.1337</td>\n",
       "    </tr>\n",
       "    <tr>\n",
       "      <th>4</th>\n",
       "      <td>01.01.2016 00:04:00</td>\n",
       "      <td>NaN</td>\n",
       "      <td>NaN</td>\n",
       "      <td>NaN</td>\n",
       "      <td>NaN</td>\n",
       "      <td>33.70545</td>\n",
       "      <td>194.0002</td>\n",
       "      <td>59.33250</td>\n",
       "      <td>2774.242</td>\n",
       "      <td>50.95883</td>\n",
       "      <td>...</td>\n",
       "      <td>134.6191</td>\n",
       "      <td>25.63477</td>\n",
       "      <td>90.90518</td>\n",
       "      <td>-3.73212</td>\n",
       "      <td>-7.13818</td>\n",
       "      <td>-1.0</td>\n",
       "      <td>11.87030</td>\n",
       "      <td>59.26101</td>\n",
       "      <td>69.81942</td>\n",
       "      <td>519.1330</td>\n",
       "    </tr>\n",
       "  </tbody>\n",
       "</table>\n",
       "<p>5 rows × 62 columns</p>\n",
       "</div>"
      ],
      "text/plain": [
       "             Timestamp  35_21_1000.Q.KatKlAB.AroPf.v  \\\n",
       "0  01.01.2016 00:00:00                         65.59   \n",
       "1  01.01.2016 00:01:00                           NaN   \n",
       "2  01.01.2016 00:02:00                           NaN   \n",
       "3  01.01.2016 00:03:00                           NaN   \n",
       "4  01.01.2016 00:04:00                           NaN   \n",
       "\n",
       "   35_21_1000.Q.KatKlAB.DavNpar  35_21_1000.Q.KatKlAB.EBen70  \\\n",
       "0                          48.0                          6.0   \n",
       "1                           NaN                          NaN   \n",
       "2                           NaN                          NaN   \n",
       "3                           NaN                          NaN   \n",
       "4                           NaN                          NaN   \n",
       "\n",
       "   35_21_1000.Q.KatKlD.1444.octanI  35_21_1000_FC_3122  35_21_1000_FC_321.SP  \\\n",
       "0                             98.9            33.61328              194.0002   \n",
       "1                              NaN            33.77030              194.0002   \n",
       "2                              NaN            33.86683              194.0002   \n",
       "3                              NaN            34.00380              194.0002   \n",
       "4                              NaN            33.70545              194.0002   \n",
       "\n",
       "   35_21_1000_FI_3101  35_21_1000_FI_3130  35_21_1000_FI_326  ...  \\\n",
       "0            59.90619            2798.065           50.50889  ...   \n",
       "1            60.26051            2826.544           50.86543  ...   \n",
       "2            60.16202            2817.218           50.76682  ...   \n",
       "3            60.28071            2806.594           50.84354  ...   \n",
       "4            59.33250            2774.242           50.95883  ...   \n",
       "\n",
       "   35_21_1000_TI_3305  35_21_1000_TI_3581  CCR_CCR300_CV_3DT_H1_VAL  \\\n",
       "0            134.7649            25.61035                  90.86990   \n",
       "1            134.8389            25.61035                  90.90942   \n",
       "2            134.6192            25.61055                  90.88013   \n",
       "3            134.6191            25.63477                  90.87057   \n",
       "4            134.6191            25.63477                  90.90518   \n",
       "\n",
       "   CCR_CCR300_CV_DT_R12_VAL  CCR_CCR300_CV_DT_R23_VAL  \\\n",
       "0                  -3.72980                  -7.13281   \n",
       "1                  -3.72989                  -7.13306   \n",
       "2                  -3.73050                  -7.13440   \n",
       "3                  -3.73145                  -7.13660   \n",
       "4                  -3.73212                  -7.13818   \n",
       "\n",
       "   CCR_CCR300_CV_DT_R34_VAL  CCR_CCR300_CV_DT_R41_VAL  \\\n",
       "0                      -1.0                  11.86261   \n",
       "1                      -1.0                  11.86295   \n",
       "2                      -1.0                  11.86490   \n",
       "3                      -1.0                  11.86804   \n",
       "4                      -1.0                  11.87030   \n",
       "\n",
       "   CCR_CCR300_CV_FI_3101PTC_VAL  CCR_CCR300_CV_PC_3180_OP_VAL  \\\n",
       "0                      59.14596                      70.77777   \n",
       "1                      59.18106                      70.93322   \n",
       "2                      59.16980                      70.03181   \n",
       "3                      59.30387                      70.46443   \n",
       "4                      59.26101                      69.81942   \n",
       "\n",
       "   CCR_CCR300_CV_WAIT_SP_VAL  \n",
       "0                   519.1353  \n",
       "1                   519.1353  \n",
       "2                   519.1346  \n",
       "3                   519.1337  \n",
       "4                   519.1330  \n",
       "\n",
       "[5 rows x 62 columns]"
      ]
     },
     "execution_count": 9,
     "metadata": {},
     "output_type": "execute_result"
    }
   ],
   "source": [
    "data.head()"
   ]
  },
  {
   "cell_type": "code",
   "execution_count": 10,
   "id": "f1bfabfb",
   "metadata": {},
   "outputs": [],
   "source": [
    "soft_data = data[soft].copy()"
   ]
  },
  {
   "cell_type": "code",
   "execution_count": 11,
   "id": "fb673d2c",
   "metadata": {},
   "outputs": [
    {
     "data": {
      "text/plain": [
       "(2040480, 4)"
      ]
     },
     "execution_count": 11,
     "metadata": {},
     "output_type": "execute_result"
    }
   ],
   "source": [
    "soft_data.shape"
   ]
  },
  {
   "cell_type": "code",
   "execution_count": 12,
   "id": "bbf5c3bd",
   "metadata": {},
   "outputs": [],
   "source": [
    "data_orig = data.drop(soft + ['Timestamp'], axis=1)"
   ]
  },
  {
   "cell_type": "code",
   "execution_count": 13,
   "id": "96d42399",
   "metadata": {},
   "outputs": [
    {
     "data": {
      "text/html": [
       "<div>\n",
       "<style scoped>\n",
       "    .dataframe tbody tr th:only-of-type {\n",
       "        vertical-align: middle;\n",
       "    }\n",
       "\n",
       "    .dataframe tbody tr th {\n",
       "        vertical-align: top;\n",
       "    }\n",
       "\n",
       "    .dataframe thead th {\n",
       "        text-align: right;\n",
       "    }\n",
       "</style>\n",
       "<table border=\"1\" class=\"dataframe\">\n",
       "  <thead>\n",
       "    <tr style=\"text-align: right;\">\n",
       "      <th></th>\n",
       "      <th>35_21_1000_FC_3122</th>\n",
       "      <th>35_21_1000_FC_321.SP</th>\n",
       "      <th>35_21_1000_FI_3101</th>\n",
       "      <th>35_21_1000_FI_3130</th>\n",
       "      <th>35_21_1000_FI_326</th>\n",
       "      <th>35_21_1000_LC_208.OP</th>\n",
       "      <th>35_21_1000_LC_3116.OP</th>\n",
       "      <th>35_21_1000_PC_1214</th>\n",
       "      <th>35_21_1000_PC_3123</th>\n",
       "      <th>35_21_1000_PC_3123.OP</th>\n",
       "      <th>...</th>\n",
       "      <th>35_21_1000_TI_3305</th>\n",
       "      <th>35_21_1000_TI_3581</th>\n",
       "      <th>CCR_CCR300_CV_3DT_H1_VAL</th>\n",
       "      <th>CCR_CCR300_CV_DT_R12_VAL</th>\n",
       "      <th>CCR_CCR300_CV_DT_R23_VAL</th>\n",
       "      <th>CCR_CCR300_CV_DT_R34_VAL</th>\n",
       "      <th>CCR_CCR300_CV_DT_R41_VAL</th>\n",
       "      <th>CCR_CCR300_CV_FI_3101PTC_VAL</th>\n",
       "      <th>CCR_CCR300_CV_PC_3180_OP_VAL</th>\n",
       "      <th>CCR_CCR300_CV_WAIT_SP_VAL</th>\n",
       "    </tr>\n",
       "  </thead>\n",
       "  <tbody>\n",
       "    <tr>\n",
       "      <th>0</th>\n",
       "      <td>33.61328</td>\n",
       "      <td>194.0002</td>\n",
       "      <td>59.90619</td>\n",
       "      <td>2798.065</td>\n",
       "      <td>50.50889</td>\n",
       "      <td>32.18112</td>\n",
       "      <td>73.18839</td>\n",
       "      <td>335.2588</td>\n",
       "      <td>0.90149</td>\n",
       "      <td>39.16984</td>\n",
       "      <td>...</td>\n",
       "      <td>134.7649</td>\n",
       "      <td>25.61035</td>\n",
       "      <td>90.86990</td>\n",
       "      <td>-3.72980</td>\n",
       "      <td>-7.13281</td>\n",
       "      <td>-1.0</td>\n",
       "      <td>11.86261</td>\n",
       "      <td>59.14596</td>\n",
       "      <td>70.77777</td>\n",
       "      <td>519.1353</td>\n",
       "    </tr>\n",
       "    <tr>\n",
       "      <th>1</th>\n",
       "      <td>33.77030</td>\n",
       "      <td>194.0002</td>\n",
       "      <td>60.26051</td>\n",
       "      <td>2826.544</td>\n",
       "      <td>50.86543</td>\n",
       "      <td>32.12791</td>\n",
       "      <td>73.41551</td>\n",
       "      <td>334.5651</td>\n",
       "      <td>0.90200</td>\n",
       "      <td>39.17371</td>\n",
       "      <td>...</td>\n",
       "      <td>134.8389</td>\n",
       "      <td>25.61035</td>\n",
       "      <td>90.90942</td>\n",
       "      <td>-3.72989</td>\n",
       "      <td>-7.13306</td>\n",
       "      <td>-1.0</td>\n",
       "      <td>11.86295</td>\n",
       "      <td>59.18106</td>\n",
       "      <td>70.93322</td>\n",
       "      <td>519.1353</td>\n",
       "    </tr>\n",
       "    <tr>\n",
       "      <th>2</th>\n",
       "      <td>33.86683</td>\n",
       "      <td>194.0002</td>\n",
       "      <td>60.16202</td>\n",
       "      <td>2817.218</td>\n",
       "      <td>50.76682</td>\n",
       "      <td>32.20516</td>\n",
       "      <td>73.24171</td>\n",
       "      <td>334.8679</td>\n",
       "      <td>0.90140</td>\n",
       "      <td>39.17712</td>\n",
       "      <td>...</td>\n",
       "      <td>134.6192</td>\n",
       "      <td>25.61055</td>\n",
       "      <td>90.88013</td>\n",
       "      <td>-3.73050</td>\n",
       "      <td>-7.13440</td>\n",
       "      <td>-1.0</td>\n",
       "      <td>11.86490</td>\n",
       "      <td>59.16980</td>\n",
       "      <td>70.03181</td>\n",
       "      <td>519.1346</td>\n",
       "    </tr>\n",
       "    <tr>\n",
       "      <th>3</th>\n",
       "      <td>34.00380</td>\n",
       "      <td>194.0002</td>\n",
       "      <td>60.28071</td>\n",
       "      <td>2806.594</td>\n",
       "      <td>50.84354</td>\n",
       "      <td>32.09575</td>\n",
       "      <td>73.27421</td>\n",
       "      <td>335.3974</td>\n",
       "      <td>0.90125</td>\n",
       "      <td>39.17995</td>\n",
       "      <td>...</td>\n",
       "      <td>134.6191</td>\n",
       "      <td>25.63477</td>\n",
       "      <td>90.87057</td>\n",
       "      <td>-3.73145</td>\n",
       "      <td>-7.13660</td>\n",
       "      <td>-1.0</td>\n",
       "      <td>11.86804</td>\n",
       "      <td>59.30387</td>\n",
       "      <td>70.46443</td>\n",
       "      <td>519.1337</td>\n",
       "    </tr>\n",
       "    <tr>\n",
       "      <th>4</th>\n",
       "      <td>33.70545</td>\n",
       "      <td>194.0002</td>\n",
       "      <td>59.33250</td>\n",
       "      <td>2774.242</td>\n",
       "      <td>50.95883</td>\n",
       "      <td>32.10447</td>\n",
       "      <td>73.46095</td>\n",
       "      <td>334.3661</td>\n",
       "      <td>0.90098</td>\n",
       "      <td>39.18215</td>\n",
       "      <td>...</td>\n",
       "      <td>134.6191</td>\n",
       "      <td>25.63477</td>\n",
       "      <td>90.90518</td>\n",
       "      <td>-3.73212</td>\n",
       "      <td>-7.13818</td>\n",
       "      <td>-1.0</td>\n",
       "      <td>11.87030</td>\n",
       "      <td>59.26101</td>\n",
       "      <td>69.81942</td>\n",
       "      <td>519.1330</td>\n",
       "    </tr>\n",
       "  </tbody>\n",
       "</table>\n",
       "<p>5 rows × 57 columns</p>\n",
       "</div>"
      ],
      "text/plain": [
       "   35_21_1000_FC_3122  35_21_1000_FC_321.SP  35_21_1000_FI_3101  \\\n",
       "0            33.61328              194.0002            59.90619   \n",
       "1            33.77030              194.0002            60.26051   \n",
       "2            33.86683              194.0002            60.16202   \n",
       "3            34.00380              194.0002            60.28071   \n",
       "4            33.70545              194.0002            59.33250   \n",
       "\n",
       "   35_21_1000_FI_3130  35_21_1000_FI_326  35_21_1000_LC_208.OP  \\\n",
       "0            2798.065           50.50889              32.18112   \n",
       "1            2826.544           50.86543              32.12791   \n",
       "2            2817.218           50.76682              32.20516   \n",
       "3            2806.594           50.84354              32.09575   \n",
       "4            2774.242           50.95883              32.10447   \n",
       "\n",
       "   35_21_1000_LC_3116.OP  35_21_1000_PC_1214  35_21_1000_PC_3123  \\\n",
       "0               73.18839            335.2588             0.90149   \n",
       "1               73.41551            334.5651             0.90200   \n",
       "2               73.24171            334.8679             0.90140   \n",
       "3               73.27421            335.3974             0.90125   \n",
       "4               73.46095            334.3661             0.90098   \n",
       "\n",
       "   35_21_1000_PC_3123.OP  ...  35_21_1000_TI_3305  35_21_1000_TI_3581  \\\n",
       "0               39.16984  ...            134.7649            25.61035   \n",
       "1               39.17371  ...            134.8389            25.61035   \n",
       "2               39.17712  ...            134.6192            25.61055   \n",
       "3               39.17995  ...            134.6191            25.63477   \n",
       "4               39.18215  ...            134.6191            25.63477   \n",
       "\n",
       "   CCR_CCR300_CV_3DT_H1_VAL  CCR_CCR300_CV_DT_R12_VAL  \\\n",
       "0                  90.86990                  -3.72980   \n",
       "1                  90.90942                  -3.72989   \n",
       "2                  90.88013                  -3.73050   \n",
       "3                  90.87057                  -3.73145   \n",
       "4                  90.90518                  -3.73212   \n",
       "\n",
       "   CCR_CCR300_CV_DT_R23_VAL  CCR_CCR300_CV_DT_R34_VAL  \\\n",
       "0                  -7.13281                      -1.0   \n",
       "1                  -7.13306                      -1.0   \n",
       "2                  -7.13440                      -1.0   \n",
       "3                  -7.13660                      -1.0   \n",
       "4                  -7.13818                      -1.0   \n",
       "\n",
       "   CCR_CCR300_CV_DT_R41_VAL  CCR_CCR300_CV_FI_3101PTC_VAL  \\\n",
       "0                  11.86261                      59.14596   \n",
       "1                  11.86295                      59.18106   \n",
       "2                  11.86490                      59.16980   \n",
       "3                  11.86804                      59.30387   \n",
       "4                  11.87030                      59.26101   \n",
       "\n",
       "   CCR_CCR300_CV_PC_3180_OP_VAL  CCR_CCR300_CV_WAIT_SP_VAL  \n",
       "0                      70.77777                   519.1353  \n",
       "1                      70.93322                   519.1353  \n",
       "2                      70.03181                   519.1346  \n",
       "3                      70.46443                   519.1337  \n",
       "4                      69.81942                   519.1330  \n",
       "\n",
       "[5 rows x 57 columns]"
      ]
     },
     "execution_count": 13,
     "metadata": {},
     "output_type": "execute_result"
    }
   ],
   "source": [
    "data_orig.head()"
   ]
  },
  {
   "cell_type": "code",
   "execution_count": 14,
   "id": "8aa9fb1d",
   "metadata": {},
   "outputs": [],
   "source": [
    "# selector = VarianceThreshold(0.001)\n",
    "# dataset1 = selector.fit_transform(data_orig)\n",
    "# dataset1.shape"
   ]
  },
  {
   "cell_type": "code",
   "execution_count": null,
   "id": "41dfc5eb",
   "metadata": {},
   "outputs": [],
   "source": []
  },
  {
   "cell_type": "code",
   "execution_count": 15,
   "id": "d54d22f3",
   "metadata": {},
   "outputs": [
    {
     "data": {
      "text/plain": [
       "((2040480, 62), (2040480, 57))"
      ]
     },
     "execution_count": 15,
     "metadata": {},
     "output_type": "execute_result"
    }
   ],
   "source": [
    "data.shape, data_orig.shape"
   ]
  },
  {
   "cell_type": "code",
   "execution_count": 16,
   "id": "8a1d5249",
   "metadata": {},
   "outputs": [],
   "source": [
    "rmse = RMSELoss()\n",
    "METRICS = {'rmse': rmse, 'r2':r2_score}"
   ]
  },
  {
   "cell_type": "code",
   "execution_count": 17,
   "id": "da4aff60",
   "metadata": {},
   "outputs": [
    {
     "data": {
      "text/plain": [
       "array([[<AxesSubplot:title={'center':'35_21_1000.Q.KatKlD.1444.octanI'}>,\n",
       "        <AxesSubplot:title={'center':'35_21_1000.Q.KatKlAB.DavNpar'}>],\n",
       "       [<AxesSubplot:title={'center':'35_21_1000.Q.KatKlAB.EBen70'}>,\n",
       "        <AxesSubplot:title={'center':'35_21_1000.Q.KatKlAB.AroPf.v'}>]],\n",
       "      dtype=object)"
      ]
     },
     "execution_count": 17,
     "metadata": {},
     "output_type": "execute_result"
    },
    {
     "data": {
      "image/png": "[encoded data removed]",
      "text/plain": [
       "<Figure size 640x480 with 4 Axes>"
      ]
     },
     "metadata": {},
     "output_type": "display_data"
    }
   ],
   "source": [
    "soft_data.hist(bins=100)"
   ]
  },
  {
   "cell_type": "code",
   "execution_count": 18,
   "id": "15bad3cf",
   "metadata": {},
   "outputs": [],
   "source": [
    "class LSTM_Model(nn.Module):\n",
    "    def __init__(self, hidden_size=2):\n",
    "        super(LSTM_Model, self).__init__()\n",
    "        self.layer1 = nn.LSTM(input_size=features_num, hidden_size=hidden_size, num_layers=1, batch_first=True)\n",
    "        self.layer2 = nn.Linear(in_features=hidden_size, out_features=1)\n",
    "        \n",
    "\n",
    "    def forward(self, x):\n",
    "        x, _ = self.layer1(x) #out, cell\n",
    "        x = x[:, -1, :]\n",
    "        x = self.layer2(x)\n",
    "        return x.reshape(-1,)\n",
    "    "
   ]
  },
  {
   "cell_type": "code",
   "execution_count": 19,
   "id": "1befe678",
   "metadata": {},
   "outputs": [],
   "source": [
    "class Conv_LSTM_Model(nn.Module):\n",
    "    def __init__(self, in_channels=30, convs_config=(10), hidden_size=50, num_features=59):\n",
    "        super(Conv_LSTM_Model, self).__init__()\n",
    "#         convs = []\n",
    "#         channels = [[in_channels]] + list(convs_config)\n",
    "#         for i, conv in enumerate(convs_config):\n",
    "#             convs.append(nn.Conv1d(channels[i][0], channels[i + 1][0], kernel_size=channels[i + 1][1]))\n",
    "#             if i != len(convs_config) - 1:\n",
    "#                 convs.append(nn.ReLU(inplace=True))\n",
    "#         self.convolutions = nn.Sequential(convs)\n",
    "#         self.convolutions = nn.Sequential(\n",
    "#             nn.Conv2d(in_channels, in_channels * 2, kernel_size=5), #(2 * in, in - k)\n",
    "#             nn.ReLU(inplace=True),\n",
    "#             nn.Conv1d(in_channels * 2, in_channels, kernel_size=5) #(in, in - 2 * k)\n",
    "#         )\n",
    "        self.conv = nn.Conv1d(num_features, 2 * num_features, kernel_size=5, stride=2) #(B, 10, )\n",
    "        self.lstm = nn.LSTM(input_size=2 * num_features, hidden_size=hidden_size, num_layers=1, batch_first=True)\n",
    "        self.linear = nn.Linear(in_features=hidden_size, out_features=1)\n",
    "        \n",
    "\n",
    "    def forward(self, x):\n",
    "        x = x.transpose(2, 1)\n",
    "        x = self.conv(x)\n",
    "        x = x.transpose(2, 1)\n",
    "        x, _ = self.lstm(x) #out, cell\n",
    "        x = x[:, -1, :]\n",
    "        x = self.linear(x)\n",
    "        return x.reshape(-1,)"
   ]
  },
  {
   "cell_type": "code",
   "execution_count": 20,
   "id": "8acbb90d",
   "metadata": {},
   "outputs": [
    {
     "name": "stdout",
     "output_type": "stream",
     "text": [
      "(1275, 30, 57) (1279,)\n"
     ]
    }
   ],
   "source": [
    "dataset = dataset_utils.Dataset(data_orig, soft_data[SOFT_SENSOR_NAME], delay=0, K=K, diff=False)\n",
    "dataset_x, dataset_y, scaler_y = dataset.window_view(W=30, scale_target=False)\n"
   ]
  },
  {
   "cell_type": "code",
   "execution_count": 21,
   "id": "5cc0d214",
   "metadata": {},
   "outputs": [
    {
     "name": "stdout",
     "output_type": "stream",
     "text": [
      "<class 'torch.device'> cuda:1\n"
     ]
    }
   ],
   "source": [
    "device = torch.device('cpu')\n",
    "if torch.cuda.is_available():\n",
    "    device = torch.device('cuda', 1)\n",
    "\n",
    "print(type(device), device)"
   ]
  },
  {
   "cell_type": "code",
   "execution_count": 22,
   "id": "f7434666",
   "metadata": {},
   "outputs": [],
   "source": [
    "def format_print(row):\n",
    "    if isinstance(row, list):\n",
    "        for r in row:\n",
    "            format_print(r)\n",
    "        return\n",
    "    train, valid, test = row[1].values()\n",
    "    print(*row[0])\n",
    "    for mode in row[1].keys():\n",
    "        print(f\"     {mode:6}: \", end=\"\")\n",
    "        for metric_type, value in row[1][mode].items():\n",
    "            print(f\"{metric_type} = {value:.03}, \", end=\"\")\n",
    "        print()\n",
    "#     print(f\"\\n     K, W, bs - {row[0]} |\\ntrain {train[0]:.3}, {train[1]:.3}, {train[1]:.3} \\nvalid {valid[0]:.3}, {valid[1]:.3}, {valid[1]:.3} \\ntest {test[0]:.3}, {test[1]:.3}, {test[2]:.3} \\n\")"
   ]
  },
  {
   "cell_type": "code",
   "execution_count": 23,
   "id": "3774b766",
   "metadata": {},
   "outputs": [],
   "source": [
    "def r2_score(target, output):\n",
    "    if not torch.is_tensor(target):\n",
    "        target = torch.tensor(target)\n",
    "    if not torch.is_tensor(output):\n",
    "        output = torch.tensor(output)\n",
    "    target_mean = torch.mean(target)\n",
    "    ss_tot = torch.sum(torch.square(target - target_mean))\n",
    "    ss_res = torch.sum(torch.square(target - output))\n",
    "    r2 = 1 - ss_res / ss_tot\n",
    "    return r2"
   ]
  },
  {
   "cell_type": "code",
   "execution_count": 24,
   "id": "9b1ad301",
   "metadata": {},
   "outputs": [],
   "source": [
    "def apply_model(model, data_x, scaler=None):\n",
    "    model.eval()\n",
    "    with torch.no_grad():\n",
    "        if not torch.is_tensor(data_x):\n",
    "            data_x = torch.tensor(data_x)\n",
    "        inputs = data_x.float()\n",
    "        outputs = model(inputs)\n",
    "    if scaler is not None:\n",
    "        outputs = scaler.inverse_transform(outputs)\n",
    "    return outputs"
   ]
  },
  {
   "cell_type": "code",
   "execution_count": 25,
   "id": "51609d05",
   "metadata": {},
   "outputs": [],
   "source": [
    "def train_one_epoch(train_dataloader, model, loss_fn, optimizer):\n",
    "    model.train()\n",
    "    for batch in train_dataloader:\n",
    "        inputs, targets = batch\n",
    "        inputs = inputs.float()\n",
    "        targets = targets.float()\n",
    "        optimizer.zero_grad()\n",
    "        outputs = model(inputs)\n",
    "        loss = loss_fn(outputs, targets)\n",
    "        loss.backward()\n",
    "        optimizer.step()\n",
    "    return loss"
   ]
  },
  {
   "cell_type": "code",
   "execution_count": 26,
   "id": "fca88640",
   "metadata": {},
   "outputs": [],
   "source": [
    "def trainingCV(X, y, model=None, model_args=None, epoches=1, loss_fn=MSELoss(), \\\n",
    "             optimizer=None, batch_size=8, device='cpu', n_folds=5, train_size_in_folds=3, y_scaler=None, tables_path=None):\n",
    "#     X, y = [torch.tensor(tmp).to(device) for tmp in (X, y)]\n",
    "    CV_splitter = TimeSeriesSplit(n_splits=n_folds - 1, max_train_size=int(train_size_in_folds/n_folds * X.shape[0]))\n",
    "    losses = {x:defaultdict(list) for x in ('train', 'valid', 'test')}\n",
    "    splitter = iter(CV_splitter.split(X))\n",
    "    for i in range(train_size_in_folds - 1):\n",
    "        next(splitter); \n",
    "    for i, (train_inds, test_inds) in enumerate(splitter):\n",
    "        print(\"______________\")\n",
    "        train_x, train_y, test_x, test_y = X[train_inds], y[train_inds], X[test_inds], y[test_inds]\n",
    "        train_inds, valid_inds = train_test_split(train_inds, test_size=0.2, shuffle=False)\n",
    "        train_x, valid_x, train_y, valid_y = X[train_inds], X[valid_inds], y[train_inds], y[valid_inds]\n",
    "        print(f\"train {train_x.shape}, valid {valid_x.shape}, test {test_x.shape}\")\n",
    "        #train\n",
    "        train_dataloader = DataLoader([x for x in zip(train_x, train_y)], batch_size=batch_size, shuffle=True)\n",
    "        cur_model = model(**model_args)\n",
    "        train_losses, trained_model = training(train_x, train_y, valid_x, valid_y, model=cur_model, epoches=epoches, loss_fn=loss_fn, \\\n",
    "                               optimizer=optimizer, batch_size=batch_size, device=device)\n",
    "        #test\n",
    "        test_output = apply_model(trained_model, test_x, scaler=None)\n",
    "#         plt.hist(torch.abs(test_y - test_output))\n",
    "#         plt.show()\n",
    "        for metric_type, metric_func in METRICS.items():\n",
    "            losses['test'][metric_type].append(metric_func(test_y, test_output))\n",
    "            losses['train'][metric_type].append(train_losses['train'][metric_type])\n",
    "            losses['valid'][metric_type].append(train_losses['valid'][metric_type])\n",
    "        if tables_path is not None:\n",
    "            write_table(trained_model, X, y, mask_train=train_inds, mask_valid=valid_inds, mask_test=test_inds, \\\n",
    "                        num_fold=i, y_scaler=y_scaler, path=tables_path)\n",
    "#     for (mode, dct) in losses.items():\n",
    "#         for (loss_type, lst) in dct.items():\n",
    "#             dct[loss_type] = np.mean(lst)\n",
    "    return losses, trained_model\n"
   ]
  },
  {
   "cell_type": "code",
   "execution_count": 27,
   "id": "0ad0855f",
   "metadata": {},
   "outputs": [],
   "source": [
    "def training(train_x, train_y, test_x, test_y, model=None, epoches=1, loss_fn=MSELoss(), \\\n",
    "             optimizer=None, batch_size=8, device='cpu', path_log=None, y_scaler=None):\n",
    "    train_x, train_y, test_x, test_y = [torch.tensor(tmp).to(device) for tmp in (train_x, train_y, test_x, test_y)]\n",
    "    train_dataloader = DataLoader([x for x in zip(train_x, train_y)], batch_size=batch_size, shuffle=True)\n",
    "    if optimizer == None:\n",
    "        optimizer = torch.optim.Adam(model.parameters(), lr=1e-4, weight_decay=1e-5)#, momentum=0.8)\n",
    "    early_stopper = EarlyStopper(patience=20, min_delta=0, start_from_epoch=10, path=f\"baseline_results/model_{SOFT_SENSOR_INDEX}\")\n",
    "    model.to(device)\n",
    "    losses = {x:defaultdict(list) for x in ('train', 'valid', 'test')}\n",
    "    best_epoch = epoches\n",
    "    for epoch in range(epoches):\n",
    "        #train\n",
    "        loss = train_one_epoch(train_dataloader, model, loss_fn, optimizer)\n",
    "        #valid\n",
    "        train_output = apply_model(model, train_x, scaler=None)\n",
    "        test_output = apply_model(model, test_x, scaler=None)\n",
    "#         test_result = sc_y.inverse_transform(test_output.reshape(-1, 1)).reshape(-1)\n",
    "        for metric_type, metric_func in METRICS.items():\n",
    "            losses['train'][metric_type].append(metric_func(train_y, train_output))\n",
    "            losses['valid'][metric_type].append(metric_func(test_y, test_output))\n",
    "            \n",
    "        if early_stopper.early_stop(losses['valid']['rmse'][-1], model):\n",
    "            best_epoch = early_stopper.min_loss_epoch_number\n",
    "            print(f\"Early stopping, epochs {epoch}, best epoch {best_epoch}: R2 = {losses['valid']['r2'][best_epoch - 1]}\")\n",
    "            model = early_stopper.restore_model(model)\n",
    "            break\n",
    "        #\n",
    "        if epoch % 10 == 0:\n",
    "            print(\"Epoch %d: train RMSE %.4f, valid RMSE %.4f, valid R2 %.4f\\n\" % (epoch, losses['train']['rmse'][-1], losses['valid']['rmse'][-1], losses['valid']['r2'][-1]))\n",
    "    #TODO save losses during epoches with path_log\n",
    "    plt.plot(losses['valid']['rmse'], label='valid')\n",
    "    plt.plot(losses['train']['rmse'], label='train')\n",
    "    plt.legend()\n",
    "    plt.show()\n",
    "    for (mode, dct) in losses.items():\n",
    "        for (loss_type, lst) in dct.items():\n",
    "            dct[loss_type] = lst[best_epoch - 1]\n",
    "    return losses, model"
   ]
  },
  {
   "cell_type": "code",
   "execution_count": null,
   "id": "1e99a563",
   "metadata": {},
   "outputs": [],
   "source": []
  },
  {
   "cell_type": "code",
   "execution_count": null,
   "id": "48a2aa43",
   "metadata": {},
   "outputs": [],
   "source": []
  },
  {
   "cell_type": "code",
   "execution_count": 28,
   "id": "c4f9d07f",
   "metadata": {},
   "outputs": [],
   "source": [
    "def write_table(R, dataset_x, dataset_y, mask_train=None, mask_test=None, mask_valid=None, path=None, num_fold=0, y_scaler=None):\n",
    "    y_pred = apply_model(R, dataset_x)\n",
    "    if y_scaler is not None:\n",
    "        y_pred = y_scaler.inverse_transform(y_pred)\n",
    "        dataset_y = y_scaler.inverse_transform(dataset_y)\n",
    "    mask = np.zeros(dataset_x.shape[0])\n",
    "    mask[:] = 2\n",
    "    mask[mask_train] = 0 #TRAIN\n",
    "    if mask_valid is not None:\n",
    "        mask[mask_valid] = 1 # VALID\n",
    "    mask[mask_test] = 2 #TEST\n",
    "    path = f\"baseline_results/table_{SOFT_SENSOR_INDEX}_{num_fold}---{path if path is not None else ''}.csv\"\n",
    "    table = pd.DataFrame(np.stack((dataset_y, y_pred, mask), axis=1), \\\n",
    "                         columns= ['y', 'y_pred', 'mode'])\n",
    "    table.to_csv(path)"
   ]
  },
  {
   "cell_type": "code",
   "execution_count": 29,
   "id": "c0ab4109",
   "metadata": {},
   "outputs": [],
   "source": [
    "from time import time"
   ]
  },
  {
   "cell_type": "code",
   "execution_count": 30,
   "id": "bd920f28",
   "metadata": {},
   "outputs": [
    {
     "data": {
      "text/plain": [
       "1703138537.4905953"
      ]
     },
     "execution_count": 30,
     "metadata": {},
     "output_type": "execute_result"
    }
   ],
   "source": [
    "start = time()\n",
    "start"
   ]
  },
  {
   "cell_type": "code",
   "execution_count": 31,
   "id": "26407a52",
   "metadata": {
    "scrolled": false
   },
   "outputs": [
    {
     "name": "stdout",
     "output_type": "stream",
     "text": [
      "(1033, 16, 57) (1033,)\n",
      "______________\n",
      "train (472, 16, 57), valid (118, 16, 57), test (147, 16, 57)\n",
      "Epoch 0: train RMSE 0.8725, valid RMSE 0.9335, valid R2 -0.1924\n",
      "\n",
      "Epoch 10: train RMSE 0.5624, valid RMSE 0.7359, valid R2 0.2588\n",
      "\n",
      "Epoch 20: train RMSE 0.5022, valid RMSE 0.7684, valid R2 0.1919\n",
      "\n",
      "Epoch 30: train RMSE 0.4478, valid RMSE 0.7981, valid R2 0.1282\n",
      "\n",
      "Early stopping, epochs 31, best epoch 11: R2 = 0.2588482446052145\n"
     ]
    },
    {
     "data": {
      "image/png": "[encoded data removed]",
      "text/plain": [
       "<Figure size 640x480 with 1 Axes>"
      ]
     },
     "metadata": {},
     "output_type": "display_data"
    },
    {
     "name": "stdout",
     "output_type": "stream",
     "text": [
      "______________\n",
      "train (472, 16, 57), valid (118, 16, 57), test (147, 16, 57)\n",
      "Epoch 0: train RMSE 0.8106, valid RMSE 1.0666, valid R2 -0.5162\n",
      "\n",
      "Epoch 10: train RMSE 0.5535, valid RMSE 0.6365, valid R2 0.4601\n",
      "\n",
      "Epoch 20: train RMSE 0.5057, valid RMSE 0.5997, valid R2 0.5207\n",
      "\n",
      "Epoch 30: train RMSE 0.4534, valid RMSE 0.6151, valid R2 0.4957\n",
      "\n",
      "Epoch 40: train RMSE 0.4026, valid RMSE 0.6110, valid R2 0.5025\n",
      "\n",
      "Epoch 50: train RMSE 0.3348, valid RMSE 0.5847, valid R2 0.5444\n",
      "\n",
      "Epoch 60: train RMSE 0.2904, valid RMSE 0.5821, valid R2 0.5484\n",
      "\n",
      "Epoch 70: train RMSE 0.2616, valid RMSE 0.5677, valid R2 0.5706\n",
      "\n",
      "Epoch 80: train RMSE 0.2169, valid RMSE 0.5773, valid R2 0.5558\n",
      "\n",
      "Early stopping, epochs 88, best epoch 68: R2 = 0.5856034072949786\n"
     ]
    },
    {
     "data": {
      "image/png": "[encoded data removed]",
      "text/plain": [
       "<Figure size 640x480 with 1 Axes>"
      ]
     },
     "metadata": {},
     "output_type": "display_data"
    },
    {
     "name": "stdout",
     "output_type": "stream",
     "text": [
      "______________\n",
      "train (472, 16, 57), valid (118, 16, 57), test (147, 16, 57)\n",
      "Epoch 0: train RMSE 0.8020, valid RMSE 0.9919, valid R2 -0.0014\n",
      "\n",
      "Epoch 10: train RMSE 0.5424, valid RMSE 0.6356, valid R2 0.5888\n",
      "\n",
      "Epoch 20: train RMSE 0.4766, valid RMSE 0.6024, valid R2 0.6306\n",
      "\n",
      "Epoch 30: train RMSE 0.4192, valid RMSE 0.5856, valid R2 0.6510\n",
      "\n",
      "Epoch 40: train RMSE 0.3725, valid RMSE 0.5645, valid R2 0.6757\n",
      "\n",
      "Epoch 50: train RMSE 0.3456, valid RMSE 0.5700, valid R2 0.6693\n",
      "\n",
      "Epoch 60: train RMSE 0.2886, valid RMSE 0.5732, valid R2 0.6656\n",
      "\n",
      "Early stopping, epochs 69, best epoch 49: R2 = 0.7024799142952345\n"
     ]
    },
    {
     "data": {
      "image/png": "[encoded data removed]",
      "text/plain": [
       "<Figure size 640x480 with 1 Axes>"
      ]
     },
     "metadata": {},
     "output_type": "display_data"
    }
   ],
   "source": [
    "Ks = [120]#[60, 120, 240]\n",
    "Ws = [16] #[8, 16, 32] \n",
    "batch_size = [4] #[8, 16] #[4, 8] \n",
    "results_str = \"\"\n",
    "res = defaultdict(dict)\n",
    "EPOCHES = 150\n",
    "y_scaler = None\n",
    "best_model = None\n",
    "global_seed(SEED)\n",
    "for K in Ks:\n",
    "    PERIODS_FILE = \"periods_W20_gr{}_Agl.npy\".format(K)\n",
    "    dataset = dataset_utils.Dataset(data_orig, soft_data[SOFT_SENSOR_NAME], delay=0, K=K, diff=False, periods=PERIODS_FILE)\n",
    "    for W in Ws:\n",
    "        dataset_x, dataset_y, _ = dataset.window_view(W=W, scale_target=False)\n",
    "        y_scaler = dataset_utils.MyStandardScaler()\n",
    "        dataset_y = y_scaler.fit_transform(dataset_y)\n",
    "        assert(dataset_x.shape[0] == dataset_y.shape[0])\n",
    "        features_num = dataset_x.shape[-1]\n",
    "#         train_x, test_x, train_y, test_y = train_test_split(dataset_x, dataset_y, test_size=0.30, shuffle=False, random_state=SEED)\n",
    "#         train_x, valid_x, train_y, valid_y = train_test_split(train_x, train_y, test_size=0.17, shuffle=False, random_state=SEED)\n",
    "#         if y_scaler is not None:\n",
    "#             restored_train_y, restored_valid_y, restored_test_y = [scaler_y.inverse_transform(tmp) for tmp in (train_y, valid_y, test_y)]\n",
    "        model_args = {'hidden_size':100}\n",
    "        for bs in batch_size:\n",
    "            losses, model = trainingCV(dataset_x, dataset_y, model=LSTM_Model, model_args=model_args, \\\n",
    "                     epoches=EPOCHES, batch_size=bs, n_folds=7, y_scaler=y_scaler, train_size_in_folds=4, \\\n",
    "                    tables_path=\"try3\")\n",
    "#             best_model = LSTM_Model(**model_args)\n",
    "#             best_model.load_state_dict(torch.load(MODEL_PATH))\n",
    "            \n",
    "#             res[K][(W, bs)] = {'train': (train_rmse, train_r2, train_mape), 'valid': (valid_rmse, valid_r2, valid_mape), 'test':(test_rmse, test_r2, test_mape)}\n",
    "            res[K][(W, bs)] = losses"
   ]
  },
  {
   "cell_type": "code",
   "execution_count": 32,
   "id": "3df1970b",
   "metadata": {},
   "outputs": [
    {
     "data": {
      "image/png": "[encoded data removed]",
      "text/plain": [
       "<Figure size 640x480 with 1 Axes>"
      ]
     },
     "metadata": {},
     "output_type": "display_data"
    }
   ],
   "source": [
    "_, test_x, _, test_y = train_test_split(dataset_x, dataset_y, test_size=0.2, shuffle=False)\n",
    "y_pred = apply_model(model, test_x)\n",
    "plt.plot(y_pred, label='pred')\n",
    "plt.plot(test_y, label='true')\n",
    "plt.legend()\n",
    "plt.show()"
   ]
  },
  {
   "cell_type": "code",
   "execution_count": 33,
   "id": "96b55740",
   "metadata": {},
   "outputs": [],
   "source": [
    "fin = time()"
   ]
  },
  {
   "cell_type": "code",
   "execution_count": 34,
   "id": "a96acefa",
   "metadata": {},
   "outputs": [
    {
     "data": {
      "text/plain": [
       "1.0"
      ]
     },
     "execution_count": 34,
     "metadata": {},
     "output_type": "execute_result"
    }
   ],
   "source": [
    "(fin - start) // 60"
   ]
  },
  {
   "cell_type": "code",
   "execution_count": 35,
   "id": "47db3e40",
   "metadata": {},
   "outputs": [],
   "source": [
    "# len(value['test']['r2'])"
   ]
  },
  {
   "cell_type": "code",
   "execution_count": 36,
   "id": "7eb2afdf",
   "metadata": {
    "scrolled": true
   },
   "outputs": [
    {
     "data": {
      "image/png": "[encoded data removed]",
      "text/plain": [
       "<Figure size 640x480 with 1 Axes>"
      ]
     },
     "metadata": {},
     "output_type": "display_data"
    }
   ],
   "source": [
    "n = 3\n",
    "for (K, dct) in res.items():\n",
    "    for (param, value) in dct.items():\n",
    "        plt.bar(np.arange(n), [x for x in value['test']['r2']]) \n",
    "        plt.title(\" \".join([str(x) for x in param]))\n",
    "        plt.show()"
   ]
  },
  {
   "cell_type": "code",
   "execution_count": null,
   "id": "d3dd2948",
   "metadata": {},
   "outputs": [],
   "source": []
  },
  {
   "cell_type": "code",
   "execution_count": 37,
   "id": "47792b40",
   "metadata": {},
   "outputs": [],
   "source": [
    "for K in res.keys():\n",
    "    for (param, losses) in res[K].items():\n",
    "        for (mode, dct) in losses.items():\n",
    "            for (loss_type, lst) in dct.items():\n",
    "                dct[loss_type] = np.mean(lst)"
   ]
  },
  {
   "cell_type": "code",
   "execution_count": 38,
   "id": "b5c98637",
   "metadata": {},
   "outputs": [
    {
     "name": "stdout",
     "output_type": "stream",
     "text": [
      "\n",
      "K = 120\n",
      "16 4\n",
      "     train : rmse = 0.399, r2 = 0.781, \n",
      "     valid : rmse = 0.611, r2 = 0.516, \n",
      "     test  : rmse = 0.683, r2 = 0.447, \n",
      "\n",
      "\n",
      "\n",
      "120 16 4\n",
      "     train : rmse = 0.399, r2 = 0.781, \n",
      "     valid : rmse = 0.611, r2 = 0.516, \n",
      "     test  : rmse = 0.683, r2 = 0.447, \n"
     ]
    }
   ],
   "source": [
    "best = {}\n",
    "for K in res.keys():\n",
    "    print(\"\\nK =\", K)\n",
    "    tmp = sorted(res[K].items(), key=lambda x: x[1]['valid']['rmse'], reverse=False)[0]\n",
    "    best[K] = tmp\n",
    "    format_print(tmp)\n",
    "print(\"\\n\\n\")\n",
    "top = sorted(best.items(), key=lambda x: x[1][1]['test']['rmse'], reverse=False)[0]\n",
    "format_print((tuple([top[0]]) + top[1][0], top[1][1]))\n",
    "# format_print(sorted(best, key=lambda x: x[1]['test'][1], reverse=True)[:1])\n",
    "# format_print(sorted(best, key=lambda x: x[1]['test'][2], reverse=False)[0])"
   ]
  },
  {
   "cell_type": "code",
   "execution_count": null,
   "id": "bb08b17e",
   "metadata": {},
   "outputs": [],
   "source": []
  }
 ],
 "metadata": {
  "kernelspec": {
   "display_name": "anna",
   "language": "python",
   "name": "anna"
  },
  "language_info": {
   "codemirror_mode": {
    "name": "ipython",
    "version": 3
   },
   "file_extension": ".py",
   "mimetype": "text/x-python",
   "name": "python",
   "nbconvert_exporter": "python",
   "pygments_lexer": "ipython3",
   "version": "3.9.15"
  }
 },
 "nbformat": 4,
 "nbformat_minor": 5
}
