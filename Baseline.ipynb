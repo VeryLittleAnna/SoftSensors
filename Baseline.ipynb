{
 "cells": [
  {
   "cell_type": "code",
   "execution_count": 25,
   "id": "ba91b9a0",
   "metadata": {},
   "outputs": [],
   "source": [
    "%load_ext autoreload\n",
    "%autoreload 2"
   ]
  },
  {
   "cell_type": "code",
   "execution_count": 62,
   "id": "93a30152",
   "metadata": {},
   "outputs": [],
   "source": [
    "import dataset_utils\n",
    "from Utils import MAPE, RMSELoss, EarlyStopper\n",
    "import pandas as pd\n",
    "import torch\n",
    "import numpy as np\n",
    "import matplotlib.pyplot as plt\n",
    "from numpy.lib.stride_tricks import sliding_window_view\n",
    "from sklearn.model_selection import train_test_split, TimeSeriesSplit\n",
    "import torch.nn as nn\n",
    "from torch.utils.data import DataLoader\n",
    "from torch.nn import MSELoss\n",
    "from sklearn.preprocessing import StandardScaler\n",
    "from sklearn.metrics import r2_score\n",
    "import itertools\n",
    "from collections import defaultdict"
   ]
  },
  {
   "cell_type": "code",
   "execution_count": 3,
   "id": "5a82b492",
   "metadata": {},
   "outputs": [],
   "source": [
    "def global_seed(seed=42):\n",
    "    # random.seed(seed)\n",
    "    np.random.seed(seed)\n",
    "    torch.manual_seed(seed)\n",
    "    torch.cuda.manual_seed_all(seed)\n",
    "    torch.backends.cudnn.benchmark = False\n",
    "    torch.backends.cudnn.deterministic = True\n",
    "\n",
    "SEED = 42    \n",
    "global_seed(seed=SEED)"
   ]
  },
  {
   "cell_type": "code",
   "execution_count": 6,
   "id": "4fbc1961",
   "metadata": {},
   "outputs": [],
   "source": [
    "soft = ['35_21_1000.Q.KatKlD.1444.octanI', '35_21_1000.Q.KatKlAB.DavNpar', '35_21_1000.Q.KatKlAB.EBen70', '35_21_1000.Q.KatKlAB.AroPf.v']\n",
    "short_name = {'35_21_1000.Q.KatKlD.1444.octanI': 'octanI', \n",
    "              '35_21_1000.Q.KatKlAB.DavNpar' : 'DavNpar', \n",
    "              '35_21_1000.Q.KatKlAB.EBen70': 'Eben70', \n",
    "              '35_21_1000.Q.KatKlAB.AroPf.v' : 'AroPfv'\n",
    "}"
   ]
  },
  {
   "cell_type": "code",
   "execution_count": 350,
   "id": "4fbcde2a",
   "metadata": {},
   "outputs": [],
   "source": [
    "K = 60 #усреднение\n",
    "SOFT_SENSOR_NAME = soft[2]\n",
    "MODEL_PATH = f\"./models/{short_name[SOFT_SENSOR_NAME]}.pth\""
   ]
  },
  {
   "cell_type": "code",
   "execution_count": 8,
   "id": "b6408446",
   "metadata": {},
   "outputs": [],
   "source": [
    "data = pd.read_csv(\"Dataset1_nans.csv\", sep=\";\")"
   ]
  },
  {
   "cell_type": "code",
   "execution_count": 9,
   "id": "74b371db",
   "metadata": {},
   "outputs": [
    {
     "data": {
      "text/html": [
       "<div>\n",
       "<style scoped>\n",
       "    .dataframe tbody tr th:only-of-type {\n",
       "        vertical-align: middle;\n",
       "    }\n",
       "\n",
       "    .dataframe tbody tr th {\n",
       "        vertical-align: top;\n",
       "    }\n",
       "\n",
       "    .dataframe thead th {\n",
       "        text-align: right;\n",
       "    }\n",
       "</style>\n",
       "<table border=\"1\" class=\"dataframe\">\n",
       "  <thead>\n",
       "    <tr style=\"text-align: right;\">\n",
       "      <th></th>\n",
       "      <th>Timestamp</th>\n",
       "      <th>35_21_1000.Q.KatKlAB.AroPf.v</th>\n",
       "      <th>35_21_1000.Q.KatKlAB.DavNpar</th>\n",
       "      <th>35_21_1000.Q.KatKlAB.EBen70</th>\n",
       "      <th>35_21_1000.Q.KatKlD.1444.octanI</th>\n",
       "      <th>35_21_1000_FC_3121.SP</th>\n",
       "      <th>35_21_1000_FC_3122</th>\n",
       "      <th>35_21_1000_FC_321.SP</th>\n",
       "      <th>35_21_1000_FI_3101</th>\n",
       "      <th>35_21_1000_FI_3130</th>\n",
       "      <th>...</th>\n",
       "      <th>35_21_1000_TI_3305</th>\n",
       "      <th>35_21_1000_TI_3581</th>\n",
       "      <th>CCR_CCR300_CV_3DT_H1_VAL</th>\n",
       "      <th>CCR_CCR300_CV_DT_R12_VAL</th>\n",
       "      <th>CCR_CCR300_CV_DT_R23_VAL</th>\n",
       "      <th>CCR_CCR300_CV_DT_R34_VAL</th>\n",
       "      <th>CCR_CCR300_CV_DT_R41_VAL</th>\n",
       "      <th>CCR_CCR300_CV_FI_3101PTC_VAL</th>\n",
       "      <th>CCR_CCR300_CV_PC_3180_OP_VAL</th>\n",
       "      <th>CCR_CCR300_CV_WAIT_SP_VAL</th>\n",
       "    </tr>\n",
       "  </thead>\n",
       "  <tbody>\n",
       "    <tr>\n",
       "      <th>0</th>\n",
       "      <td>01.01.2016 00:00:00</td>\n",
       "      <td>65.59</td>\n",
       "      <td>48.0</td>\n",
       "      <td>6.0</td>\n",
       "      <td>98.9</td>\n",
       "      <td>0.00292</td>\n",
       "      <td>33.61328</td>\n",
       "      <td>194.0002</td>\n",
       "      <td>59.90619</td>\n",
       "      <td>2798.065</td>\n",
       "      <td>...</td>\n",
       "      <td>134.7649</td>\n",
       "      <td>25.61035</td>\n",
       "      <td>90.86990</td>\n",
       "      <td>-3.72980</td>\n",
       "      <td>-7.13281</td>\n",
       "      <td>-1.0</td>\n",
       "      <td>11.86261</td>\n",
       "      <td>59.14596</td>\n",
       "      <td>70.77777</td>\n",
       "      <td>519.1353</td>\n",
       "    </tr>\n",
       "    <tr>\n",
       "      <th>1</th>\n",
       "      <td>01.01.2016 00:01:00</td>\n",
       "      <td>NaN</td>\n",
       "      <td>NaN</td>\n",
       "      <td>NaN</td>\n",
       "      <td>NaN</td>\n",
       "      <td>0.00292</td>\n",
       "      <td>33.77030</td>\n",
       "      <td>194.0002</td>\n",
       "      <td>60.26051</td>\n",
       "      <td>2826.544</td>\n",
       "      <td>...</td>\n",
       "      <td>134.8389</td>\n",
       "      <td>25.61035</td>\n",
       "      <td>90.90942</td>\n",
       "      <td>-3.72989</td>\n",
       "      <td>-7.13306</td>\n",
       "      <td>-1.0</td>\n",
       "      <td>11.86295</td>\n",
       "      <td>59.18106</td>\n",
       "      <td>70.93322</td>\n",
       "      <td>519.1353</td>\n",
       "    </tr>\n",
       "    <tr>\n",
       "      <th>2</th>\n",
       "      <td>01.01.2016 00:02:00</td>\n",
       "      <td>NaN</td>\n",
       "      <td>NaN</td>\n",
       "      <td>NaN</td>\n",
       "      <td>NaN</td>\n",
       "      <td>0.00292</td>\n",
       "      <td>33.86683</td>\n",
       "      <td>194.0002</td>\n",
       "      <td>60.16202</td>\n",
       "      <td>2817.218</td>\n",
       "      <td>...</td>\n",
       "      <td>134.6192</td>\n",
       "      <td>25.61055</td>\n",
       "      <td>90.88013</td>\n",
       "      <td>-3.73050</td>\n",
       "      <td>-7.13440</td>\n",
       "      <td>-1.0</td>\n",
       "      <td>11.86490</td>\n",
       "      <td>59.16980</td>\n",
       "      <td>70.03181</td>\n",
       "      <td>519.1346</td>\n",
       "    </tr>\n",
       "    <tr>\n",
       "      <th>3</th>\n",
       "      <td>01.01.2016 00:03:00</td>\n",
       "      <td>NaN</td>\n",
       "      <td>NaN</td>\n",
       "      <td>NaN</td>\n",
       "      <td>NaN</td>\n",
       "      <td>0.00292</td>\n",
       "      <td>34.00380</td>\n",
       "      <td>194.0002</td>\n",
       "      <td>60.28071</td>\n",
       "      <td>2806.594</td>\n",
       "      <td>...</td>\n",
       "      <td>134.6191</td>\n",
       "      <td>25.63477</td>\n",
       "      <td>90.87057</td>\n",
       "      <td>-3.73145</td>\n",
       "      <td>-7.13660</td>\n",
       "      <td>-1.0</td>\n",
       "      <td>11.86804</td>\n",
       "      <td>59.30387</td>\n",
       "      <td>70.46443</td>\n",
       "      <td>519.1337</td>\n",
       "    </tr>\n",
       "    <tr>\n",
       "      <th>4</th>\n",
       "      <td>01.01.2016 00:04:00</td>\n",
       "      <td>NaN</td>\n",
       "      <td>NaN</td>\n",
       "      <td>NaN</td>\n",
       "      <td>NaN</td>\n",
       "      <td>0.00292</td>\n",
       "      <td>33.70545</td>\n",
       "      <td>194.0002</td>\n",
       "      <td>59.33250</td>\n",
       "      <td>2774.242</td>\n",
       "      <td>...</td>\n",
       "      <td>134.6191</td>\n",
       "      <td>25.63477</td>\n",
       "      <td>90.90518</td>\n",
       "      <td>-3.73212</td>\n",
       "      <td>-7.13818</td>\n",
       "      <td>-1.0</td>\n",
       "      <td>11.87030</td>\n",
       "      <td>59.26101</td>\n",
       "      <td>69.81942</td>\n",
       "      <td>519.1330</td>\n",
       "    </tr>\n",
       "  </tbody>\n",
       "</table>\n",
       "<p>5 rows × 64 columns</p>\n",
       "</div>"
      ],
      "text/plain": [
       "             Timestamp  35_21_1000.Q.KatKlAB.AroPf.v  \\\n",
       "0  01.01.2016 00:00:00                         65.59   \n",
       "1  01.01.2016 00:01:00                           NaN   \n",
       "2  01.01.2016 00:02:00                           NaN   \n",
       "3  01.01.2016 00:03:00                           NaN   \n",
       "4  01.01.2016 00:04:00                           NaN   \n",
       "\n",
       "   35_21_1000.Q.KatKlAB.DavNpar  35_21_1000.Q.KatKlAB.EBen70  \\\n",
       "0                          48.0                          6.0   \n",
       "1                           NaN                          NaN   \n",
       "2                           NaN                          NaN   \n",
       "3                           NaN                          NaN   \n",
       "4                           NaN                          NaN   \n",
       "\n",
       "   35_21_1000.Q.KatKlD.1444.octanI  35_21_1000_FC_3121.SP  35_21_1000_FC_3122  \\\n",
       "0                             98.9                0.00292            33.61328   \n",
       "1                              NaN                0.00292            33.77030   \n",
       "2                              NaN                0.00292            33.86683   \n",
       "3                              NaN                0.00292            34.00380   \n",
       "4                              NaN                0.00292            33.70545   \n",
       "\n",
       "   35_21_1000_FC_321.SP  35_21_1000_FI_3101  35_21_1000_FI_3130  ...  \\\n",
       "0              194.0002            59.90619            2798.065  ...   \n",
       "1              194.0002            60.26051            2826.544  ...   \n",
       "2              194.0002            60.16202            2817.218  ...   \n",
       "3              194.0002            60.28071            2806.594  ...   \n",
       "4              194.0002            59.33250            2774.242  ...   \n",
       "\n",
       "   35_21_1000_TI_3305  35_21_1000_TI_3581  CCR_CCR300_CV_3DT_H1_VAL  \\\n",
       "0            134.7649            25.61035                  90.86990   \n",
       "1            134.8389            25.61035                  90.90942   \n",
       "2            134.6192            25.61055                  90.88013   \n",
       "3            134.6191            25.63477                  90.87057   \n",
       "4            134.6191            25.63477                  90.90518   \n",
       "\n",
       "   CCR_CCR300_CV_DT_R12_VAL  CCR_CCR300_CV_DT_R23_VAL  \\\n",
       "0                  -3.72980                  -7.13281   \n",
       "1                  -3.72989                  -7.13306   \n",
       "2                  -3.73050                  -7.13440   \n",
       "3                  -3.73145                  -7.13660   \n",
       "4                  -3.73212                  -7.13818   \n",
       "\n",
       "   CCR_CCR300_CV_DT_R34_VAL  CCR_CCR300_CV_DT_R41_VAL  \\\n",
       "0                      -1.0                  11.86261   \n",
       "1                      -1.0                  11.86295   \n",
       "2                      -1.0                  11.86490   \n",
       "3                      -1.0                  11.86804   \n",
       "4                      -1.0                  11.87030   \n",
       "\n",
       "   CCR_CCR300_CV_FI_3101PTC_VAL  CCR_CCR300_CV_PC_3180_OP_VAL  \\\n",
       "0                      59.14596                      70.77777   \n",
       "1                      59.18106                      70.93322   \n",
       "2                      59.16980                      70.03181   \n",
       "3                      59.30387                      70.46443   \n",
       "4                      59.26101                      69.81942   \n",
       "\n",
       "   CCR_CCR300_CV_WAIT_SP_VAL  \n",
       "0                   519.1353  \n",
       "1                   519.1353  \n",
       "2                   519.1346  \n",
       "3                   519.1337  \n",
       "4                   519.1330  \n",
       "\n",
       "[5 rows x 64 columns]"
      ]
     },
     "execution_count": 9,
     "metadata": {},
     "output_type": "execute_result"
    }
   ],
   "source": [
    "data.head()"
   ]
  },
  {
   "cell_type": "code",
   "execution_count": 10,
   "id": "f1bfabfb",
   "metadata": {},
   "outputs": [],
   "source": [
    "soft_data = data[soft].copy()"
   ]
  },
  {
   "cell_type": "code",
   "execution_count": 11,
   "id": "fb673d2c",
   "metadata": {},
   "outputs": [
    {
     "data": {
      "text/plain": [
       "(2040480, 4)"
      ]
     },
     "execution_count": 11,
     "metadata": {},
     "output_type": "execute_result"
    }
   ],
   "source": [
    "soft_data.shape"
   ]
  },
  {
   "cell_type": "code",
   "execution_count": 12,
   "id": "bbf5c3bd",
   "metadata": {},
   "outputs": [],
   "source": [
    "data_orig = data.drop(soft + ['Timestamp'], axis=1)"
   ]
  },
  {
   "cell_type": "code",
   "execution_count": 13,
   "id": "96d42399",
   "metadata": {},
   "outputs": [
    {
     "data": {
      "text/html": [
       "<div>\n",
       "<style scoped>\n",
       "    .dataframe tbody tr th:only-of-type {\n",
       "        vertical-align: middle;\n",
       "    }\n",
       "\n",
       "    .dataframe tbody tr th {\n",
       "        vertical-align: top;\n",
       "    }\n",
       "\n",
       "    .dataframe thead th {\n",
       "        text-align: right;\n",
       "    }\n",
       "</style>\n",
       "<table border=\"1\" class=\"dataframe\">\n",
       "  <thead>\n",
       "    <tr style=\"text-align: right;\">\n",
       "      <th></th>\n",
       "      <th>35_21_1000_FC_3121.SP</th>\n",
       "      <th>35_21_1000_FC_3122</th>\n",
       "      <th>35_21_1000_FC_321.SP</th>\n",
       "      <th>35_21_1000_FI_3101</th>\n",
       "      <th>35_21_1000_FI_3130</th>\n",
       "      <th>35_21_1000_FI_326</th>\n",
       "      <th>35_21_1000_FRQ_140</th>\n",
       "      <th>35_21_1000_LC_208.OP</th>\n",
       "      <th>35_21_1000_LC_3116.OP</th>\n",
       "      <th>35_21_1000_PC_1214</th>\n",
       "      <th>...</th>\n",
       "      <th>35_21_1000_TI_3305</th>\n",
       "      <th>35_21_1000_TI_3581</th>\n",
       "      <th>CCR_CCR300_CV_3DT_H1_VAL</th>\n",
       "      <th>CCR_CCR300_CV_DT_R12_VAL</th>\n",
       "      <th>CCR_CCR300_CV_DT_R23_VAL</th>\n",
       "      <th>CCR_CCR300_CV_DT_R34_VAL</th>\n",
       "      <th>CCR_CCR300_CV_DT_R41_VAL</th>\n",
       "      <th>CCR_CCR300_CV_FI_3101PTC_VAL</th>\n",
       "      <th>CCR_CCR300_CV_PC_3180_OP_VAL</th>\n",
       "      <th>CCR_CCR300_CV_WAIT_SP_VAL</th>\n",
       "    </tr>\n",
       "  </thead>\n",
       "  <tbody>\n",
       "    <tr>\n",
       "      <th>0</th>\n",
       "      <td>0.00292</td>\n",
       "      <td>33.61328</td>\n",
       "      <td>194.0002</td>\n",
       "      <td>59.90619</td>\n",
       "      <td>2798.065</td>\n",
       "      <td>50.50889</td>\n",
       "      <td>0.0</td>\n",
       "      <td>32.18112</td>\n",
       "      <td>73.18839</td>\n",
       "      <td>335.2588</td>\n",
       "      <td>...</td>\n",
       "      <td>134.7649</td>\n",
       "      <td>25.61035</td>\n",
       "      <td>90.86990</td>\n",
       "      <td>-3.72980</td>\n",
       "      <td>-7.13281</td>\n",
       "      <td>-1.0</td>\n",
       "      <td>11.86261</td>\n",
       "      <td>59.14596</td>\n",
       "      <td>70.77777</td>\n",
       "      <td>519.1353</td>\n",
       "    </tr>\n",
       "    <tr>\n",
       "      <th>1</th>\n",
       "      <td>0.00292</td>\n",
       "      <td>33.77030</td>\n",
       "      <td>194.0002</td>\n",
       "      <td>60.26051</td>\n",
       "      <td>2826.544</td>\n",
       "      <td>50.86543</td>\n",
       "      <td>0.0</td>\n",
       "      <td>32.12791</td>\n",
       "      <td>73.41551</td>\n",
       "      <td>334.5651</td>\n",
       "      <td>...</td>\n",
       "      <td>134.8389</td>\n",
       "      <td>25.61035</td>\n",
       "      <td>90.90942</td>\n",
       "      <td>-3.72989</td>\n",
       "      <td>-7.13306</td>\n",
       "      <td>-1.0</td>\n",
       "      <td>11.86295</td>\n",
       "      <td>59.18106</td>\n",
       "      <td>70.93322</td>\n",
       "      <td>519.1353</td>\n",
       "    </tr>\n",
       "    <tr>\n",
       "      <th>2</th>\n",
       "      <td>0.00292</td>\n",
       "      <td>33.86683</td>\n",
       "      <td>194.0002</td>\n",
       "      <td>60.16202</td>\n",
       "      <td>2817.218</td>\n",
       "      <td>50.76682</td>\n",
       "      <td>0.0</td>\n",
       "      <td>32.20516</td>\n",
       "      <td>73.24171</td>\n",
       "      <td>334.8679</td>\n",
       "      <td>...</td>\n",
       "      <td>134.6192</td>\n",
       "      <td>25.61055</td>\n",
       "      <td>90.88013</td>\n",
       "      <td>-3.73050</td>\n",
       "      <td>-7.13440</td>\n",
       "      <td>-1.0</td>\n",
       "      <td>11.86490</td>\n",
       "      <td>59.16980</td>\n",
       "      <td>70.03181</td>\n",
       "      <td>519.1346</td>\n",
       "    </tr>\n",
       "    <tr>\n",
       "      <th>3</th>\n",
       "      <td>0.00292</td>\n",
       "      <td>34.00380</td>\n",
       "      <td>194.0002</td>\n",
       "      <td>60.28071</td>\n",
       "      <td>2806.594</td>\n",
       "      <td>50.84354</td>\n",
       "      <td>0.0</td>\n",
       "      <td>32.09575</td>\n",
       "      <td>73.27421</td>\n",
       "      <td>335.3974</td>\n",
       "      <td>...</td>\n",
       "      <td>134.6191</td>\n",
       "      <td>25.63477</td>\n",
       "      <td>90.87057</td>\n",
       "      <td>-3.73145</td>\n",
       "      <td>-7.13660</td>\n",
       "      <td>-1.0</td>\n",
       "      <td>11.86804</td>\n",
       "      <td>59.30387</td>\n",
       "      <td>70.46443</td>\n",
       "      <td>519.1337</td>\n",
       "    </tr>\n",
       "    <tr>\n",
       "      <th>4</th>\n",
       "      <td>0.00292</td>\n",
       "      <td>33.70545</td>\n",
       "      <td>194.0002</td>\n",
       "      <td>59.33250</td>\n",
       "      <td>2774.242</td>\n",
       "      <td>50.95883</td>\n",
       "      <td>0.0</td>\n",
       "      <td>32.10447</td>\n",
       "      <td>73.46095</td>\n",
       "      <td>334.3661</td>\n",
       "      <td>...</td>\n",
       "      <td>134.6191</td>\n",
       "      <td>25.63477</td>\n",
       "      <td>90.90518</td>\n",
       "      <td>-3.73212</td>\n",
       "      <td>-7.13818</td>\n",
       "      <td>-1.0</td>\n",
       "      <td>11.87030</td>\n",
       "      <td>59.26101</td>\n",
       "      <td>69.81942</td>\n",
       "      <td>519.1330</td>\n",
       "    </tr>\n",
       "  </tbody>\n",
       "</table>\n",
       "<p>5 rows × 59 columns</p>\n",
       "</div>"
      ],
      "text/plain": [
       "   35_21_1000_FC_3121.SP  35_21_1000_FC_3122  35_21_1000_FC_321.SP  \\\n",
       "0                0.00292            33.61328              194.0002   \n",
       "1                0.00292            33.77030              194.0002   \n",
       "2                0.00292            33.86683              194.0002   \n",
       "3                0.00292            34.00380              194.0002   \n",
       "4                0.00292            33.70545              194.0002   \n",
       "\n",
       "   35_21_1000_FI_3101  35_21_1000_FI_3130  35_21_1000_FI_326  \\\n",
       "0            59.90619            2798.065           50.50889   \n",
       "1            60.26051            2826.544           50.86543   \n",
       "2            60.16202            2817.218           50.76682   \n",
       "3            60.28071            2806.594           50.84354   \n",
       "4            59.33250            2774.242           50.95883   \n",
       "\n",
       "   35_21_1000_FRQ_140  35_21_1000_LC_208.OP  35_21_1000_LC_3116.OP  \\\n",
       "0                 0.0              32.18112               73.18839   \n",
       "1                 0.0              32.12791               73.41551   \n",
       "2                 0.0              32.20516               73.24171   \n",
       "3                 0.0              32.09575               73.27421   \n",
       "4                 0.0              32.10447               73.46095   \n",
       "\n",
       "   35_21_1000_PC_1214  ...  35_21_1000_TI_3305  35_21_1000_TI_3581  \\\n",
       "0            335.2588  ...            134.7649            25.61035   \n",
       "1            334.5651  ...            134.8389            25.61035   \n",
       "2            334.8679  ...            134.6192            25.61055   \n",
       "3            335.3974  ...            134.6191            25.63477   \n",
       "4            334.3661  ...            134.6191            25.63477   \n",
       "\n",
       "   CCR_CCR300_CV_3DT_H1_VAL  CCR_CCR300_CV_DT_R12_VAL  \\\n",
       "0                  90.86990                  -3.72980   \n",
       "1                  90.90942                  -3.72989   \n",
       "2                  90.88013                  -3.73050   \n",
       "3                  90.87057                  -3.73145   \n",
       "4                  90.90518                  -3.73212   \n",
       "\n",
       "   CCR_CCR300_CV_DT_R23_VAL  CCR_CCR300_CV_DT_R34_VAL  \\\n",
       "0                  -7.13281                      -1.0   \n",
       "1                  -7.13306                      -1.0   \n",
       "2                  -7.13440                      -1.0   \n",
       "3                  -7.13660                      -1.0   \n",
       "4                  -7.13818                      -1.0   \n",
       "\n",
       "   CCR_CCR300_CV_DT_R41_VAL  CCR_CCR300_CV_FI_3101PTC_VAL  \\\n",
       "0                  11.86261                      59.14596   \n",
       "1                  11.86295                      59.18106   \n",
       "2                  11.86490                      59.16980   \n",
       "3                  11.86804                      59.30387   \n",
       "4                  11.87030                      59.26101   \n",
       "\n",
       "   CCR_CCR300_CV_PC_3180_OP_VAL  CCR_CCR300_CV_WAIT_SP_VAL  \n",
       "0                      70.77777                   519.1353  \n",
       "1                      70.93322                   519.1353  \n",
       "2                      70.03181                   519.1346  \n",
       "3                      70.46443                   519.1337  \n",
       "4                      69.81942                   519.1330  \n",
       "\n",
       "[5 rows x 59 columns]"
      ]
     },
     "execution_count": 13,
     "metadata": {},
     "output_type": "execute_result"
    }
   ],
   "source": [
    "data_orig.head()"
   ]
  },
  {
   "cell_type": "code",
   "execution_count": 14,
   "id": "d54d22f3",
   "metadata": {},
   "outputs": [
    {
     "data": {
      "text/plain": [
       "(2040480, 64)"
      ]
     },
     "execution_count": 14,
     "metadata": {},
     "output_type": "execute_result"
    }
   ],
   "source": [
    "data.shape"
   ]
  },
  {
   "cell_type": "code",
   "execution_count": 12,
   "id": "fd921c0b",
   "metadata": {},
   "outputs": [],
   "source": []
  },
  {
   "cell_type": "code",
   "execution_count": 135,
   "id": "8a1d5249",
   "metadata": {},
   "outputs": [],
   "source": [
    "rmse = RMSELoss()\n",
    "METRICS = {'rmse': rmse, 'r2':r2_score}"
   ]
  },
  {
   "cell_type": "code",
   "execution_count": 17,
   "id": "da4aff60",
   "metadata": {},
   "outputs": [
    {
     "data": {
      "text/plain": [
       "array([[<AxesSubplot:title={'center':'35_21_1000.Q.KatKlD.1444.octanI'}>,\n",
       "        <AxesSubplot:title={'center':'35_21_1000.Q.KatKlAB.DavNpar'}>],\n",
       "       [<AxesSubplot:title={'center':'35_21_1000.Q.KatKlAB.EBen70'}>,\n",
       "        <AxesSubplot:title={'center':'35_21_1000.Q.KatKlAB.AroPf.v'}>]],\n",
       "      dtype=object)"
      ]
     },
     "execution_count": 17,
     "metadata": {},
     "output_type": "execute_result"
    },
    {
     "data": {
      "image/png": "[encoded data removed]",
      "text/plain": [
       "<Figure size 640x480 with 4 Axes>"
      ]
     },
     "metadata": {},
     "output_type": "display_data"
    }
   ],
   "source": [
    "soft_data.hist(bins=100)"
   ]
  },
  {
   "cell_type": "code",
   "execution_count": 41,
   "id": "15bad3cf",
   "metadata": {},
   "outputs": [],
   "source": [
    "class LSTM_Model(nn.Module):\n",
    "    def __init__(self, hidden_size=2):\n",
    "        super(LSTM_Model, self).__init__()\n",
    "        self.layer1 = nn.LSTM(input_size=features_num, hidden_size=hidden_size, num_layers=1, batch_first=True)\n",
    "        self.layer2 = nn.Linear(in_features=hidden_size, out_features=1)\n",
    "        \n",
    "\n",
    "    def forward(self, x):\n",
    "        x, _ = self.layer1(x) #out, cell\n",
    "        x = x[:, -1, :]\n",
    "        x = self.layer2(x)\n",
    "        return x.reshape(-1,)"
   ]
  },
  {
   "cell_type": "code",
   "execution_count": 168,
   "id": "1befe678",
   "metadata": {},
   "outputs": [],
   "source": [
    "class Conv_LSTM_Model(nn.Module):\n",
    "    def __init__(self, in_channels=30, convs_config=(10), hidden_size=50, num_features=59):\n",
    "        super(Conv_LSTM_Model, self).__init__()\n",
    "#         convs = []\n",
    "#         channels = [[in_channels]] + list(convs_config)\n",
    "#         for i, conv in enumerate(convs_config):\n",
    "#             convs.append(nn.Conv1d(channels[i][0], channels[i + 1][0], kernel_size=channels[i + 1][1]))\n",
    "#             if i != len(convs_config) - 1:\n",
    "#                 convs.append(nn.ReLU(inplace=True))\n",
    "#         self.convolutions = nn.Sequential(convs)\n",
    "#         self.convolutions = nn.Sequential(\n",
    "#             nn.Conv2d(in_channels, in_channels * 2, kernel_size=5), #(2 * in, in - k)\n",
    "#             nn.ReLU(inplace=True),\n",
    "#             nn.Conv1d(in_channels * 2, in_channels, kernel_size=5) #(in, in - 2 * k)\n",
    "#         )\n",
    "        self.conv = nn.Conv1d(num_features, 2 * num_features, kernel_size=5, stride=2) #(B, 10, )\n",
    "        self.lstm = nn.LSTM(input_size=2 * num_features, hidden_size=hidden_size, num_layers=1, batch_first=True)\n",
    "        self.linear = nn.Linear(in_features=hidden_size, out_features=1)\n",
    "        \n",
    "\n",
    "    def forward(self, x):\n",
    "        x = x.transpose(2, 1)\n",
    "        x = self.conv(x)\n",
    "        x = x.transpose(2, 1)\n",
    "        x, _ = self.lstm(x) #out, cell\n",
    "        x = x[:, -1, :]\n",
    "        x = self.linear(x)\n",
    "        return x.reshape(-1,)"
   ]
  },
  {
   "cell_type": "code",
   "execution_count": 29,
   "id": "8acbb90d",
   "metadata": {},
   "outputs": [
    {
     "name": "stdout",
     "output_type": "stream",
     "text": [
      "(867, 30, 59) (867,)\n"
     ]
    }
   ],
   "source": [
    "dataset = dataset_utils.Dataset(data_orig, soft_data[SOFT_SENSOR_NAME], delay=0, K=K, diff=False)\n",
    "dataset_x, dataset_y, scaler_y = dataset.window_view(W=30, scale_target=False)\n"
   ]
  },
  {
   "cell_type": "code",
   "execution_count": 31,
   "id": "5cc0d214",
   "metadata": {},
   "outputs": [
    {
     "name": "stdout",
     "output_type": "stream",
     "text": [
      "<class 'torch.device'> cuda:1\n"
     ]
    }
   ],
   "source": [
    "device = torch.device('cpu')\n",
    "if torch.cuda.is_available():\n",
    "    device = torch.device('cuda', 1)\n",
    "\n",
    "print(type(device), device)"
   ]
  },
  {
   "cell_type": "code",
   "execution_count": 32,
   "id": "3774b766",
   "metadata": {},
   "outputs": [],
   "source": [
    "def r2_score(target, output):\n",
    "    if not torch.is_tensor(target):\n",
    "        target = torch.tensor(target)\n",
    "    if not torch.is_tensor(output):\n",
    "        output = torch.tensor(output)\n",
    "    target_mean = torch.mean(target)\n",
    "    ss_tot = torch.sum(torch.square(target - target_mean))\n",
    "    ss_res = torch.sum(torch.square(target - output))\n",
    "    r2 = 1 - ss_res / ss_tot\n",
    "    return r2"
   ]
  },
  {
   "cell_type": "code",
   "execution_count": 140,
   "id": "9b1ad301",
   "metadata": {},
   "outputs": [],
   "source": [
    "def apply_model(model, data_x, scaler=None):\n",
    "    model.eval()\n",
    "    with torch.no_grad():\n",
    "        if not torch.is_tensor(data_x):\n",
    "            data_x = torch.tensor(data_x)\n",
    "        inputs = data_x.float()\n",
    "        outputs = model(inputs)\n",
    "    if scaler is not None:\n",
    "        outputs = scaler.inverse_transform(outputs)\n",
    "    return outputs"
   ]
  },
  {
   "cell_type": "code",
   "execution_count": 139,
   "id": "51609d05",
   "metadata": {},
   "outputs": [],
   "source": [
    "def train_one_epoch(train_dataloader, model, loss_fn, optimizer):\n",
    "    model.train()\n",
    "    for batch in train_dataloader:\n",
    "        inputs, targets = batch\n",
    "        inputs = inputs.float()\n",
    "        targets = targets.float()\n",
    "        optimizer.zero_grad()\n",
    "        outputs = model(inputs)\n",
    "        loss = loss_fn(outputs, targets)\n",
    "        loss.backward()\n",
    "        optimizer.step()\n",
    "    return loss"
   ]
  },
  {
   "cell_type": "code",
   "execution_count": 358,
   "id": "86c26a3d",
   "metadata": {},
   "outputs": [],
   "source": [
    "def trainingCV(X, y, model=None, model_args=None, epoches=1, loss_fn=MSELoss(), \\\n",
    "             optimizer=None, batch_size=8, device='cpu', n_folds=6):\n",
    "#     X, y = [torch.tensor(tmp).to(device) for tmp in (X, y)]\n",
    "    CV_splitter = TimeSeriesSplit(n_splits=n_folds)\n",
    "    losses = {x:defaultdict(list) for x in ('train', 'valid', 'test')}\n",
    "    splitter = iter(CV_splitter.split(X))\n",
    "    next(splitter); next(splitter); next(splitter)\n",
    "    for (train_inds, test_inds) in splitter:\n",
    "        print(\"______________\")\n",
    "        train_x, train_y, test_x, test_y = X[train_inds], y[train_inds], X[test_inds], y[test_inds]\n",
    "        train_x, valid_x, train_y, valid_y = train_test_split(train_x, train_y, test_size=0.2, shuffle=False)\n",
    "        #train\n",
    "        train_dataloader = DataLoader([x for x in zip(train_x, train_y)], batch_size=batch_size, shuffle=True)\n",
    "        train_losses, trained_model = training(train_x, train_y, valid_x, valid_y, model=model(**model_args), epoches=epoches, loss_fn=loss_fn, \\\n",
    "                               optimizer=optimizer, batch_size=batch_size, device=device)\n",
    "        #test\n",
    "        test_output = apply_model(trained_model, test_x)\n",
    "        for metric_type, metric_func in METRICS.items():\n",
    "            losses['test'][metric_type].append(metric_func(test_y, test_output))\n",
    "            losses['train'][metric_type].append(train_losses['train'][metric_type])\n",
    "            losses['valid'][metric_type].append(train_losses['valid'][metric_type])\n",
    "        \n",
    "#     for (mode, dct) in losses.items():\n",
    "#         for (loss_type, lst) in dct.items():\n",
    "#             dct[loss_type] = np.mean(lst)\n",
    "    return losses\n"
   ]
  },
  {
   "cell_type": "code",
   "execution_count": 366,
   "id": "0ad0855f",
   "metadata": {},
   "outputs": [],
   "source": [
    "def training(train_x, train_y, test_x, test_y, model=None, epoches=1, loss_fn=MSELoss(), \\\n",
    "             optimizer=None, batch_size=8, device='cpu', path_log=None):\n",
    "    train_x, train_y, test_x, test_y = [torch.tensor(tmp).to(device) for tmp in (train_x, train_y, test_x, test_y)]\n",
    "    train_dataloader = DataLoader([x for x in zip(train_x, train_y)], batch_size=batch_size, shuffle=True)\n",
    "    if optimizer == None:\n",
    "        optimizer = torch.optim.SGD(model.parameters(), lr=0.0001, momentum=0.9)\n",
    "    early_stopper = EarlyStopper(patience=10, min_delta=0, path=None)\n",
    "    model.to(device)\n",
    "    losses = {x:defaultdict(list) for x in ('train', 'valid', 'test')}\n",
    "    best_epoch = epoches\n",
    "    for epoch in range(epoches):\n",
    "        #train\n",
    "        loss = train_one_epoch(train_dataloader, model, loss_fn, optimizer)\n",
    "        #valid\n",
    "        train_output = apply_model(model, train_x)\n",
    "        test_output = apply_model(model, test_x)\n",
    "#         test_result = sc_y.inverse_transform(test_output.reshape(-1, 1)).reshape(-1)\n",
    "        for metric_type, metric_func in METRICS.items():\n",
    "            losses['train'][metric_type].append(metric_func(train_y, train_output))\n",
    "            losses['valid'][metric_type].append(metric_func(test_y, test_output))\n",
    "            \n",
    "        if early_stopper.early_stop(losses['valid']['rmse'][-1], model):\n",
    "            best_epoch = early_stopper.min_loss_epoch_number\n",
    "            print(f\"Early stopping, epochs {epoch}, best epoch {best_epoch}: R2 = {losses['valid']['r2'][best_epoch - 1]}\")\n",
    "            \n",
    "            break\n",
    "        #\n",
    "        if epoch % 10 == 0:\n",
    "            print(\"Epoch %d: train RMSE %.4f, valid RMSE %.4f, valid R2 %.4f\\n\" % (epoch, losses['train']['rmse'][-1], losses['valid']['rmse'][-1], losses['valid']['r2'][-1]))\n",
    "    #TODO save losses during epoches with path_log\n",
    "    for (mode, dct) in losses.items():\n",
    "        for (loss_type, lst) in dct.items():\n",
    "            dct[loss_type] = lst[best_epoch - 1]\n",
    "    return losses, model"
   ]
  },
  {
   "cell_type": "code",
   "execution_count": null,
   "id": "d88c6c7e",
   "metadata": {},
   "outputs": [],
   "source": []
  },
  {
   "cell_type": "code",
   "execution_count": 179,
   "id": "35dfed54",
   "metadata": {},
   "outputs": [],
   "source": [
    "def format_print(row):\n",
    "    if isinstance(row, list):\n",
    "        for r in row:\n",
    "            format_print(r)\n",
    "        return\n",
    "    train, valid, test = row[1].values()\n",
    "    print(*row[0])\n",
    "    for mode in row[1].keys():\n",
    "        print(f\"     {mode:6}: \", end=\"\")\n",
    "        for metric_type, value in row[1][mode].items():\n",
    "            print(f\"{metric_type} = {value:.03}, \", end=\"\")\n",
    "        print()\n",
    "#     print(f\"\\n     K, W, bs - {row[0]} |\\ntrain {train[0]:.3}, {train[1]:.3}, {train[1]:.3} \\nvalid {valid[0]:.3}, {valid[1]:.3}, {valid[1]:.3} \\ntest {test[0]:.3}, {test[1]:.3}, {test[2]:.3} \\n\")"
   ]
  },
  {
   "cell_type": "code",
   "execution_count": 76,
   "id": "c0ab4109",
   "metadata": {},
   "outputs": [],
   "source": [
    "from time import time"
   ]
  },
  {
   "cell_type": "code",
   "execution_count": 359,
   "id": "bd920f28",
   "metadata": {},
   "outputs": [
    {
     "data": {
      "text/plain": [
       "1701957342.004788"
      ]
     },
     "execution_count": 359,
     "metadata": {},
     "output_type": "execute_result"
    }
   ],
   "source": [
    "start = time()\n",
    "start"
   ]
  },
  {
   "cell_type": "code",
   "execution_count": 360,
   "id": "26407a52",
   "metadata": {
    "scrolled": true
   },
   "outputs": [
    {
     "name": "stdout",
     "output_type": "stream",
     "text": [
      "(1278, 16, 59) (1278,)\n",
      "______________\n",
      "Epoch 0: train RMSE 4.9270, valid RMSE 4.6743, valid R2 -36.9133\n",
      "\n",
      "Epoch 10: train RMSE 0.8617, valid RMSE 1.2194, valid R2 -1.5803\n",
      "\n",
      "Epoch 20: train RMSE 0.7383, valid RMSE 0.8917, valid R2 -0.3799\n",
      "\n",
      "Epoch 30: train RMSE 0.6876, valid RMSE 0.8107, valid R2 -0.1405\n",
      "\n",
      "Epoch 40: train RMSE 0.6586, valid RMSE 0.8176, valid R2 -0.1599\n",
      "\n",
      "Early stopping, epochs 43, best epoch 34: R2 = -0.11394757138131384\n",
      "______________\n",
      "Epoch 0: train RMSE 4.6347, valid RMSE 3.0810, valid R2 -9.0606\n",
      "\n",
      "Epoch 10: train RMSE 0.7954, valid RMSE 1.6300, valid R2 -1.8161\n",
      "\n",
      "Early stopping, epochs 12, best epoch 3: R2 = -0.43030614787842447\n",
      "______________\n",
      "Epoch 0: train RMSE 4.2020, valid RMSE 3.2155, valid R2 -9.4062\n",
      "\n",
      "Epoch 10: train RMSE 0.9128, valid RMSE 1.0381, valid R2 -0.0846\n",
      "\n",
      "Epoch 20: train RMSE 0.8255, valid RMSE 0.9274, valid R2 0.1344\n",
      "\n",
      "Epoch 30: train RMSE 0.7850, valid RMSE 0.8938, valid R2 0.1959\n",
      "\n",
      "Epoch 40: train RMSE 0.7556, valid RMSE 0.8766, valid R2 0.2266\n",
      "\n",
      "Epoch 50: train RMSE 0.7306, valid RMSE 0.8630, valid R2 0.2504\n",
      "\n",
      "Epoch 60: train RMSE 0.7083, valid RMSE 0.8572, valid R2 0.2605\n",
      "\n",
      "Epoch 70: train RMSE 0.6873, valid RMSE 0.8515, valid R2 0.2702\n",
      "\n",
      "Early stopping, epochs 80, best epoch 71: R2 = 0.27019609663450783\n"
     ]
    }
   ],
   "source": [
    "Ks = [120]# [60, 120, 240]\n",
    "Ws = [16] #[16, 32] \n",
    "batch_size = [8] #[4, 8] \n",
    "results_str = \"\"\n",
    "res = defaultdict(dict)\n",
    "EPOCHES = 100\n",
    "scaler_y = None\n",
    "best_model = None\n",
    "for K in Ks:\n",
    "    dataset = dataset_utils.Dataset(data_orig, soft_data[SOFT_SENSOR_NAME], delay=0, K=K, diff=False)\n",
    "    for W in Ws:\n",
    "        dataset_x, dataset_y, _ = dataset.window_view(W=W, scale_target=False)\n",
    "        assert(dataset_x.shape[0] == dataset_y.shape[0])\n",
    "        features_num = dataset_x.shape[-1]\n",
    "        train_x, test_x, train_y, trest_y = train_test_split(dataset_x, dataset_y, test_size=0.30, shuffle=False, random_state=SEED)\n",
    "#         train_x, valid_x, train_y, valid_y = train_test_split(train_x, train_y, test_size=0.17, shuffle=False, random_state=SEED)\n",
    "        if scaler_y is not None:\n",
    "            restored_train_y, restored_valid_y, restored_test_y = [scaler_y.inverse_transform(tmp) for tmp in (train_y, valid_y, test_y)]\n",
    "        model_args = {'hidden_size':100}\n",
    "        for bs in batch_size:\n",
    "            losses = trainingCV(train_x, train_y, model=LSTM_Model, model_args=model_args, \\\n",
    "                     epoches=EPOCHES, batch_size=bs, n_folds=6)\n",
    "#             best_model = LSTM_Model(**model_args)\n",
    "#             best_model.load_state_dict(torch.load(MODEL_PATH))\n",
    "            \n",
    "#             res[K][(W, bs)] = {'train': (train_rmse, train_r2, train_mape), 'valid': (valid_rmse, valid_r2, valid_mape), 'test':(test_rmse, test_r2, test_mape)}\n",
    "            res[K][(W, bs)] = losses"
   ]
  },
  {
   "cell_type": "code",
   "execution_count": 361,
   "id": "96b55740",
   "metadata": {},
   "outputs": [],
   "source": [
    "fin = time()"
   ]
  },
  {
   "cell_type": "code",
   "execution_count": 362,
   "id": "a96acefa",
   "metadata": {},
   "outputs": [
    {
     "data": {
      "text/plain": [
       "1.0"
      ]
     },
     "execution_count": 362,
     "metadata": {},
     "output_type": "execute_result"
    }
   ],
   "source": [
    "(fin - start) // 60"
   ]
  },
  {
   "cell_type": "code",
   "execution_count": 363,
   "id": "6e892c05",
   "metadata": {},
   "outputs": [
    {
     "data": {
      "image/png": "[encoded data removed]",
      "text/plain": [
       "<Figure size 640x480 with 1 Axes>"
      ]
     },
     "metadata": {},
     "output_type": "display_data"
    }
   ],
   "source": [
    "n = 3\n",
    "for (K, dct) in res.items():\n",
    "    for (param, value) in dct.items():\n",
    "        plt.bar(np.arange(n), [x for x in value['test']['r2']]) \n",
    "        plt.title(\" \".join([str(x) for x in param]))\n",
    "        plt.show()"
   ]
  },
  {
   "cell_type": "code",
   "execution_count": 364,
   "id": "9b03bfbf",
   "metadata": {},
   "outputs": [],
   "source": [
    "for K in res.keys():\n",
    "    for (param, losses) in res[K].items():\n",
    "        for (mode, dct) in losses.items():\n",
    "            for (loss_type, lst) in dct.items():\n",
    "                dct[loss_type] = np.mean(lst)"
   ]
  },
  {
   "cell_type": "code",
   "execution_count": 365,
   "id": "dae1f097",
   "metadata": {},
   "outputs": [
    {
     "name": "stdout",
     "output_type": "stream",
     "text": [
      "\n",
      "K = 120\n",
      "16 8\n",
      "     train : rmse = 0.98, r2 = -0.0343, \n",
      "     valid : rmse = 0.938, r2 = -0.0914, \n",
      "     test  : rmse = 1.27, r2 = -0.622, \n",
      "\n",
      "\n",
      "\n",
      "120 16 8\n",
      "     train : rmse = 0.98, r2 = -0.0343, \n",
      "     valid : rmse = 0.938, r2 = -0.0914, \n",
      "     test  : rmse = 1.27, r2 = -0.622, \n"
     ]
    }
   ],
   "source": [
    "best = {}\n",
    "for K in res.keys():\n",
    "    print(\"\\nK =\", K)\n",
    "    tmp = sorted(res[K].items(), key=lambda x: x[1]['valid']['rmse'], reverse=True)[0]\n",
    "    best[K] = tmp\n",
    "    format_print(tmp)\n",
    "print(\"\\n\\n\")\n",
    "top = sorted(best.items(), key=lambda x: x[1][1]['test']['rmse'], reverse=True)[0]\n",
    "format_print((tuple([top[0]]) + top[1][0], top[1][1]))\n",
    "# format_print(sorted(best, key=lambda x: x[1]['test'][1], reverse=True)[:1])\n",
    "# format_print(sorted(best, key=lambda x: x[1]['test'][2], reverse=False)[0])"
   ]
  },
  {
   "cell_type": "code",
   "execution_count": null,
   "id": "60166c1c",
   "metadata": {},
   "outputs": [],
   "source": []
  },
  {
   "cell_type": "code",
   "execution_count": null,
   "id": "9ba484d8",
   "metadata": {},
   "outputs": [],
   "source": []
  },
  {
   "cell_type": "code",
   "execution_count": null,
   "id": "c906e36f",
   "metadata": {},
   "outputs": [],
   "source": []
  },
  {
   "cell_type": "code",
   "execution_count": null,
   "id": "99699d88",
   "metadata": {},
   "outputs": [],
   "source": []
  },
  {
   "cell_type": "code",
   "execution_count": null,
   "id": "c28539fc",
   "metadata": {},
   "outputs": [],
   "source": []
  },
  {
   "cell_type": "code",
   "execution_count": null,
   "id": "f2632243",
   "metadata": {},
   "outputs": [],
   "source": []
  },
  {
   "cell_type": "code",
   "execution_count": null,
   "id": "e22a2b7b",
   "metadata": {},
   "outputs": [],
   "source": []
  },
  {
   "cell_type": "code",
   "execution_count": null,
   "id": "e7091d81",
   "metadata": {},
   "outputs": [],
   "source": []
  },
  {
   "cell_type": "code",
   "execution_count": null,
   "id": "90dbc34a",
   "metadata": {},
   "outputs": [],
   "source": []
  },
  {
   "cell_type": "code",
   "execution_count": 134,
   "id": "d7f20d2b",
   "metadata": {},
   "outputs": [
    {
     "data": {
      "text/plain": [
       "<matplotlib.legend.Legend at 0x7f16f0c7a400>"
      ]
     },
     "execution_count": 134,
     "metadata": {},
     "output_type": "execute_result"
    },
    {
     "data": {
      "image/png": "[encoded data removed]",
      "text/plain": [
       "<Figure size 640x480 with 1 Axes>"
      ]
     },
     "metadata": {},
     "output_type": "display_data"
    }
   ],
   "source": [
    "START = 5\n",
    "plt.plot(list(best.values())[0][1]['train']['rmse'][START:], label='train')\n",
    "plt.plot(list(best.values())[0][1]['valid']['rmse'][START:], label='valid')\n",
    "plt.plot(list(best.values())[0][1]['test']['rmse'][START:], label='test')\n",
    "plt.legend()"
   ]
  },
  {
   "cell_type": "code",
   "execution_count": 297,
   "id": "900175e7",
   "metadata": {},
   "outputs": [
    {
     "data": {
      "text/plain": [
       "[<matplotlib.lines.Line2D at 0x7f16d8f633a0>]"
      ]
     },
     "execution_count": 297,
     "metadata": {},
     "output_type": "execute_result"
    },
    {
     "data": {
      "image/png": "[encoded data removed]",
      "text/plain": [
       "<Figure size 640x480 with 1 Axes>"
      ]
     },
     "metadata": {},
     "output_type": "display_data"
    }
   ],
   "source": [
    "plt.plot(dataset_x[:, 0, 8])\n",
    "a = np.zeros(1300)\n",
    "a[:] = -2\n",
    "plt.plot(np.arange(1300), a)"
   ]
  },
  {
   "cell_type": "code",
   "execution_count": null,
   "id": "65694945",
   "metadata": {},
   "outputs": [],
   "source": []
  }
 ],
 "metadata": {
  "kernelspec": {
   "display_name": "anna",
   "language": "python",
   "name": "anna"
  },
  "language_info": {
   "codemirror_mode": {
    "name": "ipython",
    "version": 3
   },
   "file_extension": ".py",
   "mimetype": "text/x-python",
   "name": "python",
   "nbconvert_exporter": "python",
   "pygments_lexer": "ipython3",
   "version": "3.9.15"
  }
 },
 "nbformat": 4,
 "nbformat_minor": 5
}
